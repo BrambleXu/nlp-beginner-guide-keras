{
 "cells": [
  {
   "cell_type": "code",
   "execution_count": 1,
   "metadata": {},
   "outputs": [
    {
     "name": "stderr",
     "output_type": "stream",
     "text": [
      "Using TensorFlow backend.\n"
     ]
    }
   ],
   "source": [
    "import pandas as pd\n",
    "import numpy as np\n",
    "from keras.models import Model\n",
    "from keras.layers import Input, LSTM, Dense\n",
    "from keras.callbacks import EarlyStopping"
   ]
  },
  {
   "cell_type": "code",
   "execution_count": 2,
   "metadata": {},
   "outputs": [],
   "source": [
    "df = pd.read_csv('../data/eng-katakana.csv', header=None, names=['eng', 'katakana'])"
   ]
  },
  {
   "cell_type": "code",
   "execution_count": 3,
   "metadata": {},
   "outputs": [
    {
     "data": {
      "text/html": [
       "<div>\n",
       "<style scoped>\n",
       "    .dataframe tbody tr th:only-of-type {\n",
       "        vertical-align: middle;\n",
       "    }\n",
       "\n",
       "    .dataframe tbody tr th {\n",
       "        vertical-align: top;\n",
       "    }\n",
       "\n",
       "    .dataframe thead th {\n",
       "        text-align: right;\n",
       "    }\n",
       "</style>\n",
       "<table border=\"1\" class=\"dataframe\">\n",
       "  <thead>\n",
       "    <tr style=\"text-align: right;\">\n",
       "      <th></th>\n",
       "      <th>eng</th>\n",
       "      <th>katakana</th>\n",
       "    </tr>\n",
       "  </thead>\n",
       "  <tbody>\n",
       "    <tr>\n",
       "      <th>0</th>\n",
       "      <td>Unschooling</td>\n",
       "      <td>アンスクーリング</td>\n",
       "    </tr>\n",
       "    <tr>\n",
       "      <th>1</th>\n",
       "      <td>Lovosice</td>\n",
       "      <td>ロヴォシツェ</td>\n",
       "    </tr>\n",
       "    <tr>\n",
       "      <th>2</th>\n",
       "      <td>Milch</td>\n",
       "      <td>ミルヒ</td>\n",
       "    </tr>\n",
       "    <tr>\n",
       "      <th>3</th>\n",
       "      <td>Juva</td>\n",
       "      <td>ユヴァ</td>\n",
       "    </tr>\n",
       "    <tr>\n",
       "      <th>4</th>\n",
       "      <td>Brembilla</td>\n",
       "      <td>ブレンビッラ</td>\n",
       "    </tr>\n",
       "  </tbody>\n",
       "</table>\n",
       "</div>"
      ],
      "text/plain": [
       "           eng  katakana\n",
       "0  Unschooling  アンスクーリング\n",
       "1     Lovosice    ロヴォシツェ\n",
       "2        Milch       ミルヒ\n",
       "3         Juva       ユヴァ\n",
       "4    Brembilla    ブレンビッラ"
      ]
     },
     "execution_count": 3,
     "metadata": {},
     "output_type": "execute_result"
    }
   ],
   "source": [
    "df.head()"
   ]
  },
  {
   "cell_type": "code",
   "execution_count": 4,
   "metadata": {},
   "outputs": [
    {
     "data": {
      "text/plain": [
       "(107261, 2)"
      ]
     },
     "execution_count": 4,
     "metadata": {},
     "output_type": "execute_result"
    }
   ],
   "source": [
    "df.shape"
   ]
  },
  {
   "cell_type": "code",
   "execution_count": 5,
   "metadata": {},
   "outputs": [
    {
     "data": {
      "text/plain": [
       "array([['Unschooling', 'アンスクーリング'],\n",
       "       ['Lovosice', 'ロヴォシツェ'],\n",
       "       ['Milch', 'ミルヒ'],\n",
       "       ...,\n",
       "       ['Buckwheat Zydeco', 'バックウィート・ザディコ'],\n",
       "       ['Castaway Cay', 'キャスタウェイ・ケイ'],\n",
       "       ['Astatine', 'アスタチン']], dtype=object)"
      ]
     },
     "execution_count": 5,
     "metadata": {},
     "output_type": "execute_result"
    }
   ],
   "source": [
    "df.values"
   ]
  },
  {
   "cell_type": "code",
   "execution_count": 6,
   "metadata": {},
   "outputs": [],
   "source": [
    "input_texts = list(df['eng'].values)"
   ]
  },
  {
   "cell_type": "code",
   "execution_count": 7,
   "metadata": {},
   "outputs": [],
   "source": [
    "input_characters = set()\n",
    "for name in input_texts:\n",
    "    for char in name:\n",
    "        if char not in input_characters:\n",
    "            input_characters.add(char)\n",
    "input_characters = sorted(list(input_characters))"
   ]
  },
  {
   "cell_type": "code",
   "execution_count": 8,
   "metadata": {},
   "outputs": [
    {
     "name": "stdout",
     "output_type": "stream",
     "text": [
      "['Unschooling', 'Lovosice', 'Milch', 'Juva', 'Brembilla']\n",
      "78\n",
      "[' ', '0', '1', '2', '3', '4', '5', '6', '7', '8', '9', 'A', 'B', 'C', 'D', 'E', 'F', 'G', 'H', 'I', 'J', 'K', 'L', 'M', 'N', 'O', 'P', 'Q', 'R', 'S', 'T', 'U', 'V', 'W', 'X', 'Y', 'Z', 'a', 'b', 'c', 'd', 'e', 'f', 'g', 'h', 'i', 'j', 'k', 'l', 'm', 'n', 'o', 'p', 'q', 'r', 's', 't', 'u', 'v', 'w', 'x', 'y', 'z', 'ê', 'ò', 'ó', 'õ', 'ù', 'ú', 'ü', 'ý', 'þ', 'ļ', 'ľ', 'ŵ', 'ź', 'ż', 'ž']\n"
     ]
    }
   ],
   "source": [
    "print(input_texts[:5])\n",
    "print(len(input_characters))\n",
    "print(input_characters)"
   ]
  },
  {
   "cell_type": "code",
   "execution_count": 9,
   "metadata": {},
   "outputs": [],
   "source": [
    "target_texts = list(df['katakana'].values)"
   ]
  },
  {
   "cell_type": "code",
   "execution_count": 10,
   "metadata": {},
   "outputs": [
    {
     "data": {
      "text/plain": [
       "'アンスクーリング'"
      ]
     },
     "execution_count": 10,
     "metadata": {},
     "output_type": "execute_result"
    }
   ],
   "source": [
    "target_texts[0]"
   ]
  },
  {
   "cell_type": "code",
   "execution_count": 11,
   "metadata": {},
   "outputs": [
    {
     "name": "stdout",
     "output_type": "stream",
     "text": [
      "['アンスクーリング', 'ロヴォシツェ', 'ミルヒ']\n",
      "['\\tアンスクーリング\\n', '\\tロヴォシツェ\\n', '\\tミルヒ\\n']\n"
     ]
    }
   ],
   "source": [
    "example = target_texts[:3]\n",
    "print(example)\n",
    "example = ['\\t' + text + '\\n' for text in example]\n",
    "print(example)"
   ]
  },
  {
   "cell_type": "code",
   "execution_count": 12,
   "metadata": {},
   "outputs": [],
   "source": [
    "# Add \\t and \\n to target_texts\n",
    "target_texts = ['\\t' + text + '\\n' for text in target_texts]    "
   ]
  },
  {
   "cell_type": "code",
   "execution_count": 13,
   "metadata": {},
   "outputs": [],
   "source": [
    "target_characters = set()\n",
    "for name in target_texts:\n",
    "    for char in name:\n",
    "        if char not in target_characters:\n",
    "            target_characters.add(char)\n",
    "target_characters = sorted(list(target_characters))"
   ]
  },
  {
   "cell_type": "code",
   "execution_count": 14,
   "metadata": {},
   "outputs": [
    {
     "name": "stdout",
     "output_type": "stream",
     "text": [
      "['\\tアンスクーリング\\n', '\\tロヴォシツェ\\n', '\\tミルヒ\\n', '\\tユヴァ\\n', '\\tブレンビッラ\\n']\n",
      "89\n",
      "['\\t', '\\n', ' ', 'ァ', 'ア', 'ィ', 'イ', 'ゥ', 'ウ', 'ェ', 'エ', 'ォ', 'オ', 'カ', 'ガ', 'キ', 'ギ', 'ク', 'グ', 'ケ', 'ゲ', 'コ', 'ゴ', 'サ', 'ザ', 'シ', 'ジ', 'ス', 'ズ', 'セ', 'ゼ', 'ソ', 'ゾ', 'タ', 'ダ', 'チ', 'ヂ', 'ッ', 'ツ', 'ヅ', 'テ', 'デ', 'ト', 'ド', 'ナ', 'ニ', 'ヌ', 'ネ', 'ノ', 'ハ', 'バ', 'パ', 'ヒ', 'ビ', 'ピ', 'フ', 'ブ', 'プ', 'ヘ', 'ベ', 'ペ', 'ホ', 'ボ', 'ポ', 'マ', 'ミ', 'ム', 'メ', 'モ', 'ャ', 'ヤ', 'ュ', 'ユ', 'ョ', 'ヨ', 'ラ', 'リ', 'ル', 'レ', 'ロ', 'ヮ', 'ワ', 'ヰ', 'ヱ', 'ヲ', 'ン', 'ヴ', '・', 'ー']\n"
     ]
    }
   ],
   "source": [
    "print(target_texts[:5])\n",
    "print(len(target_characters))\n",
    "print(target_characters)"
   ]
  },
  {
   "cell_type": "code",
   "execution_count": 15,
   "metadata": {},
   "outputs": [],
   "source": [
    "num_encoder_tokens = len(input_characters)\n",
    "num_decoder_tokens = len(target_characters)\n",
    "max_encoder_seq_length = max([len(name) for name in input_texts])\n",
    "max_decoder_seq_length = max([len(name) for name in target_texts])"
   ]
  },
  {
   "cell_type": "code",
   "execution_count": 16,
   "metadata": {},
   "outputs": [
    {
     "name": "stdout",
     "output_type": "stream",
     "text": [
      "Number of samples: 107261\n",
      "Number of unique input tokens: 78\n",
      "Number of unique output tokens: 89\n",
      "Max sequence length for inputs: 85\n",
      "Max sequence length for outputs: 47\n"
     ]
    }
   ],
   "source": [
    "print('Number of samples:', len(input_texts))\n",
    "print('Number of unique input tokens:', num_encoder_tokens)\n",
    "print('Number of unique output tokens:', num_decoder_tokens)\n",
    "print('Max sequence length for inputs:', max_encoder_seq_length)\n",
    "print('Max sequence length for outputs:', max_decoder_seq_length)"
   ]
  },
  {
   "cell_type": "code",
   "execution_count": 17,
   "metadata": {},
   "outputs": [
    {
     "name": "stdout",
     "output_type": "stream",
     "text": [
      "Taumatawhakatangihangakoauauotamateaturipukakapikimaungahoronukupokaiwhenuakitanatahu\n",
      "85\n",
      "98703\n"
     ]
    }
   ],
   "source": [
    "# find which name has length 85\n",
    "for name in input_texts:\n",
    "    if len(name) > 80:\n",
    "        print(name)\n",
    "        print(len(name))\n",
    "        print(input_texts.index(name))"
   ]
  },
  {
   "cell_type": "code",
   "execution_count": 18,
   "metadata": {},
   "outputs": [
    {
     "data": {
      "text/plain": [
       "'\\tタウマタファカタンギハンガコアウアウオタマテアポカイフェヌアキタナタフ\\n'"
      ]
     },
     "execution_count": 18,
     "metadata": {},
     "output_type": "execute_result"
    }
   ],
   "source": [
    "target_texts[98703]"
   ]
  },
  {
   "cell_type": "code",
   "execution_count": 19,
   "metadata": {},
   "outputs": [],
   "source": [
    "# Token to index dictionary\n",
    "input_token_index = dict((char, i) for i, char in enumerate(input_characters))\n",
    "target_token_index = dict((char, i) for i, char in enumerate(target_characters))"
   ]
  },
  {
   "cell_type": "code",
   "execution_count": 20,
   "metadata": {},
   "outputs": [
    {
     "name": "stdout",
     "output_type": "stream",
     "text": [
      "{' ': 0, '0': 1, '1': 2, '2': 3, '3': 4, '4': 5, '5': 6, '6': 7, '7': 8, '8': 9, '9': 10, 'A': 11, 'B': 12, 'C': 13, 'D': 14, 'E': 15, 'F': 16, 'G': 17, 'H': 18, 'I': 19, 'J': 20, 'K': 21, 'L': 22, 'M': 23, 'N': 24, 'O': 25, 'P': 26, 'Q': 27, 'R': 28, 'S': 29, 'T': 30, 'U': 31, 'V': 32, 'W': 33, 'X': 34, 'Y': 35, 'Z': 36, 'a': 37, 'b': 38, 'c': 39, 'd': 40, 'e': 41, 'f': 42, 'g': 43, 'h': 44, 'i': 45, 'j': 46, 'k': 47, 'l': 48, 'm': 49, 'n': 50, 'o': 51, 'p': 52, 'q': 53, 'r': 54, 's': 55, 't': 56, 'u': 57, 'v': 58, 'w': 59, 'x': 60, 'y': 61, 'z': 62, 'ê': 63, 'ò': 64, 'ó': 65, 'õ': 66, 'ù': 67, 'ú': 68, 'ü': 69, 'ý': 70, 'þ': 71, 'ļ': 72, 'ľ': 73, 'ŵ': 74, 'ź': 75, 'ż': 76, 'ž': 77}\n",
      "{'\\t': 0, '\\n': 1, ' ': 2, 'ァ': 3, 'ア': 4, 'ィ': 5, 'イ': 6, 'ゥ': 7, 'ウ': 8, 'ェ': 9, 'エ': 10, 'ォ': 11, 'オ': 12, 'カ': 13, 'ガ': 14, 'キ': 15, 'ギ': 16, 'ク': 17, 'グ': 18, 'ケ': 19, 'ゲ': 20, 'コ': 21, 'ゴ': 22, 'サ': 23, 'ザ': 24, 'シ': 25, 'ジ': 26, 'ス': 27, 'ズ': 28, 'セ': 29, 'ゼ': 30, 'ソ': 31, 'ゾ': 32, 'タ': 33, 'ダ': 34, 'チ': 35, 'ヂ': 36, 'ッ': 37, 'ツ': 38, 'ヅ': 39, 'テ': 40, 'デ': 41, 'ト': 42, 'ド': 43, 'ナ': 44, 'ニ': 45, 'ヌ': 46, 'ネ': 47, 'ノ': 48, 'ハ': 49, 'バ': 50, 'パ': 51, 'ヒ': 52, 'ビ': 53, 'ピ': 54, 'フ': 55, 'ブ': 56, 'プ': 57, 'ヘ': 58, 'ベ': 59, 'ペ': 60, 'ホ': 61, 'ボ': 62, 'ポ': 63, 'マ': 64, 'ミ': 65, 'ム': 66, 'メ': 67, 'モ': 68, 'ャ': 69, 'ヤ': 70, 'ュ': 71, 'ユ': 72, 'ョ': 73, 'ヨ': 74, 'ラ': 75, 'リ': 76, 'ル': 77, 'レ': 78, 'ロ': 79, 'ヮ': 80, 'ワ': 81, 'ヰ': 82, 'ヱ': 83, 'ヲ': 84, 'ン': 85, 'ヴ': 86, '・': 87, 'ー': 88}\n"
     ]
    }
   ],
   "source": [
    "print(input_token_index)\n",
    "print(target_token_index)"
   ]
  },
  {
   "cell_type": "code",
   "execution_count": 21,
   "metadata": {},
   "outputs": [],
   "source": [
    "encoder_input_data = np.zeros(\n",
    "    (len(input_texts), max_encoder_seq_length, num_encoder_tokens),\n",
    "    dtype='float32')\n",
    "decoder_input_data = np.zeros(\n",
    "    (len(input_texts), max_decoder_seq_length, num_decoder_tokens),\n",
    "    dtype='float32')\n",
    "decoder_target_data = np.zeros(\n",
    "    (len(input_texts), max_decoder_seq_length, num_decoder_tokens),\n",
    "    dtype='float32')"
   ]
  },
  {
   "cell_type": "code",
   "execution_count": 22,
   "metadata": {},
   "outputs": [
    {
     "name": "stdout",
     "output_type": "stream",
     "text": [
      "[[0. 0. 0. ... 0. 0. 0.]\n",
      " [0. 0. 0. ... 0. 0. 0.]\n",
      " [0. 0. 0. ... 0. 0. 0.]\n",
      " ...\n",
      " [0. 0. 0. ... 0. 0. 0.]\n",
      " [0. 0. 0. ... 0. 0. 0.]\n",
      " [0. 0. 0. ... 0. 0. 0.]]\n"
     ]
    }
   ],
   "source": [
    "print(encoder_input_data[0])"
   ]
  },
  {
   "cell_type": "code",
   "execution_count": 23,
   "metadata": {},
   "outputs": [],
   "source": [
    "for i, (input_text, target_text) in enumerate(zip(input_texts, target_texts)):\n",
    "    for t, char in enumerate(input_text):\n",
    "        encoder_input_data[i, t, input_token_index[char]] = 1.\n",
    "    for t, char in enumerate(target_text):\n",
    "        # decoder_target_data is ahead of decoder_input_data by one timestep\n",
    "        decoder_input_data[i, t, target_token_index[char]] = 1.\n",
    "        if t > 0:\n",
    "            # decoder_target_data will be ahead by one timestep\n",
    "            # and will not include the start character.\n",
    "            decoder_target_data[i, t - 1, target_token_index[char]] = 1."
   ]
  },
  {
   "cell_type": "code",
   "execution_count": null,
   "metadata": {},
   "outputs": [],
   "source": []
  },
  {
   "cell_type": "code",
   "execution_count": 24,
   "metadata": {},
   "outputs": [],
   "source": [
    "batch_size = 64  # Batch size for training.\n",
    "epochs = 100  # Number of epochs to train for.\n",
    "latent_dim = 256  # Latent dimensionality of the encoding space."
   ]
  },
  {
   "cell_type": "code",
   "execution_count": 25,
   "metadata": {},
   "outputs": [],
   "source": [
    "# Define an input sequence and process it.\n",
    "encoder_inputs = Input(shape=(None, num_encoder_tokens))\n",
    "encoder = LSTM(latent_dim, return_state=True)\n",
    "encoder_outputs, state_h, state_c = encoder(encoder_inputs)\n",
    "# We discard `encoder_outputs` and only keep the states.\n",
    "encoder_states = [state_h, state_c]\n",
    "\n",
    "# Set up the decoder, using `encoder_states` as initial state.\n",
    "decoder_inputs = Input(shape=(None, num_decoder_tokens))\n",
    "# We set up our decoder to return full output sequences,\n",
    "# and to return internal states as well. We don't use the\n",
    "# return states in the training model, but we will use them in inference.\n",
    "decoder_lstm = LSTM(latent_dim, return_sequences=True, return_state=True)\n",
    "decoder_outputs, _, _ = decoder_lstm(decoder_inputs,\n",
    "                                     initial_state=encoder_states)\n",
    "decoder_dense = Dense(num_decoder_tokens, activation='softmax')\n",
    "decoder_outputs = decoder_dense(decoder_outputs)"
   ]
  },
  {
   "cell_type": "code",
   "execution_count": 26,
   "metadata": {},
   "outputs": [],
   "source": [
    "# Define the model that will turn\n",
    "# `encoder_input_data` & `decoder_input_data` into `decoder_target_data`\n",
    "model = Model([encoder_inputs, decoder_inputs], decoder_outputs)\n",
    "model.compile(optimizer='rmsprop', loss='categorical_crossentropy')"
   ]
  },
  {
   "cell_type": "markdown",
   "metadata": {},
   "source": [
    "Becasue training this model on a CPU takes too loog, so here we just train it 2 epoches to see the result. And we will train it on GPU and using early stopping. "
   ]
  },
  {
   "cell_type": "code",
   "execution_count": 27,
   "metadata": {},
   "outputs": [
    {
     "name": "stdout",
     "output_type": "stream",
     "text": [
      "Train on 85808 samples, validate on 21453 samples\n",
      "Epoch 1/2\n",
      "85808/85808 [==============================] - 605s 7ms/step - loss: 0.6213 - val_loss: 0.5954\n",
      "Epoch 2/2\n",
      "85808/85808 [==============================] - 531s 6ms/step - loss: 0.5690 - val_loss: 0.5723\n"
     ]
    },
    {
     "data": {
      "text/plain": [
       "<keras.callbacks.History at 0x19afa5c208>"
      ]
     },
     "execution_count": 27,
     "metadata": {},
     "output_type": "execute_result"
    }
   ],
   "source": [
    "# Run training\n",
    "earlystopper = EarlyStopping(monitor='val_loss', patience=5, verbose=1)\n",
    "\n",
    "model.fit([encoder_input_data, decoder_input_data], decoder_target_data,\n",
    "          batch_size=batch_size,\n",
    "          epochs=2,\n",
    "          validation_split=0.2,\n",
    "          callbacks=[earlystopper])"
   ]
  },
  {
   "cell_type": "code",
   "execution_count": 82,
   "metadata": {},
   "outputs": [
    {
     "name": "stdout",
     "output_type": "stream",
     "text": [
      "__________________________________________________________________________________________________\n",
      "Layer (type)                    Output Shape         Param #     Connected to                     \n",
      "==================================================================================================\n",
      "input_2 (InputLayer)            (None, None, 78)     0                                            \n",
      "__________________________________________________________________________________________________\n",
      "input_3 (InputLayer)            (None, None, 87)     0                                            \n",
      "__________________________________________________________________________________________________\n",
      "lstm_1 (LSTM)                   [(None, 256), (None, 343040      input_2[0][0]                    \n",
      "__________________________________________________________________________________________________\n",
      "lstm_2 (LSTM)                   [(None, None, 256),  352256      input_3[0][0]                    \n",
      "                                                                 lstm_1[0][1]                     \n",
      "                                                                 lstm_1[0][2]                     \n",
      "__________________________________________________________________________________________________\n",
      "dense_1 (Dense)                 (None, None, 87)     22359       lstm_2[0][0]                     \n",
      "==================================================================================================\n",
      "Total params: 717,655\n",
      "Trainable params: 717,655\n",
      "Non-trainable params: 0\n",
      "__________________________________________________________________________________________________\n"
     ]
    }
   ],
   "source": [
    "model.summary()"
   ]
  },
  {
   "cell_type": "code",
   "execution_count": 28,
   "metadata": {},
   "outputs": [],
   "source": [
    "# Define sampling models\n",
    "encoder_model = Model(encoder_inputs, encoder_states)\n",
    "\n",
    "decoder_state_input_h = Input(shape=(latent_dim,))\n",
    "decoder_state_input_c = Input(shape=(latent_dim,))\n",
    "decoder_states_inputs = [decoder_state_input_h, decoder_state_input_c]\n",
    "decoder_outputs, state_h, state_c = decoder_lstm(\n",
    "    decoder_inputs, initial_state=decoder_states_inputs)\n",
    "decoder_states = [state_h, state_c]\n",
    "decoder_outputs = decoder_dense(decoder_outputs)\n",
    "decoder_model = Model(\n",
    "    [decoder_inputs] + decoder_states_inputs,\n",
    "    [decoder_outputs] + decoder_states)\n",
    "\n",
    "# Reverse-lookup token index to decode sequences back to\n",
    "# something readable.\n",
    "reverse_input_char_index = dict(\n",
    "    (i, char) for char, i in input_token_index.items())\n",
    "reverse_target_char_index = dict(\n",
    "    (i, char) for char, i in target_token_index.items())\n",
    "\n",
    "\n",
    "def decode_sequence(input_seq):\n",
    "    # Encode the input as state vectors.\n",
    "    states_value = encoder_model.predict(input_seq)\n",
    "\n",
    "    # Generate empty target sequence of length 1.\n",
    "    target_seq = np.zeros((1, 1, num_decoder_tokens))\n",
    "    # Populate the first character of target sequence with the start character.\n",
    "    target_seq[0, 0, target_token_index['\\t']] = 1.\n",
    "\n",
    "    # Sampling loop for a batch of sequences\n",
    "    # (to simplify, here we assume a batch of size 1).\n",
    "    stop_condition = False\n",
    "    decoded_sentence = ''\n",
    "    while not stop_condition:\n",
    "        output_tokens, h, c = decoder_model.predict(\n",
    "            [target_seq] + states_value)\n",
    "\n",
    "        # Sample a token\n",
    "        sampled_token_index = np.argmax(output_tokens[0, -1, :])\n",
    "        sampled_char = reverse_target_char_index[sampled_token_index]\n",
    "        decoded_sentence += sampled_char\n",
    "\n",
    "        # Exit condition: either hit max length\n",
    "        # or find stop character.\n",
    "        if (sampled_char == '\\n' or\n",
    "           len(decoded_sentence) > max_decoder_seq_length):\n",
    "            stop_condition = True\n",
    "\n",
    "        # Update the target sequence (of length 1).\n",
    "        target_seq = np.zeros((1, 1, num_decoder_tokens))\n",
    "        target_seq[0, 0, sampled_token_index] = 1.\n",
    "\n",
    "        # Update states\n",
    "        states_value = [h, c]\n",
    "\n",
    "    return decoded_sentence"
   ]
  },
  {
   "cell_type": "code",
   "execution_count": 30,
   "metadata": {},
   "outputs": [
    {
     "name": "stdout",
     "output_type": "stream",
     "text": [
      "-\n",
      "Input sentence: Unschooling\n",
      "Decoded sentence: アンドレイ・ストリー\n",
      "\n",
      "-\n",
      "Input sentence: Lovosice\n",
      "Decoded sentence: アンドレイ・ストリー\n",
      "\n",
      "-\n",
      "Input sentence: Milch\n",
      "Decoded sentence: アンドレイ・ストリー\n",
      "\n",
      "-\n",
      "Input sentence: Juva\n",
      "Decoded sentence: アンドレイ・ストリー\n",
      "\n",
      "-\n",
      "Input sentence: Brembilla\n",
      "Decoded sentence: アンドレイ・ストリー\n",
      "\n",
      "-\n",
      "Input sentence: Sa Pa\n",
      "Decoded sentence: アンドレイ・ストリー\n",
      "\n",
      "-\n",
      "Input sentence: Brumano\n",
      "Decoded sentence: アンドレイ・ストリー\n",
      "\n",
      "-\n",
      "Input sentence: Brusaporto\n",
      "Decoded sentence: アンドレイ・ストリー\n",
      "\n",
      "-\n",
      "Input sentence: Deventer\n",
      "Decoded sentence: アンドレイ・ストリー\n",
      "\n",
      "-\n",
      "Input sentence: Enschede\n",
      "Decoded sentence: アンドレイ・ストリー\n",
      "\n",
      "-\n",
      "Input sentence: Tandil\n",
      "Decoded sentence: アンドレイ・ストリー\n",
      "\n",
      "-\n",
      "Input sentence: Buckypaper\n",
      "Decoded sentence: アンドレイ・ストリー\n",
      "\n",
      "-\n",
      "Input sentence: Bastiglia\n",
      "Decoded sentence: アンドレイ・ストリー\n",
      "\n",
      "-\n",
      "Input sentence: Personalization\n",
      "Decoded sentence: アンドレイ・ストリー\n",
      "\n",
      "-\n",
      "Input sentence: Mandalgovi\n",
      "Decoded sentence: アンドレイ・ストリー\n",
      "\n",
      "-\n",
      "Input sentence: Bomporto\n",
      "Decoded sentence: アンドレイ・ストリー\n",
      "\n",
      "-\n",
      "Input sentence: Campogalliano\n",
      "Decoded sentence: アンドレイ・ストリー\n",
      "\n",
      "-\n",
      "Input sentence: Haaksbergen\n",
      "Decoded sentence: アンドレイ・ストリー\n",
      "\n",
      "-\n",
      "Input sentence: Camposanto\n",
      "Decoded sentence: アンドレイ・ストリー\n",
      "\n",
      "-\n",
      "Input sentence: Castelfranco Emilia\n",
      "Decoded sentence: アンドレイ・ストリー\n",
      "\n"
     ]
    }
   ],
   "source": [
    "for seq_index in range(20):\n",
    "    # Take one sequence (part of the training set)\n",
    "    # for trying out decoding.\n",
    "    input_seq = encoder_input_data[seq_index: seq_index + 1]\n",
    "    decoded_sentence = decode_sequence(input_seq)\n",
    "    print('-')\n",
    "    print('Input sentence:', input_texts[seq_index])\n",
    "    print('Decoded sentence:', decoded_sentence)"
   ]
  },
  {
   "cell_type": "markdown",
   "metadata": {},
   "source": [
    "### GPU training with early stopping\n",
    "\n",
    "We train the whole model on a GPU and using the CuDNNLSTM in Keras, it is very fast. And we save the weights as `s2s.h5`. \n",
    "\n",
    "\n",
    "```\n",
    "Train on 85808 samples, validate on 21453 samples\n",
    "Epoch 1/100\n",
    "85808/85808 [==============================] - 84s 975us/step - loss: 0.6239 - val_loss: 0.5950\n",
    "Epoch 2/100\n",
    "85808/85808 [==============================] - 78s 907us/step - loss: 0.5706 - val_loss: 0.5731\n",
    "Epoch 3/100\n",
    "85808/85808 [==============================] - 78s 906us/step - loss: 0.5522 - val_loss: 0.5604\n",
    "Epoch 4/100\n",
    "85808/85808 [==============================] - 77s 893us/step - loss: 0.5395 - val_loss: 0.5502\n",
    "Epoch 5/100\n",
    "85808/85808 [==============================] - 76s 889us/step - loss: 0.5298 - val_loss: 0.5439\n",
    "Epoch 6/100\n",
    "85808/85808 [==============================] - 76s 889us/step - loss: 0.5219 - val_loss: 0.5404\n",
    "Epoch 7/100\n",
    "85808/85808 [==============================] - 76s 889us/step - loss: 0.5153 - val_loss: 0.5357\n",
    "Epoch 8/100\n",
    "85808/85808 [==============================] - 76s 887us/step - loss: 0.5095 - val_loss: 0.5347\n",
    "Epoch 9/100\n",
    "85808/85808 [==============================] - 76s 888us/step - loss: 0.5044 - val_loss: 0.5327\n",
    "Epoch 10/100\n",
    "85808/85808 [==============================] - 76s 888us/step - loss: 0.4998 - val_loss: 0.5316\n",
    "Epoch 11/100\n",
    "85808/85808 [==============================] - 76s 888us/step - loss: 0.4956 - val_loss: 0.5309\n",
    "Epoch 12/100\n",
    "85808/85808 [==============================] - 76s 888us/step - loss: 0.4917 - val_loss: 0.5309\n",
    "Epoch 13/100\n",
    "85808/85808 [==============================] - 76s 888us/step - loss: 0.4882 - val_loss: 0.5310\n",
    "Epoch 14/100\n",
    "85808/85808 [==============================] - 76s 888us/step - loss: 0.4849 - val_loss: 0.5308\n",
    "Epoch 15/100\n",
    "85808/85808 [==============================] - 76s 888us/step - loss: 0.4818 - val_loss: 0.5316\n",
    "Epoch 16/100\n",
    "85808/85808 [==============================] - 76s 888us/step - loss: 0.4788 - val_loss: 0.5322\n",
    "Epoch 17/100\n",
    "85808/85808 [==============================] - 76s 887us/step - loss: 0.4761 - val_loss: 0.5337\n",
    "Epoch 00017: early stopping\n",
    "```"
   ]
  },
  {
   "cell_type": "code",
   "execution_count": 32,
   "metadata": {},
   "outputs": [],
   "source": [
    "# Define an input sequence and process it.\n",
    "encoder_inputs = Input(shape=(None, num_encoder_tokens))\n",
    "encoder = LSTM(latent_dim, return_state=True)\n",
    "encoder_outputs, state_h, state_c = encoder(encoder_inputs)\n",
    "# We discard `encoder_outputs` and only keep the states.\n",
    "encoder_states = [state_h, state_c]\n",
    "\n",
    "# Set up the decoder, using `encoder_states` as initial state.\n",
    "decoder_inputs = Input(shape=(None, num_decoder_tokens))\n",
    "# We set up our decoder to return full output sequences,\n",
    "# and to return internal states as well. We don't use the\n",
    "# return states in the training model, but we will use them in inference.\n",
    "decoder_lstm = LSTM(latent_dim, return_sequences=True, return_state=True)\n",
    "decoder_outputs, _, _ = decoder_lstm(decoder_inputs,\n",
    "                                     initial_state=encoder_states)\n",
    "decoder_dense = Dense(num_decoder_tokens, activation='softmax')\n",
    "decoder_outputs = decoder_dense(decoder_outputs)\n",
    "\n",
    "model = Model([encoder_inputs, decoder_inputs], decoder_outputs)\n",
    "model.compile(optimizer='rmsprop', loss='categorical_crossentropy')\n",
    "\n",
    "# Load wegihts from file\n",
    "model.load_weights('s2s.h5')"
   ]
  },
  {
   "cell_type": "code",
   "execution_count": 36,
   "metadata": {},
   "outputs": [
    {
     "name": "stdout",
     "output_type": "stream",
     "text": [
      "-\n",
      "Input sentence: Unschooling\n",
      "Decoded sentence: アンドレイ・ストリー\n",
      "\n",
      "-\n",
      "Input sentence: Lovosice\n",
      "Decoded sentence: アンドレイ・ストリー\n",
      "\n",
      "-\n",
      "Input sentence: Milch\n",
      "Decoded sentence: アンドレイ・ストリー\n",
      "\n",
      "-\n",
      "Input sentence: Juva\n",
      "Decoded sentence: アンドレイ・ストリー\n",
      "\n",
      "-\n",
      "Input sentence: Brembilla\n",
      "Decoded sentence: アンドレイ・ストリー\n",
      "\n",
      "-\n",
      "Input sentence: Sa Pa\n",
      "Decoded sentence: アンドレイ・ストリー\n",
      "\n",
      "-\n",
      "Input sentence: Brumano\n",
      "Decoded sentence: アンドレイ・ストリー\n",
      "\n",
      "-\n",
      "Input sentence: Brusaporto\n",
      "Decoded sentence: アンドレイ・ストリー\n",
      "\n",
      "-\n",
      "Input sentence: Deventer\n",
      "Decoded sentence: アンドレイ・ストリー\n",
      "\n",
      "-\n",
      "Input sentence: Enschede\n",
      "Decoded sentence: アンドレイ・ストリー\n",
      "\n",
      "-\n",
      "Input sentence: Tandil\n",
      "Decoded sentence: アンドレイ・ストリー\n",
      "\n",
      "-\n",
      "Input sentence: Buckypaper\n",
      "Decoded sentence: アンドレイ・ストリー\n",
      "\n",
      "-\n",
      "Input sentence: Bastiglia\n",
      "Decoded sentence: アンドレイ・ストリー\n",
      "\n",
      "-\n",
      "Input sentence: Personalization\n",
      "Decoded sentence: アンドレイ・ストリー\n",
      "\n",
      "-\n",
      "Input sentence: Mandalgovi\n",
      "Decoded sentence: アンドレイ・ストリー\n",
      "\n",
      "-\n",
      "Input sentence: Bomporto\n",
      "Decoded sentence: アンドレイ・ストリー\n",
      "\n",
      "-\n",
      "Input sentence: Campogalliano\n",
      "Decoded sentence: アンドレイ・ストリー\n",
      "\n",
      "-\n",
      "Input sentence: Haaksbergen\n",
      "Decoded sentence: アンドレイ・ストリー\n",
      "\n",
      "-\n",
      "Input sentence: Camposanto\n",
      "Decoded sentence: アンドレイ・ストリー\n",
      "\n",
      "-\n",
      "Input sentence: Castelfranco Emilia\n",
      "Decoded sentence: アンドレイ・ストリー\n",
      "\n"
     ]
    }
   ],
   "source": [
    "for seq_index in range(20):\n",
    "    # Take one sequence (part of the training set)\n",
    "    # for trying out decoding.\n",
    "    input_seq = encoder_input_data[seq_index: seq_index + 1]\n",
    "    decoded_sentence = decode_sequence(input_seq)\n",
    "    print('-')\n",
    "    print('Input sentence:', input_texts[seq_index])\n",
    "    print('Decoded sentence:', decoded_sentence)"
   ]
  },
  {
   "cell_type": "code",
   "execution_count": null,
   "metadata": {},
   "outputs": [],
   "source": []
  }
 ],
 "metadata": {
  "kernelspec": {
   "display_name": "Python [conda env:py36]",
   "language": "python",
   "name": "conda-env-py36-py"
  },
  "language_info": {
   "codemirror_mode": {
    "name": "ipython",
    "version": 3
   },
   "file_extension": ".py",
   "mimetype": "text/x-python",
   "name": "python",
   "nbconvert_exporter": "python",
   "pygments_lexer": "ipython3",
   "version": "3.6.4"
  }
 },
 "nbformat": 4,
 "nbformat_minor": 2
}
