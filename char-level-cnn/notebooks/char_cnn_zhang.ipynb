{
 "cells": [
  {
   "cell_type": "code",
   "execution_count": 1,
   "metadata": {},
   "outputs": [],
   "source": [
    "# write in train.py\n",
    "import sys, os\n",
    "sys.path.append(os.pardir)"
   ]
  },
  {
   "cell_type": "code",
   "execution_count": 2,
   "metadata": {},
   "outputs": [
    {
     "name": "stderr",
     "output_type": "stream",
     "text": [
      "Using TensorFlow backend.\n"
     ]
    }
   ],
   "source": [
    "import tensorflow as tf\n",
    "import json\n",
    "import argparse\n",
    "\n",
    "from data_utils import Data\n",
    "from models.char_cnn_zhang import CharCNNZhang\n",
    "from models.char_cnn_kim import CharCNNKim"
   ]
  },
  {
   "cell_type": "code",
   "execution_count": 3,
   "metadata": {},
   "outputs": [
    {
     "name": "stdout",
     "output_type": "stream",
     "text": [
      "Data loaded from ../data/ag_news_csv/train.csv\n",
      "Data loaded from ../data/ag_news_csv/test.csv\n"
     ]
    }
   ],
   "source": [
    "parser = argparse.ArgumentParser()\n",
    "parser.add_argument('--model', type=str, default='char_cnn_zhang', help='Specifies which model to use: char_cnn_zhang or char_cnn_kim')\n",
    "FLAGS = parser.parse_args([\"--model\", \"char_cnn_zhang\"])\n",
    "\n",
    "# Load configurations\n",
    "config = json.load(open('../config.json'))\n",
    "\n",
    "# change key from 'model' to 'char_cnn_zhang'\n",
    "model_name = config['model'] # char_cnn_zhang\n",
    "config['model'] = config[model_name]\n",
    "\n",
    "# Set the data path in order to run in the notebook \n",
    "config['data'][\"training_data_source\"] = '../data/ag_news_csv/train.csv'\n",
    "config['data'][\"validation_data_source\"] = '../data/ag_news_csv/test.csv'\n",
    "\n",
    "# Load training data\n",
    "training_data = Data(data_source=config[\"data\"][\"training_data_source\"],\n",
    "                     alphabet=config[\"data\"][\"alphabet\"],\n",
    "                     input_size=config[\"data\"][\"input_size\"],\n",
    "                     num_of_classes=config[\"data\"][\"num_of_classes\"])\n",
    "training_data.load_data()\n",
    "training_inputs, training_labels = training_data.get_all_data()\n",
    "\n",
    "# Load validation data\n",
    "validation_data = Data(data_source=config[\"data\"][\"validation_data_source\"],\n",
    "                       alphabet=config[\"data\"][\"alphabet\"],\n",
    "                       input_size=config[\"data\"][\"input_size\"],\n",
    "                       num_of_classes=config[\"data\"][\"num_of_classes\"])\n",
    "validation_data.load_data()\n",
    "validation_inputs, validation_labels = validation_data.get_all_data()\n"
   ]
  },
  {
   "cell_type": "code",
   "execution_count": 6,
   "metadata": {},
   "outputs": [
    {
     "data": {
      "text/plain": [
       "{'char_cnn_kim': {'conv_layers': [[256, 10], [256, 7], [256, 5], [256, 3]],\n",
       "  'dropout_p': 0.1,\n",
       "  'embedding_size': 128,\n",
       "  'fully_connected_layers': [1024, 1024],\n",
       "  'loss': 'categorical_crossentropy',\n",
       "  'optimizer': 'adam',\n",
       "  'threshold': 1e-06},\n",
       " 'char_cnn_zhang': {'conv_layers': [[256, 7, 3],\n",
       "   [256, 7, 3],\n",
       "   [256, 3, -1],\n",
       "   [256, 3, -1],\n",
       "   [256, 3, -1],\n",
       "   [256, 3, 3]],\n",
       "  'dropout_p': 0.5,\n",
       "  'embedding_size': 128,\n",
       "  'fully_connected_layers': [1024, 1024],\n",
       "  'loss': 'categorical_crossentropy',\n",
       "  'optimizer': 'adam',\n",
       "  'threshold': 1e-06},\n",
       " 'data': {'alphabet': 'abcdefghijklmnopqrstuvwxyz0123456789-,;.!?:\\'\"/\\\\|_@#$%^&*~`+-=<>()[]{}',\n",
       "  'alphabet_size': 69,\n",
       "  'input_size': 1014,\n",
       "  'num_of_classes': 4,\n",
       "  'training_data_source': '../data/ag_news_csv/train.csv',\n",
       "  'validation_data_source': '../data/ag_news_csv/test.csv'},\n",
       " 'model': {'conv_layers': [[256, 7, 3],\n",
       "   [256, 7, 3],\n",
       "   [256, 3, -1],\n",
       "   [256, 3, -1],\n",
       "   [256, 3, -1],\n",
       "   [256, 3, 3]],\n",
       "  'dropout_p': 0.5,\n",
       "  'embedding_size': 128,\n",
       "  'fully_connected_layers': [1024, 1024],\n",
       "  'loss': 'categorical_crossentropy',\n",
       "  'optimizer': 'adam',\n",
       "  'threshold': 1e-06},\n",
       " 'notes': 'default',\n",
       " 'training': {'batch_size': 128,\n",
       "  'checkpoint_every': 100,\n",
       "  'epochs': 5000,\n",
       "  'evaluate_every': 100}}"
      ]
     },
     "execution_count": 6,
     "metadata": {},
     "output_type": "execute_result"
    }
   ],
   "source": [
    "config"
   ]
  },
  {
   "cell_type": "code",
   "execution_count": 5,
   "metadata": {},
   "outputs": [
    {
     "data": {
      "text/plain": [
       "{'conv_layers': [[256, 7, 3],\n",
       "  [256, 7, 3],\n",
       "  [256, 3, -1],\n",
       "  [256, 3, -1],\n",
       "  [256, 3, -1],\n",
       "  [256, 3, 3]],\n",
       " 'dropout_p': 0.5,\n",
       " 'embedding_size': 128,\n",
       " 'fully_connected_layers': [1024, 1024],\n",
       " 'loss': 'categorical_crossentropy',\n",
       " 'optimizer': 'adam',\n",
       " 'threshold': 1e-06}"
      ]
     },
     "execution_count": 5,
     "metadata": {},
     "output_type": "execute_result"
    }
   ],
   "source": [
    "config['model']"
   ]
  },
  {
   "cell_type": "code",
   "execution_count": 17,
   "metadata": {},
   "outputs": [
    {
     "data": {
      "text/plain": [
       "{'alphabet': 'abcdefghijklmnopqrstuvwxyz0123456789-,;.!?:\\'\"/\\\\|_@#$%^&*~`+-=<>()[]{}',\n",
       " 'alphabet_size': 69,\n",
       " 'input_size': 1014,\n",
       " 'num_of_classes': 4,\n",
       " 'training_data_source': '../data/ag_news_csv/train.csv',\n",
       " 'validation_data_source': '../data/ag_news_csv/test.csv'}"
      ]
     },
     "execution_count": 17,
     "metadata": {},
     "output_type": "execute_result"
    }
   ],
   "source": [
    "config['data']"
   ]
  },
  {
   "cell_type": "code",
   "execution_count": 4,
   "metadata": {},
   "outputs": [],
   "source": [
    "from keras.models import Model\n",
    "from keras.layers import Input, Embedding, Conv1D, MaxPooling1D, Dense\n"
   ]
  },
  {
   "cell_type": "code",
   "execution_count": 19,
   "metadata": {},
   "outputs": [],
   "source": [
    "input_size = config['data']['input_size'] # config['data']['input_size'] = 1014\n",
    "alphabet_size = config['data']['alphabet_size'] # 69\n",
    "embedding_size = config['model']['embedding_size'] # 128"
   ]
  },
  {
   "cell_type": "code",
   "execution_count": 20,
   "metadata": {},
   "outputs": [],
   "source": [
    "# Input \n",
    "inputs = Input(shape=(input_size,), name='sent_input', dtype='int64')  # shape=(?, 1014)\n",
    "embeddings = Embedding(alphabet_size, embedding_size)"
   ]
  },
  {
   "cell_type": "code",
   "execution_count": null,
   "metadata": {},
   "outputs": [],
   "source": []
  }
 ],
 "metadata": {
  "kernelspec": {
   "display_name": "Python [conda env:py36]",
   "language": "python",
   "name": "conda-env-py36-py"
  },
  "language_info": {
   "codemirror_mode": {
    "name": "ipython",
    "version": 3
   },
   "file_extension": ".py",
   "mimetype": "text/x-python",
   "name": "python",
   "nbconvert_exporter": "python",
   "pygments_lexer": "ipython3",
   "version": "3.6.4"
  }
 },
 "nbformat": 4,
 "nbformat_minor": 2
}
