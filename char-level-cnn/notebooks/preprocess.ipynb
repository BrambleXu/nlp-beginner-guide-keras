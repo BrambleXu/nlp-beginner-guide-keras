{
 "cells": [
  {
   "cell_type": "code",
   "execution_count": 56,
   "metadata": {},
   "outputs": [],
   "source": [
    "# write in train.py\n",
    "import sys, os\n",
    "sys.path.append(os.pardir)"
   ]
  },
  {
   "cell_type": "code",
   "execution_count": 57,
   "metadata": {},
   "outputs": [],
   "source": [
    "import tensorflow as tf\n",
    "import json\n",
    "import argparse\n",
    "\n",
    "from data_utils import Data\n",
    "from models.char_cnn_zhang import CharCNNZhang\n",
    "from models.char_cnn_kim import CharCNNKim"
   ]
  },
  {
   "cell_type": "code",
   "execution_count": 61,
   "metadata": {},
   "outputs": [],
   "source": [
    "parser = argparse.ArgumentParser()\n",
    "parser.add_argument('--model', type=str, default='char_cnn_zhang', help='Specifies which model to use: char_cnn_zhang or char_cnn_kim')\n",
    "FLAGS = parser.parse_args([\"--model\", \"char_cnn_zhang\"])"
   ]
  },
  {
   "cell_type": "code",
   "execution_count": 62,
   "metadata": {},
   "outputs": [
    {
     "data": {
      "text/plain": [
       "'char_cnn_zhang'"
      ]
     },
     "execution_count": 62,
     "metadata": {},
     "output_type": "execute_result"
    }
   ],
   "source": [
    "FLAGS.model"
   ]
  },
  {
   "cell_type": "code",
   "execution_count": 59,
   "metadata": {},
   "outputs": [],
   "source": [
    "# Load configurations\n",
    "config = json.load(open('../config.json'))"
   ]
  },
  {
   "cell_type": "code",
   "execution_count": 33,
   "metadata": {},
   "outputs": [
    {
     "name": "stdout",
     "output_type": "stream",
     "text": [
      "notes default\n",
      "\n",
      "data {'alphabet': 'abcdefghijklmnopqrstuvwxyz0123456789-,;.!?:\\'\"/\\\\|_@#$%^&*~`+-=<>()[]{}', 'alphabet_size': 69, 'input_size': 1014, 'num_of_classes': 4, 'training_data_source': 'data/ag_news_csv/train.csv', 'validation_data_source': 'data/ag_news_csv/test.csv'}\n",
      "\n",
      "model {'embedding_size': 128, 'conv_layers': [[256, 7, 3], [256, 7, 3], [256, 3, -1], [256, 3, -1], [256, 3, -1], [256, 3, 3]], 'fully_connected_layers': [1024, 1024], 'threshold': 1e-06, 'dropout_p': 0.5, 'optimizer': 'adam', 'loss': 'categorical_crossentropy'}\n",
      "\n",
      "training {'epochs': 5000, 'batch_size': 128, 'evaluate_every': 100, 'checkpoint_every': 100}\n",
      "\n",
      "char_cnn_zhang {'embedding_size': 128, 'conv_layers': [[256, 7, 3], [256, 7, 3], [256, 3, -1], [256, 3, -1], [256, 3, -1], [256, 3, 3]], 'fully_connected_layers': [1024, 1024], 'threshold': 1e-06, 'dropout_p': 0.5, 'optimizer': 'adam', 'loss': 'categorical_crossentropy'}\n",
      "\n",
      "char_cnn_kim {'embedding_size': 128, 'conv_layers': [[256, 10], [256, 7], [256, 5], [256, 3]], 'fully_connected_layers': [1024, 1024], 'threshold': 1e-06, 'dropout_p': 0.1, 'optimizer': 'adam', 'loss': 'categorical_crossentropy'}\n",
      "\n"
     ]
    }
   ],
   "source": [
    "for key, value in config.items():\n",
    "    print(key, value)\n",
    "    print()"
   ]
  },
  {
   "cell_type": "code",
   "execution_count": 64,
   "metadata": {},
   "outputs": [
    {
     "data": {
      "text/plain": [
       "{'alphabet': 'abcdefghijklmnopqrstuvwxyz0123456789-,;.!?:\\'\"/\\\\|_@#$%^&*~`+-=<>()[]{}',\n",
       " 'alphabet_size': 69,\n",
       " 'input_size': 1014,\n",
       " 'num_of_classes': 4,\n",
       " 'training_data_source': 'data/ag_news_csv/train.csv',\n",
       " 'validation_data_source': 'data/ag_news_csv/test.csv'}"
      ]
     },
     "execution_count": 64,
     "metadata": {},
     "output_type": "execute_result"
    }
   ],
   "source": [
    "# See the data \n",
    "config['data']"
   ]
  },
  {
   "cell_type": "code",
   "execution_count": 65,
   "metadata": {},
   "outputs": [
    {
     "data": {
      "text/plain": [
       "128"
      ]
     },
     "execution_count": 65,
     "metadata": {},
     "output_type": "execute_result"
    }
   ],
   "source": [
    "# See the data \n",
    "config[FLAGS.model]['embedding_size']"
   ]
  },
  {
   "cell_type": "code",
   "execution_count": 66,
   "metadata": {},
   "outputs": [
    {
     "data": {
      "text/plain": [
       "'char_cnn_zhang'"
      ]
     },
     "execution_count": 66,
     "metadata": {},
     "output_type": "execute_result"
    }
   ],
   "source": [
    "model_name = config['model']\n",
    "model_name"
   ]
  },
  {
   "cell_type": "code",
   "execution_count": 67,
   "metadata": {},
   "outputs": [],
   "source": [
    "# change key from 'model' to 'char_cnn_zhang'\n",
    "config['model'] = config[model_name]"
   ]
  },
  {
   "cell_type": "code",
   "execution_count": 68,
   "metadata": {},
   "outputs": [
    {
     "data": {
      "text/plain": [
       "{'conv_layers': [[256, 7, 3],\n",
       "  [256, 7, 3],\n",
       "  [256, 3, -1],\n",
       "  [256, 3, -1],\n",
       "  [256, 3, -1],\n",
       "  [256, 3, 3]],\n",
       " 'dropout_p': 0.5,\n",
       " 'embedding_size': 128,\n",
       " 'fully_connected_layers': [1024, 1024],\n",
       " 'loss': 'categorical_crossentropy',\n",
       " 'optimizer': 'adam',\n",
       " 'threshold': 1e-06}"
      ]
     },
     "execution_count": 68,
     "metadata": {},
     "output_type": "execute_result"
    }
   ],
   "source": [
    "config['model']"
   ]
  },
  {
   "cell_type": "code",
   "execution_count": 70,
   "metadata": {},
   "outputs": [],
   "source": [
    "# Set the data path in order to run in the notebook \n",
    "config['data'][\"training_data_source\"] = '../data/ag_news_csv/train.csv'\n",
    "config['data'][\"validation_data_source\"] = '../data/ag_news_csv/test.csv'\n"
   ]
  },
  {
   "cell_type": "code",
   "execution_count": 37,
   "metadata": {},
   "outputs": [
    {
     "name": "stdout",
     "output_type": "stream",
     "text": [
      "Data loaded from ../data/ag_news_csv/train.csv\n"
     ]
    }
   ],
   "source": [
    "# Load training data\n",
    "training_data = Data(data_source=config[\"data\"][\"training_data_source\"],\n",
    "                     alphabet=config[\"data\"][\"alphabet\"],\n",
    "                     input_size=config[\"data\"][\"input_size\"],\n",
    "                     num_of_classes=config[\"data\"][\"num_of_classes\"])\n",
    "training_data.load_data()\n",
    "training_inputs, training_labels = training_data.get_all_data()"
   ]
  },
  {
   "cell_type": "code",
   "execution_count": 40,
   "metadata": {},
   "outputs": [
    {
     "data": {
      "text/plain": [
       "(120000, 1014)"
      ]
     },
     "execution_count": 40,
     "metadata": {},
     "output_type": "execute_result"
    }
   ],
   "source": [
    "training_inputs.shape"
   ]
  },
  {
   "cell_type": "code",
   "execution_count": 39,
   "metadata": {},
   "outputs": [
    {
     "data": {
      "text/plain": [
       "array([[0, 0, 1, 0],\n",
       "       [0, 0, 1, 0],\n",
       "       [0, 0, 1, 0],\n",
       "       ...,\n",
       "       [0, 1, 0, 0],\n",
       "       [0, 1, 0, 0],\n",
       "       [0, 1, 0, 0]])"
      ]
     },
     "execution_count": 39,
     "metadata": {},
     "output_type": "execute_result"
    }
   ],
   "source": [
    "training_labels"
   ]
  },
  {
   "cell_type": "markdown",
   "metadata": {},
   "source": [
    "## data_utils\n",
    "\n",
    "### parameter "
   ]
  },
  {
   "cell_type": "code",
   "execution_count": 37,
   "metadata": {},
   "outputs": [],
   "source": [
    "# Dive into the Data Class to see what happend\n",
    "alphabet=\"abcdefghijklmnopqrstuvwxyz0123456789-,;.!?:'\\\"/\\\\|_@#$%^&*~`+-=<>()[]{}\",\n",
    "alphabet_size = len(alphabet)\n",
    "\n",
    "char_dict = {}  # Maps each character to an integer\n",
    "no_of_classes = 4\n",
    "\n",
    "for idx, char in enumerate(alphabet):\n",
    "    char_dict[char] = idx + 1\n",
    "\n",
    "length = 1014\n",
    "data_source = '../data/ag_news_csv/train.csv'\n"
   ]
  },
  {
   "cell_type": "markdown",
   "metadata": {},
   "source": [
    "### read data "
   ]
  },
  {
   "cell_type": "code",
   "execution_count": 2,
   "metadata": {},
   "outputs": [],
   "source": [
    "import pandas as pd"
   ]
  },
  {
   "cell_type": "code",
   "execution_count": 9,
   "metadata": {},
   "outputs": [],
   "source": [
    "train_df = pd.read_csv(data_source, header=None)"
   ]
  },
  {
   "cell_type": "code",
   "execution_count": 11,
   "metadata": {},
   "outputs": [
    {
     "data": {
      "text/html": [
       "<div>\n",
       "<style scoped>\n",
       "    .dataframe tbody tr th:only-of-type {\n",
       "        vertical-align: middle;\n",
       "    }\n",
       "\n",
       "    .dataframe tbody tr th {\n",
       "        vertical-align: top;\n",
       "    }\n",
       "\n",
       "    .dataframe thead th {\n",
       "        text-align: right;\n",
       "    }\n",
       "</style>\n",
       "<table border=\"1\" class=\"dataframe\">\n",
       "  <thead>\n",
       "    <tr style=\"text-align: right;\">\n",
       "      <th></th>\n",
       "      <th>0</th>\n",
       "      <th>1</th>\n",
       "      <th>2</th>\n",
       "    </tr>\n",
       "  </thead>\n",
       "  <tbody>\n",
       "    <tr>\n",
       "      <th>0</th>\n",
       "      <td>3</td>\n",
       "      <td>Wall St. Bears Claw Back Into the Black (Reuters)</td>\n",
       "      <td>Reuters - Short-sellers, Wall Street's dwindli...</td>\n",
       "    </tr>\n",
       "    <tr>\n",
       "      <th>1</th>\n",
       "      <td>3</td>\n",
       "      <td>Carlyle Looks Toward Commercial Aerospace (Reu...</td>\n",
       "      <td>Reuters - Private investment firm Carlyle Grou...</td>\n",
       "    </tr>\n",
       "    <tr>\n",
       "      <th>2</th>\n",
       "      <td>3</td>\n",
       "      <td>Oil and Economy Cloud Stocks' Outlook (Reuters)</td>\n",
       "      <td>Reuters - Soaring crude prices plus worries\\ab...</td>\n",
       "    </tr>\n",
       "    <tr>\n",
       "      <th>3</th>\n",
       "      <td>3</td>\n",
       "      <td>Iraq Halts Oil Exports from Main Southern Pipe...</td>\n",
       "      <td>Reuters - Authorities have halted oil export\\f...</td>\n",
       "    </tr>\n",
       "    <tr>\n",
       "      <th>4</th>\n",
       "      <td>3</td>\n",
       "      <td>Oil prices soar to all-time record, posing new...</td>\n",
       "      <td>AFP - Tearaway world oil prices, toppling reco...</td>\n",
       "    </tr>\n",
       "  </tbody>\n",
       "</table>\n",
       "</div>"
      ],
      "text/plain": [
       "   0                                                  1  \\\n",
       "0  3  Wall St. Bears Claw Back Into the Black (Reuters)   \n",
       "1  3  Carlyle Looks Toward Commercial Aerospace (Reu...   \n",
       "2  3    Oil and Economy Cloud Stocks' Outlook (Reuters)   \n",
       "3  3  Iraq Halts Oil Exports from Main Southern Pipe...   \n",
       "4  3  Oil prices soar to all-time record, posing new...   \n",
       "\n",
       "                                                   2  \n",
       "0  Reuters - Short-sellers, Wall Street's dwindli...  \n",
       "1  Reuters - Private investment firm Carlyle Grou...  \n",
       "2  Reuters - Soaring crude prices plus worries\\ab...  \n",
       "3  Reuters - Authorities have halted oil export\\f...  \n",
       "4  AFP - Tearaway world oil prices, toppling reco...  "
      ]
     },
     "execution_count": 11,
     "metadata": {},
     "output_type": "execute_result"
    }
   ],
   "source": [
    "train_df.head()"
   ]
  },
  {
   "cell_type": "code",
   "execution_count": 21,
   "metadata": {},
   "outputs": [],
   "source": [
    "train_df[1] = train_df[1] + train_df[2]"
   ]
  },
  {
   "cell_type": "code",
   "execution_count": 23,
   "metadata": {},
   "outputs": [
    {
     "data": {
      "text/plain": [
       "\"Wall St. Bears Claw Back Into the Black (Reuters)Reuters - Short-sellers, Wall Street's dwindling\\\\band of ultra-cynics, are seeing green again.\""
      ]
     },
     "execution_count": 23,
     "metadata": {},
     "output_type": "execute_result"
    }
   ],
   "source": [
    "train_df[1][0]"
   ]
  },
  {
   "cell_type": "code",
   "execution_count": 24,
   "metadata": {},
   "outputs": [
    {
     "data": {
      "text/html": [
       "<div>\n",
       "<style scoped>\n",
       "    .dataframe tbody tr th:only-of-type {\n",
       "        vertical-align: middle;\n",
       "    }\n",
       "\n",
       "    .dataframe tbody tr th {\n",
       "        vertical-align: top;\n",
       "    }\n",
       "\n",
       "    .dataframe thead th {\n",
       "        text-align: right;\n",
       "    }\n",
       "</style>\n",
       "<table border=\"1\" class=\"dataframe\">\n",
       "  <thead>\n",
       "    <tr style=\"text-align: right;\">\n",
       "      <th></th>\n",
       "      <th>0</th>\n",
       "      <th>1</th>\n",
       "    </tr>\n",
       "  </thead>\n",
       "  <tbody>\n",
       "    <tr>\n",
       "      <th>0</th>\n",
       "      <td>3</td>\n",
       "      <td>Wall St. Bears Claw Back Into the Black (Reute...</td>\n",
       "    </tr>\n",
       "    <tr>\n",
       "      <th>1</th>\n",
       "      <td>3</td>\n",
       "      <td>Carlyle Looks Toward Commercial Aerospace (Reu...</td>\n",
       "    </tr>\n",
       "    <tr>\n",
       "      <th>2</th>\n",
       "      <td>3</td>\n",
       "      <td>Oil and Economy Cloud Stocks' Outlook (Reuters...</td>\n",
       "    </tr>\n",
       "    <tr>\n",
       "      <th>3</th>\n",
       "      <td>3</td>\n",
       "      <td>Iraq Halts Oil Exports from Main Southern Pipe...</td>\n",
       "    </tr>\n",
       "    <tr>\n",
       "      <th>4</th>\n",
       "      <td>3</td>\n",
       "      <td>Oil prices soar to all-time record, posing new...</td>\n",
       "    </tr>\n",
       "    <tr>\n",
       "      <th>5</th>\n",
       "      <td>3</td>\n",
       "      <td>Stocks End Up, But Near Year Lows (Reuters)Reu...</td>\n",
       "    </tr>\n",
       "    <tr>\n",
       "      <th>6</th>\n",
       "      <td>3</td>\n",
       "      <td>Money Funds Fell in Latest Week (AP)AP - Asset...</td>\n",
       "    </tr>\n",
       "    <tr>\n",
       "      <th>7</th>\n",
       "      <td>3</td>\n",
       "      <td>Fed minutes show dissent over inflation (USATO...</td>\n",
       "    </tr>\n",
       "    <tr>\n",
       "      <th>8</th>\n",
       "      <td>3</td>\n",
       "      <td>Safety Net (Forbes.com)Forbes.com - After earn...</td>\n",
       "    </tr>\n",
       "    <tr>\n",
       "      <th>9</th>\n",
       "      <td>3</td>\n",
       "      <td>Wall St. Bears Claw Back Into the Black NEW YO...</td>\n",
       "    </tr>\n",
       "    <tr>\n",
       "      <th>10</th>\n",
       "      <td>3</td>\n",
       "      <td>Oil and Economy Cloud Stocks' Outlook NEW YORK...</td>\n",
       "    </tr>\n",
       "    <tr>\n",
       "      <th>11</th>\n",
       "      <td>3</td>\n",
       "      <td>No Need for OPEC to Pump More-Iran Gov TEHRAN ...</td>\n",
       "    </tr>\n",
       "    <tr>\n",
       "      <th>12</th>\n",
       "      <td>3</td>\n",
       "      <td>Non-OPEC Nations Should Up Output-Purnomo JAKA...</td>\n",
       "    </tr>\n",
       "    <tr>\n",
       "      <th>13</th>\n",
       "      <td>3</td>\n",
       "      <td>Google IPO Auction Off to Rocky Start WASHINGT...</td>\n",
       "    </tr>\n",
       "    <tr>\n",
       "      <th>14</th>\n",
       "      <td>3</td>\n",
       "      <td>Dollar Falls Broadly on Record Trade Gap NEW Y...</td>\n",
       "    </tr>\n",
       "    <tr>\n",
       "      <th>15</th>\n",
       "      <td>3</td>\n",
       "      <td>Rescuing an Old SaverIf you think you may need...</td>\n",
       "    </tr>\n",
       "    <tr>\n",
       "      <th>16</th>\n",
       "      <td>3</td>\n",
       "      <td>Kids Rule for Back-to-SchoolThe purchasing pow...</td>\n",
       "    </tr>\n",
       "    <tr>\n",
       "      <th>17</th>\n",
       "      <td>3</td>\n",
       "      <td>In a Down Market, Head Toward Value FundsThere...</td>\n",
       "    </tr>\n",
       "    <tr>\n",
       "      <th>18</th>\n",
       "      <td>3</td>\n",
       "      <td>US trade deficit swells in JuneThe US trade de...</td>\n",
       "    </tr>\n",
       "    <tr>\n",
       "      <th>19</th>\n",
       "      <td>3</td>\n",
       "      <td>Shell 'could be target for Total'Oil giant She...</td>\n",
       "    </tr>\n",
       "    <tr>\n",
       "      <th>20</th>\n",
       "      <td>3</td>\n",
       "      <td>Google IPO faces Playboy slip-upThe bidding ge...</td>\n",
       "    </tr>\n",
       "    <tr>\n",
       "      <th>21</th>\n",
       "      <td>3</td>\n",
       "      <td>Eurozone economy keeps growingOfficial figures...</td>\n",
       "    </tr>\n",
       "    <tr>\n",
       "      <th>22</th>\n",
       "      <td>3</td>\n",
       "      <td>Expansion slows in JapanEconomic growth in Jap...</td>\n",
       "    </tr>\n",
       "    <tr>\n",
       "      <th>23</th>\n",
       "      <td>3</td>\n",
       "      <td>Rand falls on shock SA rate cutInterest rates ...</td>\n",
       "    </tr>\n",
       "    <tr>\n",
       "      <th>24</th>\n",
       "      <td>3</td>\n",
       "      <td>Car prices down across the boardThe cost of bu...</td>\n",
       "    </tr>\n",
       "    <tr>\n",
       "      <th>25</th>\n",
       "      <td>3</td>\n",
       "      <td>South Korea lowers interest ratesSouth Korea's...</td>\n",
       "    </tr>\n",
       "    <tr>\n",
       "      <th>26</th>\n",
       "      <td>3</td>\n",
       "      <td>Google auction begins on FridayAn auction of s...</td>\n",
       "    </tr>\n",
       "    <tr>\n",
       "      <th>27</th>\n",
       "      <td>3</td>\n",
       "      <td>HP shares tumble on profit newsHewlett-Packard...</td>\n",
       "    </tr>\n",
       "    <tr>\n",
       "      <th>28</th>\n",
       "      <td>3</td>\n",
       "      <td>Mauritian textile firm cuts jobsOne of the old...</td>\n",
       "    </tr>\n",
       "    <tr>\n",
       "      <th>29</th>\n",
       "      <td>3</td>\n",
       "      <td>Chad seeks refugee aid from IMFChad asks the I...</td>\n",
       "    </tr>\n",
       "    <tr>\n",
       "      <th>...</th>\n",
       "      <td>...</td>\n",
       "      <td>...</td>\n",
       "    </tr>\n",
       "    <tr>\n",
       "      <th>119970</th>\n",
       "      <td>2</td>\n",
       "      <td>Mortaza enjoys moment to rememberBangladesh fa...</td>\n",
       "    </tr>\n",
       "    <tr>\n",
       "      <th>119971</th>\n",
       "      <td>1</td>\n",
       "      <td>EU agrees to membership talks with TurkeyHAMIS...</td>\n",
       "    </tr>\n",
       "    <tr>\n",
       "      <th>119972</th>\n",
       "      <td>1</td>\n",
       "      <td>Bosnia Serb PM Resigns, Rejects Western Pressu...</td>\n",
       "    </tr>\n",
       "    <tr>\n",
       "      <th>119973</th>\n",
       "      <td>1</td>\n",
       "      <td>North Korea says US steps up espionage flights...</td>\n",
       "    </tr>\n",
       "    <tr>\n",
       "      <th>119974</th>\n",
       "      <td>3</td>\n",
       "      <td>Russia to hold Yukos auction despite US ruling...</td>\n",
       "    </tr>\n",
       "    <tr>\n",
       "      <th>119975</th>\n",
       "      <td>2</td>\n",
       "      <td>Utah Routs Pittsburgh in Fiesta Bowl TEMPE, Ar...</td>\n",
       "    </tr>\n",
       "    <tr>\n",
       "      <th>119976</th>\n",
       "      <td>3</td>\n",
       "      <td>Stocks to Hold Up, But Anxiety Over Drugs NEW ...</td>\n",
       "    </tr>\n",
       "    <tr>\n",
       "      <th>119977</th>\n",
       "      <td>3</td>\n",
       "      <td>Despite Mega-Deals, Small Mergers Rule Philade...</td>\n",
       "    </tr>\n",
       "    <tr>\n",
       "      <th>119978</th>\n",
       "      <td>3</td>\n",
       "      <td>Wal-Mart Dec. Sales Still Seen Up 1-3 Pct CHIC...</td>\n",
       "    </tr>\n",
       "    <tr>\n",
       "      <th>119979</th>\n",
       "      <td>3</td>\n",
       "      <td>Sabotage Stops Iraq's North Oil Exports BAGHDA...</td>\n",
       "    </tr>\n",
       "    <tr>\n",
       "      <th>119980</th>\n",
       "      <td>3</td>\n",
       "      <td>Corporate Cost-Cutters Miss Out CHICAGO (Reute...</td>\n",
       "    </tr>\n",
       "    <tr>\n",
       "      <th>119981</th>\n",
       "      <td>3</td>\n",
       "      <td>Murdoch will shell out \\$44 mil. for Manhattan...</td>\n",
       "    </tr>\n",
       "    <tr>\n",
       "      <th>119982</th>\n",
       "      <td>1</td>\n",
       "      <td>AU Says Sudan Begins Troop Withdrawal from Dar...</td>\n",
       "    </tr>\n",
       "    <tr>\n",
       "      <th>119983</th>\n",
       "      <td>1</td>\n",
       "      <td>Insurgents Attack Iraq Election Offices (Reute...</td>\n",
       "    </tr>\n",
       "    <tr>\n",
       "      <th>119984</th>\n",
       "      <td>1</td>\n",
       "      <td>Syria Redeploys Some Security Forces in Lebano...</td>\n",
       "    </tr>\n",
       "    <tr>\n",
       "      <th>119985</th>\n",
       "      <td>1</td>\n",
       "      <td>Security Scare Closes British Airport (AP)AP -...</td>\n",
       "    </tr>\n",
       "    <tr>\n",
       "      <th>119986</th>\n",
       "      <td>1</td>\n",
       "      <td>Iraqi Judges Start Quizzing Saddam Aides (AP)A...</td>\n",
       "    </tr>\n",
       "    <tr>\n",
       "      <th>119987</th>\n",
       "      <td>1</td>\n",
       "      <td>Musharraf says won't quit as army chief (Reute...</td>\n",
       "    </tr>\n",
       "    <tr>\n",
       "      <th>119988</th>\n",
       "      <td>1</td>\n",
       "      <td>Navy to go on PR 'offensive' to repair battere...</td>\n",
       "    </tr>\n",
       "    <tr>\n",
       "      <th>119989</th>\n",
       "      <td>2</td>\n",
       "      <td>NBA Wrap: Wade, O'Neal Carry Heat to 7th Strai...</td>\n",
       "    </tr>\n",
       "    <tr>\n",
       "      <th>119990</th>\n",
       "      <td>1</td>\n",
       "      <td>Barack Obama Gets  #36;1.9 Million Book Deal (...</td>\n",
       "    </tr>\n",
       "    <tr>\n",
       "      <th>119991</th>\n",
       "      <td>2</td>\n",
       "      <td>Rauffer Beats Favorites to Win Downhill VAL GA...</td>\n",
       "    </tr>\n",
       "    <tr>\n",
       "      <th>119992</th>\n",
       "      <td>1</td>\n",
       "      <td>Iraqis Face Winter Shivering by Candlelight BA...</td>\n",
       "    </tr>\n",
       "    <tr>\n",
       "      <th>119993</th>\n",
       "      <td>1</td>\n",
       "      <td>AU Says Sudan Begins Troop Withdrawal from Dar...</td>\n",
       "    </tr>\n",
       "    <tr>\n",
       "      <th>119994</th>\n",
       "      <td>1</td>\n",
       "      <td>Syria Redeploys Some Security Forces in Lebano...</td>\n",
       "    </tr>\n",
       "    <tr>\n",
       "      <th>119995</th>\n",
       "      <td>1</td>\n",
       "      <td>Pakistan's Musharraf Says Won't Quit as Army C...</td>\n",
       "    </tr>\n",
       "    <tr>\n",
       "      <th>119996</th>\n",
       "      <td>2</td>\n",
       "      <td>Renteria signing a top-shelf dealRed Sox gener...</td>\n",
       "    </tr>\n",
       "    <tr>\n",
       "      <th>119997</th>\n",
       "      <td>2</td>\n",
       "      <td>Saban not going to Dolphins yetThe Miami Dolph...</td>\n",
       "    </tr>\n",
       "    <tr>\n",
       "      <th>119998</th>\n",
       "      <td>2</td>\n",
       "      <td>Today's NFL gamesPITTSBURGH at NY GIANTS Time:...</td>\n",
       "    </tr>\n",
       "    <tr>\n",
       "      <th>119999</th>\n",
       "      <td>2</td>\n",
       "      <td>Nets get Carter from RaptorsINDIANAPOLIS -- Al...</td>\n",
       "    </tr>\n",
       "  </tbody>\n",
       "</table>\n",
       "<p>120000 rows × 2 columns</p>\n",
       "</div>"
      ],
      "text/plain": [
       "        0                                                  1\n",
       "0       3  Wall St. Bears Claw Back Into the Black (Reute...\n",
       "1       3  Carlyle Looks Toward Commercial Aerospace (Reu...\n",
       "2       3  Oil and Economy Cloud Stocks' Outlook (Reuters...\n",
       "3       3  Iraq Halts Oil Exports from Main Southern Pipe...\n",
       "4       3  Oil prices soar to all-time record, posing new...\n",
       "5       3  Stocks End Up, But Near Year Lows (Reuters)Reu...\n",
       "6       3  Money Funds Fell in Latest Week (AP)AP - Asset...\n",
       "7       3  Fed minutes show dissent over inflation (USATO...\n",
       "8       3  Safety Net (Forbes.com)Forbes.com - After earn...\n",
       "9       3  Wall St. Bears Claw Back Into the Black NEW YO...\n",
       "10      3  Oil and Economy Cloud Stocks' Outlook NEW YORK...\n",
       "11      3  No Need for OPEC to Pump More-Iran Gov TEHRAN ...\n",
       "12      3  Non-OPEC Nations Should Up Output-Purnomo JAKA...\n",
       "13      3  Google IPO Auction Off to Rocky Start WASHINGT...\n",
       "14      3  Dollar Falls Broadly on Record Trade Gap NEW Y...\n",
       "15      3  Rescuing an Old SaverIf you think you may need...\n",
       "16      3  Kids Rule for Back-to-SchoolThe purchasing pow...\n",
       "17      3  In a Down Market, Head Toward Value FundsThere...\n",
       "18      3  US trade deficit swells in JuneThe US trade de...\n",
       "19      3  Shell 'could be target for Total'Oil giant She...\n",
       "20      3  Google IPO faces Playboy slip-upThe bidding ge...\n",
       "21      3  Eurozone economy keeps growingOfficial figures...\n",
       "22      3  Expansion slows in JapanEconomic growth in Jap...\n",
       "23      3  Rand falls on shock SA rate cutInterest rates ...\n",
       "24      3  Car prices down across the boardThe cost of bu...\n",
       "25      3  South Korea lowers interest ratesSouth Korea's...\n",
       "26      3  Google auction begins on FridayAn auction of s...\n",
       "27      3  HP shares tumble on profit newsHewlett-Packard...\n",
       "28      3  Mauritian textile firm cuts jobsOne of the old...\n",
       "29      3  Chad seeks refugee aid from IMFChad asks the I...\n",
       "...    ..                                                ...\n",
       "119970  2  Mortaza enjoys moment to rememberBangladesh fa...\n",
       "119971  1  EU agrees to membership talks with TurkeyHAMIS...\n",
       "119972  1  Bosnia Serb PM Resigns, Rejects Western Pressu...\n",
       "119973  1  North Korea says US steps up espionage flights...\n",
       "119974  3  Russia to hold Yukos auction despite US ruling...\n",
       "119975  2  Utah Routs Pittsburgh in Fiesta Bowl TEMPE, Ar...\n",
       "119976  3  Stocks to Hold Up, But Anxiety Over Drugs NEW ...\n",
       "119977  3  Despite Mega-Deals, Small Mergers Rule Philade...\n",
       "119978  3  Wal-Mart Dec. Sales Still Seen Up 1-3 Pct CHIC...\n",
       "119979  3  Sabotage Stops Iraq's North Oil Exports BAGHDA...\n",
       "119980  3  Corporate Cost-Cutters Miss Out CHICAGO (Reute...\n",
       "119981  3  Murdoch will shell out \\$44 mil. for Manhattan...\n",
       "119982  1  AU Says Sudan Begins Troop Withdrawal from Dar...\n",
       "119983  1  Insurgents Attack Iraq Election Offices (Reute...\n",
       "119984  1  Syria Redeploys Some Security Forces in Lebano...\n",
       "119985  1  Security Scare Closes British Airport (AP)AP -...\n",
       "119986  1  Iraqi Judges Start Quizzing Saddam Aides (AP)A...\n",
       "119987  1  Musharraf says won't quit as army chief (Reute...\n",
       "119988  1  Navy to go on PR 'offensive' to repair battere...\n",
       "119989  2  NBA Wrap: Wade, O'Neal Carry Heat to 7th Strai...\n",
       "119990  1  Barack Obama Gets  #36;1.9 Million Book Deal (...\n",
       "119991  2  Rauffer Beats Favorites to Win Downhill VAL GA...\n",
       "119992  1  Iraqis Face Winter Shivering by Candlelight BA...\n",
       "119993  1  AU Says Sudan Begins Troop Withdrawal from Dar...\n",
       "119994  1  Syria Redeploys Some Security Forces in Lebano...\n",
       "119995  1  Pakistan's Musharraf Says Won't Quit as Army C...\n",
       "119996  2  Renteria signing a top-shelf dealRed Sox gener...\n",
       "119997  2  Saban not going to Dolphins yetThe Miami Dolph...\n",
       "119998  2  Today's NFL gamesPITTSBURGH at NY GIANTS Time:...\n",
       "119999  2  Nets get Carter from RaptorsINDIANAPOLIS -- Al...\n",
       "\n",
       "[120000 rows x 2 columns]"
      ]
     },
     "execution_count": 24,
     "metadata": {},
     "output_type": "execute_result"
    }
   ],
   "source": [
    "train_df.drop([2], axis=1)"
   ]
  },
  {
   "cell_type": "code",
   "execution_count": 32,
   "metadata": {},
   "outputs": [
    {
     "data": {
      "text/plain": [
       "array([3, 4, 2, 1])"
      ]
     },
     "execution_count": 32,
     "metadata": {},
     "output_type": "execute_result"
    }
   ],
   "source": [
    "train_df[0].unique()"
   ]
  },
  {
   "cell_type": "code",
   "execution_count": 26,
   "metadata": {},
   "outputs": [
    {
     "data": {
      "text/plain": [
       "array([[3,\n",
       "        \"Wall St. Bears Claw Back Into the Black (Reuters)Reuters - Short-sellers, Wall Street's dwindling\\\\band of ultra-cynics, are seeing green again.\",\n",
       "        \"Reuters - Short-sellers, Wall Street's dwindling\\\\band of ultra-cynics, are seeing green again.\"],\n",
       "       [3,\n",
       "        'Carlyle Looks Toward Commercial Aerospace (Reuters)Reuters - Private investment firm Carlyle Group,\\\\which has a reputation for making well-timed and occasionally\\\\controversial plays in the defense industry, has quietly placed\\\\its bets on another part of the market.',\n",
       "        'Reuters - Private investment firm Carlyle Group,\\\\which has a reputation for making well-timed and occasionally\\\\controversial plays in the defense industry, has quietly placed\\\\its bets on another part of the market.'],\n",
       "       [3,\n",
       "        \"Oil and Economy Cloud Stocks' Outlook (Reuters)Reuters - Soaring crude prices plus worries\\\\about the economy and the outlook for earnings are expected to\\\\hang over the stock market next week during the depth of the\\\\summer doldrums.\",\n",
       "        'Reuters - Soaring crude prices plus worries\\\\about the economy and the outlook for earnings are expected to\\\\hang over the stock market next week during the depth of the\\\\summer doldrums.'],\n",
       "       ...,\n",
       "       [2,\n",
       "        \"Saban not going to Dolphins yetThe Miami Dolphins will put their courtship of LSU coach Nick Saban on hold to comply with the NFL's hiring policy by interviewing at least one minority candidate, a team source told The Associated Press last night.\",\n",
       "        \"The Miami Dolphins will put their courtship of LSU coach Nick Saban on hold to comply with the NFL's hiring policy by interviewing at least one minority candidate, a team source told The Associated Press last night.\"],\n",
       "       [2,\n",
       "        \"Today's NFL gamesPITTSBURGH at NY GIANTS Time: 1:30 p.m. Line: Steelers by 10. Records: Steelers 12-1, Giants 5-8. Vs. spread: Steelers 10-1-2, Giants 5-8. Series: Giants lead, 43-27-3. Comments: Think the Giants knew Ben Roethlisberger was available on draft day when they broke the bank and traded for Eli Manning? . . . All Big Ben has done this year is complete ...\",\n",
       "        'PITTSBURGH at NY GIANTS Time: 1:30 p.m. Line: Steelers by 10. Records: Steelers 12-1, Giants 5-8. Vs. spread: Steelers 10-1-2, Giants 5-8. Series: Giants lead, 43-27-3. Comments: Think the Giants knew Ben Roethlisberger was available on draft day when they broke the bank and traded for Eli Manning? . . . All Big Ben has done this year is complete ...'],\n",
       "       [2,\n",
       "        'Nets get Carter from RaptorsINDIANAPOLIS -- All-Star Vince Carter was traded by the Toronto Raptors to the New Jersey Nets for Alonzo Mourning, Eric Williams, Aaron Williams, and a pair of first-round draft picks yesterday.',\n",
       "        'INDIANAPOLIS -- All-Star Vince Carter was traded by the Toronto Raptors to the New Jersey Nets for Alonzo Mourning, Eric Williams, Aaron Williams, and a pair of first-round draft picks yesterday.']],\n",
       "      dtype=object)"
      ]
     },
     "execution_count": 26,
     "metadata": {},
     "output_type": "execute_result"
    }
   ],
   "source": [
    "train_df.values"
   ]
  },
  {
   "cell_type": "code",
   "execution_count": 16,
   "metadata": {},
   "outputs": [],
   "source": [
    "# Another way to load the data\n",
    "import csv\n",
    "import re\n",
    "import numpy as np\n",
    "\n",
    "data = []\n",
    "with open(data_source, 'r', encoding='utf-8') as f:\n",
    "    rdr = csv.reader (f, delimiter=',', quotechar='\"')\n",
    "    for row in rdr:\n",
    "        txt = \"\"\n",
    "        for s in row[1:]:\n",
    "            txt = txt + \" \" + re.sub(\"^\\s*(.-)\\s*$\", \"%1\", s).replace(\"\\\\n\", \"\\n\")\n",
    "        data.append((int(row[0]), txt))  # format: (label, text)\n",
    "    data = np.array(data)"
   ]
  },
  {
   "cell_type": "code",
   "execution_count": 18,
   "metadata": {},
   "outputs": [
    {
     "data": {
      "text/plain": [
       "array(['3',\n",
       "       \" Wall St. Bears Claw Back Into the Black (Reuters) Reuters - Short-sellers, Wall Street's dwindling\\\\band of ultra-cynics, are seeing green again.\"],\n",
       "      dtype='<U1013')"
      ]
     },
     "execution_count": 18,
     "metadata": {},
     "output_type": "execute_result"
    }
   ],
   "source": [
    "data[0]"
   ]
  },
  {
   "cell_type": "markdown",
   "metadata": {},
   "source": [
    "### get all data "
   ]
  },
  {
   "cell_type": "code",
   "execution_count": 35,
   "metadata": {},
   "outputs": [
    {
     "name": "stdout",
     "output_type": "stream",
     "text": [
      "120000\n",
      "120000\n",
      "[['3'\n",
      "  \" Wall St. Bears Claw Back Into the Black (Reuters) Reuters - Short-sellers, Wall Street's dwindling\\\\band of ultra-cynics, are seeing green again.\"]\n",
      " ['3'\n",
      "  ' Carlyle Looks Toward Commercial Aerospace (Reuters) Reuters - Private investment firm Carlyle Group,\\\\which has a reputation for making well-timed and occasionally\\\\controversial plays in the defense industry, has quietly placed\\\\its bets on another part of the market.']\n",
      " ['3'\n",
      "  \" Oil and Economy Cloud Stocks' Outlook (Reuters) Reuters - Soaring crude prices plus worries\\\\about the economy and the outlook for earnings are expected to\\\\hang over the stock market next week during the depth of the\\\\summer doldrums.\"]\n",
      " ...\n",
      " ['2'\n",
      "  \" Saban not going to Dolphins yet The Miami Dolphins will put their courtship of LSU coach Nick Saban on hold to comply with the NFL's hiring policy by interviewing at least one minority candidate, a team source told The Associated Press last night.\"]\n",
      " ['2'\n",
      "  \" Today's NFL games PITTSBURGH at NY GIANTS Time: 1:30 p.m. Line: Steelers by 10. Records: Steelers 12-1, Giants 5-8. Vs. spread: Steelers 10-1-2, Giants 5-8. Series: Giants lead, 43-27-3. Comments: Think the Giants knew Ben Roethlisberger was available on draft day when they broke the bank and traded for Eli Manning? . . . All Big Ben has done this year is complete ...\"]\n",
      " ['2'\n",
      "  ' Nets get Carter from Raptors INDIANAPOLIS -- All-Star Vince Carter was traded by the Toronto Raptors to the New Jersey Nets for Alonzo Mourning, Eric Williams, Aaron Williams, and a pair of first-round draft picks yesterday.']]\n",
      "[[1 0 0 0]\n",
      " [0 1 0 0]\n",
      " [0 0 1 0]\n",
      " [0 0 0 1]]\n"
     ]
    }
   ],
   "source": [
    "data_size = len(data)\n",
    "print(data_size)\n",
    "start_index = 0\n",
    "end_index = data_size\n",
    "print(end_index)\n",
    "batch_texts = data[start_index:end_index]\n",
    "print(batch_texts)\n",
    "one_hot = np.eye(no_of_classes, dtype='int64')\n",
    "print(one_hot)\n"
   ]
  },
  {
   "cell_type": "code",
   "execution_count": 41,
   "metadata": {},
   "outputs": [
    {
     "data": {
      "text/plain": [
       "{'!': 41,\n",
       " '\"': 45,\n",
       " '#': 51,\n",
       " '$': 52,\n",
       " '%': 53,\n",
       " '&': 55,\n",
       " \"'\": 44,\n",
       " '(': 64,\n",
       " ')': 65,\n",
       " '*': 56,\n",
       " '+': 59,\n",
       " ',': 38,\n",
       " '-': 60,\n",
       " '.': 40,\n",
       " '/': 46,\n",
       " '0': 27,\n",
       " '1': 28,\n",
       " '2': 29,\n",
       " '3': 30,\n",
       " '4': 31,\n",
       " '5': 32,\n",
       " '6': 33,\n",
       " '7': 34,\n",
       " '8': 35,\n",
       " '9': 36,\n",
       " ':': 43,\n",
       " ';': 39,\n",
       " '<': 62,\n",
       " '=': 61,\n",
       " '>': 63,\n",
       " '?': 42,\n",
       " '@': 50,\n",
       " '[': 66,\n",
       " '\\\\': 47,\n",
       " ']': 67,\n",
       " '^': 54,\n",
       " '_': 49,\n",
       " '`': 58,\n",
       " 'a': 1,\n",
       " 'b': 2,\n",
       " 'c': 3,\n",
       " 'd': 4,\n",
       " 'e': 5,\n",
       " 'f': 6,\n",
       " 'g': 7,\n",
       " 'h': 8,\n",
       " 'i': 9,\n",
       " 'j': 10,\n",
       " 'k': 11,\n",
       " 'l': 12,\n",
       " 'm': 13,\n",
       " 'n': 14,\n",
       " 'o': 15,\n",
       " 'p': 16,\n",
       " 'q': 17,\n",
       " 'r': 18,\n",
       " 's': 19,\n",
       " 't': 20,\n",
       " 'u': 21,\n",
       " 'v': 22,\n",
       " 'w': 23,\n",
       " 'x': 24,\n",
       " 'y': 25,\n",
       " 'z': 26,\n",
       " '{': 68,\n",
       " '|': 48,\n",
       " '}': 69,\n",
       " '~': 57}"
      ]
     },
     "execution_count": 41,
     "metadata": {},
     "output_type": "execute_result"
    }
   ],
   "source": [
    "# Dive into the Data Class to see what happend\n",
    "alphabet=\"abcdefghijklmnopqrstuvwxyz0123456789-,;.!?:'\\\"/\\\\|_@#$%^&*~`+-=<>()[]{}\"\n",
    "alphabet_size = len(alphabet)\n",
    "\n",
    "char_dict = {}  # Maps each character to an integer\n",
    "no_of_classes = 4\n",
    "\n",
    "for idx, char in enumerate(alphabet):\n",
    "    char_dict[char] = idx + 1\n",
    "\n",
    "length = 1014\n",
    "data_source = '../data/ag_news_csv/train.csv'\n",
    "\n",
    "char_dict"
   ]
  },
  {
   "cell_type": "code",
   "execution_count": 72,
   "metadata": {},
   "outputs": [
    {
     "data": {
      "text/plain": [
       "68"
      ]
     },
     "execution_count": 72,
     "metadata": {},
     "output_type": "execute_result"
    }
   ],
   "source": [
    "len(char_dict)"
   ]
  },
  {
   "cell_type": "code",
   "execution_count": 43,
   "metadata": {},
   "outputs": [],
   "source": [
    "length = 1014 # 1014\n",
    "\n",
    "def str_to_indexes(s):\n",
    "    \"\"\"\n",
    "    Convert a string to character indexes based on character dictionary.\n",
    "\n",
    "    Args:\n",
    "        s (str): String to be converted to indexes\n",
    "\n",
    "    Returns:\n",
    "        str2idx (np.ndarray): Indexes of characters in s\n",
    "\n",
    "    \"\"\"\n",
    "    s = s.lower()\n",
    "    max_length = min(len(s), length)\n",
    "    str2idx = np.zeros(length, dtype='int64')\n",
    "    for i in range(1, max_length + 1):\n",
    "        c = s[-i] # Notice, the order to read the sentence is from end to start. \n",
    "        if c in char_dict:\n",
    "            str2idx[i - 1] = char_dict[c] # str2idx[0]=40, becasue the last char '.' have index 40\n",
    "    return str2idx"
   ]
  },
  {
   "cell_type": "code",
   "execution_count": 45,
   "metadata": {},
   "outputs": [
    {
     "data": {
      "text/plain": [
       "\" Wall St. Bears Claw Back Into the Black (Reuters) Reuters - Short-sellers, Wall Street's dwindling\\\\band of ultra-cynics, are seeing green again.\""
      ]
     },
     "execution_count": 45,
     "metadata": {},
     "output_type": "execute_result"
    }
   ],
   "source": [
    "batch_texts[0][1]"
   ]
  },
  {
   "cell_type": "code",
   "execution_count": 46,
   "metadata": {},
   "outputs": [
    {
     "data": {
      "text/plain": [
       "array([40, 14,  9, ...,  0,  0,  0])"
      ]
     },
     "execution_count": 46,
     "metadata": {},
     "output_type": "execute_result"
    }
   ],
   "source": [
    "str_to_indexes(batch_texts[0][1])"
   ]
  },
  {
   "cell_type": "code",
   "execution_count": 47,
   "metadata": {},
   "outputs": [],
   "source": [
    "one_hot = np.eye(no_of_classes, dtype='int64')\n",
    "batch_indices = []\n",
    "classes = []\n",
    "for c, s in batch_texts:\n",
    "    batch_indices.append(str_to_indexes(s))\n",
    "    c = int(c) - 1\n",
    "    classes.append(one_hot[c])"
   ]
  },
  {
   "cell_type": "markdown",
   "metadata": {},
   "source": [
    "Here we get the train_input(batch_indices) and train_labels(classes)"
   ]
  },
  {
   "cell_type": "code",
   "execution_count": 50,
   "metadata": {},
   "outputs": [],
   "source": [
    "training_inputs = np.asarray(batch_indices)\n",
    "training_labels = np.asarray(classes)"
   ]
  },
  {
   "cell_type": "code",
   "execution_count": 53,
   "metadata": {},
   "outputs": [
    {
     "name": "stdout",
     "output_type": "stream",
     "text": [
      "(120000, 1014)\n",
      "(120000, 4)\n",
      "[[40 14  9 ...  0  0  0]\n",
      " [40 20  5 ...  0  0  0]\n",
      " [40 19 13 ...  0  0  0]]\n",
      "[[0 0 1 0]\n",
      " [0 0 1 0]\n",
      " [0 0 1 0]]\n"
     ]
    }
   ],
   "source": [
    "print(training_inputs.shape)\n",
    "print(training_labels.shape)\n",
    "print(training_inputs[:3])\n",
    "print(training_labels[:3])"
   ]
  },
  {
   "cell_type": "code",
   "execution_count": 71,
   "metadata": {},
   "outputs": [
    {
     "name": "stdout",
     "output_type": "stream",
     "text": [
      "Data loaded from ../data/ag_news_csv/test.csv\n"
     ]
    }
   ],
   "source": [
    "# Load validation data\n",
    "validation_data = Data(data_source=config[\"data\"][\"validation_data_source\"],\n",
    "                       alphabet=config[\"data\"][\"alphabet\"],\n",
    "                       input_size=config[\"data\"][\"input_size\"],\n",
    "                       num_of_classes=config[\"data\"][\"num_of_classes\"])\n",
    "validation_data.load_data()\n",
    "validation_inputs, validation_labels = validation_data.get_all_data()\n"
   ]
  },
  {
   "cell_type": "code",
   "execution_count": null,
   "metadata": {},
   "outputs": [],
   "source": []
  }
 ],
 "metadata": {
  "kernelspec": {
   "display_name": "Python [conda env:py36]",
   "language": "python",
   "name": "conda-env-py36-py"
  },
  "language_info": {
   "codemirror_mode": {
    "name": "ipython",
    "version": 3
   },
   "file_extension": ".py",
   "mimetype": "text/x-python",
   "name": "python",
   "nbconvert_exporter": "python",
   "pygments_lexer": "ipython3",
   "version": "3.6.4"
  }
 },
 "nbformat": 4,
 "nbformat_minor": 2
}
