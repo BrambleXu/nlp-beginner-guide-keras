{
 "cells": [
  {
   "cell_type": "code",
   "execution_count": 1,
   "metadata": {},
   "outputs": [
    {
     "name": "stderr",
     "output_type": "stream",
     "text": [
      "Using TensorFlow backend.\n"
     ]
    }
   ],
   "source": [
    "import os\n",
    "import numpy as np\n",
    "import pandas as pd\n",
    "import data_helpers\n",
    "import pickle\n",
    "from data_helpers import TrainValTensorBoard\n",
    "from keras.callbacks import EarlyStopping\n",
    "from keras.preprocessing.text import Tokenizer\n",
    "from keras.preprocessing.sequence import pad_sequences\n",
    "from keras.utils import to_categorical\n",
    "from keras.layers import Input, Embedding, Activation, Flatten, Dense, Concatenate\n",
    "from keras.layers import Conv1D, MaxPooling1D, Dropout\n",
    "from keras.models import Model\n"
   ]
  },
  {
   "cell_type": "code",
   "execution_count": 2,
   "metadata": {},
   "outputs": [
    {
     "name": "stderr",
     "output_type": "stream",
     "text": [
      "/anaconda3/envs/py36/lib/python3.6/site-packages/numpy/lib/arraysetops.py:466: FutureWarning: elementwise comparison failed; returning scalar instead, but in the future will perform elementwise comparison\n",
      "  mask |= (ar1 == a)\n"
     ]
    },
    {
     "name": "stdout",
     "output_type": "stream",
     "text": [
      "                                                text  target\n",
      "0  awww that s a bummer you shoulda got david car...       0\n",
      "1  is upset that he can t update his facebook by ...       0\n",
      "2  i dived many times for the ball managed to sav...       0\n",
      "3     my whole body feels itchy and like its on fire       0\n",
      "4  no it s not behaving at all i m mad why am i h...       0\n",
      "0    798503\n",
      "4    798250\n",
      "Name: target, dtype: int64\n"
     ]
    }
   ],
   "source": [
    "#==================Preprocess===================\n",
    "\n",
    "# Load data\n",
    "csv = '../data/twitter/clean_tweet.csv'\n",
    "df = pd.read_csv(csv, index_col=0)\n",
    "print(df.head())\n",
    "\n",
    "# Delete Null row\n",
    "df = df.dropna()\n",
    "print(df.target.value_counts())\n",
    "\n",
    "df['target'] = df['target'].map({0: 0, 4: 1})\n",
    "\n",
    "x_text = df['text'].values\n",
    "y = df['target'].values\n",
    "y = to_categorical(y)\n"
   ]
  },
  {
   "cell_type": "code",
   "execution_count": 3,
   "metadata": {},
   "outputs": [],
   "source": [
    "# Tokenizer\n",
    "tk = Tokenizer(num_words=None, char_level=True, oov_token='UNK')\n",
    "tk.fit_on_texts(x_text)"
   ]
  },
  {
   "cell_type": "code",
   "execution_count": 4,
   "metadata": {},
   "outputs": [
    {
     "data": {
      "text/plain": [
       "{' ': 1,\n",
       " 'UNK': 28,\n",
       " 'a': 5,\n",
       " 'b': 21,\n",
       " 'c': 18,\n",
       " 'd': 12,\n",
       " 'e': 2,\n",
       " 'f': 19,\n",
       " 'g': 16,\n",
       " 'h': 9,\n",
       " 'i': 6,\n",
       " 'j': 24,\n",
       " 'k': 22,\n",
       " 'l': 11,\n",
       " 'm': 13,\n",
       " 'n': 7,\n",
       " 'o': 3,\n",
       " 'p': 20,\n",
       " 'q': 27,\n",
       " 'r': 10,\n",
       " 's': 8,\n",
       " 't': 4,\n",
       " 'u': 14,\n",
       " 'v': 23,\n",
       " 'w': 17,\n",
       " 'x': 25,\n",
       " 'y': 15,\n",
       " 'z': 26}"
      ]
     },
     "execution_count": 4,
     "metadata": {},
     "output_type": "execute_result"
    }
   ],
   "source": [
    "tk.word_index"
   ]
  },
  {
   "cell_type": "code",
   "execution_count": 5,
   "metadata": {},
   "outputs": [],
   "source": [
    "# Convert string to index\n",
    "sequences = tk.texts_to_sequences(x_text)"
   ]
  },
  {
   "cell_type": "code",
   "execution_count": 8,
   "metadata": {},
   "outputs": [
    {
     "name": "stdout",
     "output_type": "stream",
     "text": [
      "71\n",
      "awww that s a bummer you shoulda got david carr of third day to do it d\n",
      "71\n",
      "[5, 17, 17, 17, 1, 4, 9, 5, 4, 1, 8, 1, 5, 1, 21, 14, 13, 13, 2, 10, 1, 15, 3, 14, 1, 8, 9, 3, 14, 11, 12, 5, 1, 16, 3, 4, 1, 12, 5, 23, 6, 12, 1, 18, 5, 10, 10, 1, 3, 19, 1, 4, 9, 6, 10, 12, 1, 12, 5, 15, 1, 4, 3, 1, 12, 3, 1, 6, 4, 1, 12]\n"
     ]
    }
   ],
   "source": [
    "print(len(x_text[0]))\n",
    "print(x_text[0])\n",
    "print(len(sequences[0]))\n",
    "print(sequences[0])"
   ]
  },
  {
   "cell_type": "code",
   "execution_count": 9,
   "metadata": {},
   "outputs": [],
   "source": [
    "import pandas as pd  \n",
    "import numpy as np\n",
    "import matplotlib.pyplot as plt\n",
    "plt.style.use('fivethirtyeight')\n",
    "\n",
    "%matplotlib inline\n",
    "%config InlineBackend.figure_format = 'retina'"
   ]
  },
  {
   "cell_type": "code",
   "execution_count": 10,
   "metadata": {},
   "outputs": [],
   "source": [
    "cols = ['sentiment','id','date','query_string','user','text']"
   ]
  },
  {
   "cell_type": "code",
   "execution_count": 11,
   "metadata": {},
   "outputs": [],
   "source": [
    "df = pd.read_csv(\"../data/twitter/training.1600000.processed.noemoticon.csv\", header=None, names=cols, encoding='latin1')"
   ]
  },
  {
   "cell_type": "code",
   "execution_count": 12,
   "metadata": {},
   "outputs": [],
   "source": [
    "df.drop(['id','date','query_string','user'], axis=1, inplace=True)"
   ]
  },
  {
   "cell_type": "code",
   "execution_count": 13,
   "metadata": {},
   "outputs": [],
   "source": [
    "df['sentiment'] = df['sentiment'].map({0: 0, 4: 1})"
   ]
  },
  {
   "cell_type": "code",
   "execution_count": 14,
   "metadata": {},
   "outputs": [
    {
     "data": {
      "text/html": [
       "<div>\n",
       "<style scoped>\n",
       "    .dataframe tbody tr th:only-of-type {\n",
       "        vertical-align: middle;\n",
       "    }\n",
       "\n",
       "    .dataframe tbody tr th {\n",
       "        vertical-align: top;\n",
       "    }\n",
       "\n",
       "    .dataframe thead th {\n",
       "        text-align: right;\n",
       "    }\n",
       "</style>\n",
       "<table border=\"1\" class=\"dataframe\">\n",
       "  <thead>\n",
       "    <tr style=\"text-align: right;\">\n",
       "      <th></th>\n",
       "      <th>sentiment</th>\n",
       "      <th>text</th>\n",
       "    </tr>\n",
       "  </thead>\n",
       "  <tbody>\n",
       "    <tr>\n",
       "      <th>0</th>\n",
       "      <td>0</td>\n",
       "      <td>@switchfoot http://twitpic.com/2y1zl - Awww, t...</td>\n",
       "    </tr>\n",
       "    <tr>\n",
       "      <th>1</th>\n",
       "      <td>0</td>\n",
       "      <td>is upset that he can't update his Facebook by ...</td>\n",
       "    </tr>\n",
       "    <tr>\n",
       "      <th>2</th>\n",
       "      <td>0</td>\n",
       "      <td>@Kenichan I dived many times for the ball. Man...</td>\n",
       "    </tr>\n",
       "    <tr>\n",
       "      <th>3</th>\n",
       "      <td>0</td>\n",
       "      <td>my whole body feels itchy and like its on fire</td>\n",
       "    </tr>\n",
       "    <tr>\n",
       "      <th>4</th>\n",
       "      <td>0</td>\n",
       "      <td>@nationwideclass no, it's not behaving at all....</td>\n",
       "    </tr>\n",
       "  </tbody>\n",
       "</table>\n",
       "</div>"
      ],
      "text/plain": [
       "   sentiment                                               text\n",
       "0          0  @switchfoot http://twitpic.com/2y1zl - Awww, t...\n",
       "1          0  is upset that he can't update his Facebook by ...\n",
       "2          0  @Kenichan I dived many times for the ball. Man...\n",
       "3          0    my whole body feels itchy and like its on fire \n",
       "4          0  @nationwideclass no, it's not behaving at all...."
      ]
     },
     "execution_count": 14,
     "metadata": {},
     "output_type": "execute_result"
    }
   ],
   "source": [
    "df.head()"
   ]
  },
  {
   "cell_type": "code",
   "execution_count": 15,
   "metadata": {},
   "outputs": [
    {
     "data": {
      "text/html": [
       "<div>\n",
       "<style scoped>\n",
       "    .dataframe tbody tr th:only-of-type {\n",
       "        vertical-align: middle;\n",
       "    }\n",
       "\n",
       "    .dataframe tbody tr th {\n",
       "        vertical-align: top;\n",
       "    }\n",
       "\n",
       "    .dataframe thead th {\n",
       "        text-align: right;\n",
       "    }\n",
       "</style>\n",
       "<table border=\"1\" class=\"dataframe\">\n",
       "  <thead>\n",
       "    <tr style=\"text-align: right;\">\n",
       "      <th></th>\n",
       "      <th>sentiment</th>\n",
       "      <th>text</th>\n",
       "    </tr>\n",
       "  </thead>\n",
       "  <tbody>\n",
       "    <tr>\n",
       "      <th>1599995</th>\n",
       "      <td>1</td>\n",
       "      <td>Just woke up. Having no school is the best fee...</td>\n",
       "    </tr>\n",
       "    <tr>\n",
       "      <th>1599996</th>\n",
       "      <td>1</td>\n",
       "      <td>TheWDB.com - Very cool to hear old Walt interv...</td>\n",
       "    </tr>\n",
       "    <tr>\n",
       "      <th>1599997</th>\n",
       "      <td>1</td>\n",
       "      <td>Are you ready for your MoJo Makeover? Ask me f...</td>\n",
       "    </tr>\n",
       "    <tr>\n",
       "      <th>1599998</th>\n",
       "      <td>1</td>\n",
       "      <td>Happy 38th Birthday to my boo of alll time!!! ...</td>\n",
       "    </tr>\n",
       "    <tr>\n",
       "      <th>1599999</th>\n",
       "      <td>1</td>\n",
       "      <td>happy #charitytuesday @theNSPCC @SparksCharity...</td>\n",
       "    </tr>\n",
       "  </tbody>\n",
       "</table>\n",
       "</div>"
      ],
      "text/plain": [
       "         sentiment                                               text\n",
       "1599995          1  Just woke up. Having no school is the best fee...\n",
       "1599996          1  TheWDB.com - Very cool to hear old Walt interv...\n",
       "1599997          1  Are you ready for your MoJo Makeover? Ask me f...\n",
       "1599998          1  Happy 38th Birthday to my boo of alll time!!! ...\n",
       "1599999          1  happy #charitytuesday @theNSPCC @SparksCharity..."
      ]
     },
     "execution_count": 15,
     "metadata": {},
     "output_type": "execute_result"
    }
   ],
   "source": [
    "df.tail()"
   ]
  },
  {
   "cell_type": "code",
   "execution_count": 19,
   "metadata": {},
   "outputs": [],
   "source": [
    "from bs4 import BeautifulSoup \n",
    "import re \n",
    "\n",
    "# Data Preparation 1: HTML decoding\n",
    "pat1 = r'@[A-Za-z0-9]+'   # @mention\n",
    "pat2 = r'https?://[A-Za-z0-9./]+' # URL\n",
    "combined_pat = r'|'.join((pat1, pat2))\n",
    "\n",
    "def tweet_cleaner(text):\n",
    "    soup = BeautifulSoup(text, 'lxml')  # HTML decoding\n",
    "    souped = soup.get_text()\n",
    "    stripped = re.sub(combined_pat, '', souped) # URL, @mention\n",
    "    try:\n",
    "        clean = stripped.replace(u'ï¿½', ' ') # Latin character encoding\n",
    "    except:\n",
    "        clean = stripped\n",
    "#     letters_only = re.sub(\"[^a-zA-Z]\", \" \", clean)  # We reserve punctuation\n",
    "    lower_case = clean.lower()\n",
    "    # During the letters_only process two lines above, it has created unnecessay white spaces,\n",
    "    # I will tokenize and join together to remove unneccessary white spaces\n",
    "#     words = tok.tokenize(lower_case)\n",
    "    return lower_case"
   ]
  },
  {
   "cell_type": "code",
   "execution_count": 20,
   "metadata": {},
   "outputs": [
    {
     "data": {
      "text/plain": [
       "0     @switchfoot http://twitpic.com/2y1zl - Awww, t...\n",
       "1     is upset that he can't update his Facebook by ...\n",
       "2     @Kenichan I dived many times for the ball. Man...\n",
       "3       my whole body feels itchy and like its on fire \n",
       "4     @nationwideclass no, it's not behaving at all....\n",
       "5                         @Kwesidei not the whole crew \n",
       "6                                           Need a hug \n",
       "7     @LOLTrish hey  long time no see! Yes.. Rains a...\n",
       "8                  @Tatiana_K nope they didn't have it \n",
       "9                             @twittera que me muera ? \n",
       "10          spring break in plain city... it's snowing \n",
       "11                           I just re-pierced my ears \n",
       "12    @caregiving I couldn't bear to watch it.  And ...\n",
       "13    @octolinz16 It it counts, idk why I did either...\n",
       "14    @smarrison i would've been the first, but i di...\n",
       "15    @iamjazzyfizzle I wish I got to watch it with ...\n",
       "16    Hollis' death scene will hurt me severely to w...\n",
       "17                                 about to file taxes \n",
       "18    @LettyA ahh ive always wanted to see rent  lov...\n",
       "19    @FakerPattyPattz Oh dear. Were you drinking ou...\n",
       "20    @alydesigns i was out most of the day so didn'...\n",
       "21    one of my friend called me, and asked to meet ...\n",
       "22     @angry_barista I baked you a cake but I ated it \n",
       "23               this week is not going as i had hoped \n",
       "24                           blagh class at 8 tomorrow \n",
       "25       I hate when I have to call and wake people up \n",
       "26    Just going to cry myself to sleep after watchi...\n",
       "27                               im sad now  Miss.Lilly\n",
       "28    ooooh.... LOL  that leslie.... and ok I won't ...\n",
       "29    Meh... Almost Lover is the exception... this t...\n",
       "                            ...                        \n",
       "70    @jdarter Oh! Haha... dude I dont really look a...\n",
       "71    @ninjen I'm sure you're right...    I need to ...\n",
       "72    i really hate how people diss my bands!  Trace...\n",
       "73    Gym attire today was: Puma singlet, Adidas sho...\n",
       "74    Why won't you show my location?!   http://twit...\n",
       "75              No picnic  my phone smells like citrus.\n",
       "76    @ashleyac My donkey is sensitive about such co...\n",
       "77                             No new csi tonight.  FML\n",
       "78                i think my arms are sore from tennis \n",
       "79    wonders why someone that u like so much can ma...\n",
       "80    sleep soon... i just hate saying bye and see y...\n",
       "81    @statravelAU just got ur newsletter, those far...\n",
       "82                                     missin' the boo \n",
       "83                          @markhardy1974 Me too  #itm\n",
       "84    Damn... I don't have any chalk! MY CHALKBOARD ...\n",
       "85    had a blast at the Getty Villa, but hates that...\n",
       "86      @msdrama hey missed ya at the meeting  sup mama\n",
       "87    My tummy hurts.  I wonder if the hypnosis has ...\n",
       "88                     why is it always the fat ones?! \n",
       "89    @januarycrimson Sorry, babe!!  My fam annoys m...\n",
       "90    @Hollywoodheat I should have paid more attenti...\n",
       "91          wednesday my b-day! don't know what 2 do!! \n",
       "92                            Poor cameron (the hills) \n",
       "93    pray for me please, the ex is threatening to s...\n",
       "94    @makeherfamous hmm  , do u really enjoy being ...\n",
       "95    Strider is a sick little puppy  http://apps.fa...\n",
       "96    so rylee,grace...wana go steve's party or not?...\n",
       "97    hey, I actually won one of my bracket pools! T...\n",
       "98    @stark YOU don't follow me, either  and i work...\n",
       "99    A bad nite for the favorite teams: Astros and ...\n",
       "Name: text, Length: 100, dtype: object"
      ]
     },
     "execution_count": 20,
     "metadata": {},
     "output_type": "execute_result"
    }
   ],
   "source": [
    "testing = df.text[:100]\n",
    "testing"
   ]
  },
  {
   "cell_type": "code",
   "execution_count": 21,
   "metadata": {},
   "outputs": [],
   "source": [
    "test_result = []\n",
    "for t in testing:\n",
    "    test_result.append(tweet_cleaner(t))"
   ]
  },
  {
   "cell_type": "code",
   "execution_count": 22,
   "metadata": {},
   "outputs": [
    {
     "data": {
      "text/plain": [
       "[\"  - awww, that's a bummer.  you shoulda got david carr of third day to do it. ;d\",\n",
       " \"is upset that he can't update his facebook by texting it... and might cry as a result  school today also. blah!\",\n",
       " ' i dived many times for the ball. managed to save 50%  the rest go out of bounds',\n",
       " 'my whole body feels itchy and like its on fire ',\n",
       " \" no, it's not behaving at all. i'm mad. why am i here? because i can't see you all over there. \",\n",
       " ' not the whole crew ',\n",
       " 'need a hug ',\n",
       " \" hey  long time no see! yes.. rains a bit ,only a bit  lol , i'm fine thanks , how's you ?\",\n",
       " \"_k nope they didn't have it \",\n",
       " ' que me muera ? ',\n",
       " \"spring break in plain city... it's snowing \",\n",
       " 'i just re-pierced my ears ',\n",
       " \" i couldn't bear to watch it.  and i thought the ua loss was embarrassing . . . . .\",\n",
       " ' it it counts, idk why i did either. you never talk to me anymore ',\n",
       " \" i would've been the first, but i didn't have a gun.    not really though, zac snyder's just a doucheclown.\",\n",
       " ' i wish i got to watch it with you!! i miss you and   how was the premiere?!',\n",
       " \"hollis' death scene will hurt me severely to watch on film  wry is directors cut not out now?\",\n",
       " 'about to file taxes ',\n",
       " ' ahh ive always wanted to see rent  love the soundtrack!!',\n",
       " ' oh dear. were you drinking out of the forgotten table drinks? ',\n",
       " \" i was out most of the day so didn't get much done \",\n",
       " \"one of my friend called me, and asked to meet with her at mid valley today...but i've no time *sigh* \",\n",
       " '_barista i baked you a cake but i ated it ',\n",
       " 'this week is not going as i had hoped ',\n",
       " 'blagh class at 8 tomorrow ',\n",
       " 'i hate when i have to call and wake people up ',\n",
       " 'just going to cry myself to sleep after watching marley and me.  ',\n",
       " 'im sad now  miss.lilly',\n",
       " \"ooooh.... lol  that leslie.... and ok i won't do it again so leslie won't  get mad again \",\n",
       " 'meh... almost lover is the exception... this track gets me depressed every time. ',\n",
       " 'some1 hacked my account on aim  now i have to make a new one',\n",
       " ' i want to go to promote gear and groove but unfornately no ride there  i may b going to the one in anaheim in may though',\n",
       " 'thought sleeping in was an option tomorrow but realizing that it now is not. evaluations in the morning and work in the afternoon! ',\n",
       " ' awe i love you too!!!! 1 am here  i miss you',\n",
       " ' i cry my asian eyes to sleep at night ',\n",
       " \"ok i'm sick and spent an hour sitting in the shower cause i was too sick to stand and held back the puke like a champ. bed now \",\n",
       " ' ill tell ya the story later  not a good day and ill be workin for like three more hours...',\n",
       " ' sorry! bed time came here (gmt+1)   ',\n",
       " \" i don't either. its depressing. i don't think i even want to know about the kids in suitcases. \",\n",
       " \"bed. class 8-12. work 12-3. gym 3-5 or 6. then class 6-10. another day that's gonna fly by. i miss my girlfriend \",\n",
       " \"really don't feel like getting up today... but got to study to for tomorrows practical exam... \",\n",
       " \"he's the reason for the teardrops on my guitar the only one who has enough of me to break my heart \",\n",
       " \"sad, sad, sad. i don't know why but i hate this feeling  i wanna sleep and i still can't!\",\n",
       " ' awww i soo wish i was there to see you finally comfortable! im sad that i missed it ',\n",
       " \"falling asleep. just heard about that tracy girl's body being found. how sad  my heart breaks for that family.\",\n",
       " \" yay! i'm happy for you with your job! but that also means less time for me and you... \",\n",
       " 'just checked my user timeline on my blackberry, it looks like the twanking is still happening  are ppl still having probs w/ bgs and uids?',\n",
       " \"oh man...was ironing 's fave top to wear to a meeting. burnt it \",\n",
       " 'is strangely sad about lilo and samro breaking up. ',\n",
       " \" oh! i'm so sorry  i didn't think about that before retweeting.\",\n",
       " \"broadband plan 'a massive broken promise'  via www.diigo.com/~tautao still waiting for broadband we are \",\n",
       " \" wow, tons of replies from you, may have to unfollow so i can see my friends' tweets, you're scrolling the feed a lot. \",\n",
       " 'our duck and chicken are taking wayyy too long to hatch ',\n",
       " 'put vacation photos online a few yrs ago. pc crashed, and now i forget the name of the site. ',\n",
       " 'i need a hug ',\n",
       " ' not sure what they are, only that they are pos! as much as i want to, i dont think can trade away company assets sorry andy! ',\n",
       " ' i hate when that happens... ',\n",
       " \"i have a sad feeling that dallas is not going to show up  i gotta say though, you'd think more shows would use music from the game. mmm\",\n",
       " 'ugh....92 degrees tomorrow ',\n",
       " 'where did u move to?  i thought u were already in sd. ?? hmmm. random u found me. glad to hear yer doing well.',\n",
       " \" i miss my ps3, it's out of commission  wutcha playing? have you copped 'blood on the sand'?\",\n",
       " 'just leaving the parking lot of work! ',\n",
       " 'the life is cool. but not for me. ',\n",
       " \"sadly though, i've never gotten to experience the post coitus cigarette before, and now i never will. \",\n",
       " 'i had such a nice day. too bad the rain comes in tomorrow at 5am ',\n",
       " \" too bad i won't be around i lost my job and can't even pay my phone bill lmao aw shucks \",\n",
       " 'damm back to school tomorrow ',\n",
       " \"mo jobs, no money.  how in the hell is min wage here 4 f'n clams an hour?\",\n",
       " '  not forever... see you soon!',\n",
       " '_algonquin agreed, i saw the failwhale allllll day today. ',\n",
       " \" oh! haha... dude i dont really look at em unless someone says hey i added you. sorry  i'm so terrible at that. i need a pop up!\",\n",
       " \" i'm sure you're right...    i need to start working out with you and the nikster... or jared at least!\",\n",
       " 'i really hate how people diss my bands!  trace is clearly not ugly!',\n",
       " 'gym attire today was: puma singlet, adidas shorts.......and black business socks and leather shoes  lucky did not run into any cute girls.',\n",
       " \"why won't you show my location?!   \",\n",
       " 'no picnic  my phone smells like citrus.',\n",
       " \" my donkey is sensitive about such comments. nevertheless, he'd (and me'd) be glad to see your mug asap. charger is still awol. \",\n",
       " 'no new csi tonight.  fml',\n",
       " 'i think my arms are sore from tennis ',\n",
       " 'wonders why someone that u like so much can make you so unhappy in a split seccond . depressed . ',\n",
       " 'sleep soon... i just hate saying bye and see you tomorrow for the night. ',\n",
       " ' just got ur newsletter, those fares really are unbelievable, shame i already booked and paid for mine ',\n",
       " \"missin' the boo \",\n",
       " ' me too  #itm',\n",
       " \"damn... i don't have any chalk! my chalkboard is useless \",\n",
       " \"had a blast at the getty villa, but hates that she's had a sore throat all day. it's just getting worse too \",\n",
       " ' hey missed ya at the meeting  sup mama',\n",
       " \"my tummy hurts.  i wonder if the hypnosis has anything to do with it? if so, it's working, i get it, stop smoking!!!\",\n",
       " 'why is it always the fat ones?! ',\n",
       " \" sorry, babe!!  my fam annoys me too. thankfully, they're asleep right now. muahaha. *evil laugh*\",\n",
       " ' i should have paid more attention when we covered photoshop in my webpage design class in undergrad ',\n",
       " \"wednesday my b-day! don't know what 2 do!! \",\n",
       " 'poor cameron (the hills) ',\n",
       " 'pray for me please, the ex is threatening to start sh** at my/our babies 1st birthday party. what a jerk. and i still have a headache ',\n",
       " ' hmm  , do u really enjoy being with him ? if the problems are too constants u should think things more , find someone ulike',\n",
       " 'strider is a sick little puppy  ',\n",
       " \"so rylee,grace...wana go steve's party or not?? sadly since its easter i wnt b able 2 do much  but ohh well.....\",\n",
       " \"hey, i actually won one of my bracket pools! too bad it wasn't the one for money \",\n",
       " \" you don't follow me, either  and i work for you!\",\n",
       " 'a bad nite for the favorite teams: astros and spartans lose.  the nite out with t.w. was good.']"
      ]
     },
     "execution_count": 22,
     "metadata": {},
     "output_type": "execute_result"
    }
   ],
   "source": [
    "test_result"
   ]
  },
  {
   "cell_type": "code",
   "execution_count": 23,
   "metadata": {},
   "outputs": [],
   "source": [
    "nums = [0,400000,800000,1200000,1600000]"
   ]
  },
  {
   "cell_type": "code",
   "execution_count": 24,
   "metadata": {},
   "outputs": [
    {
     "name": "stdout",
     "output_type": "stream",
     "text": [
      "Cleaning and parsing the tweets...\n",
      "\n",
      "Tweets 10000 of 400000 has been processed\n",
      "Tweets 20000 of 400000 has been processed\n",
      "Tweets 30000 of 400000 has been processed\n",
      "Tweets 40000 of 400000 has been processed\n",
      "Tweets 50000 of 400000 has been processed\n",
      "Tweets 60000 of 400000 has been processed\n",
      "Tweets 70000 of 400000 has been processed\n",
      "Tweets 80000 of 400000 has been processed\n",
      "Tweets 90000 of 400000 has been processed\n",
      "Tweets 100000 of 400000 has been processed\n",
      "Tweets 110000 of 400000 has been processed\n",
      "Tweets 120000 of 400000 has been processed\n",
      "Tweets 130000 of 400000 has been processed\n",
      "Tweets 140000 of 400000 has been processed\n",
      "Tweets 150000 of 400000 has been processed\n",
      "Tweets 160000 of 400000 has been processed\n",
      "Tweets 170000 of 400000 has been processed\n",
      "Tweets 180000 of 400000 has been processed\n",
      "Tweets 190000 of 400000 has been processed\n",
      "Tweets 200000 of 400000 has been processed\n",
      "Tweets 210000 of 400000 has been processed\n",
      "Tweets 220000 of 400000 has been processed\n",
      "Tweets 230000 of 400000 has been processed\n",
      "Tweets 240000 of 400000 has been processed\n",
      "Tweets 250000 of 400000 has been processed\n",
      "Tweets 260000 of 400000 has been processed\n",
      "Tweets 270000 of 400000 has been processed\n",
      "Tweets 280000 of 400000 has been processed\n",
      "Tweets 290000 of 400000 has been processed\n",
      "Tweets 300000 of 400000 has been processed\n",
      "Tweets 310000 of 400000 has been processed\n",
      "Tweets 320000 of 400000 has been processed\n",
      "Tweets 330000 of 400000 has been processed\n",
      "Tweets 340000 of 400000 has been processed\n",
      "Tweets 350000 of 400000 has been processed\n",
      "Tweets 360000 of 400000 has been processed\n",
      "Tweets 370000 of 400000 has been processed\n",
      "Tweets 380000 of 400000 has been processed\n",
      "Tweets 390000 of 400000 has been processed\n",
      "Tweets 400000 of 400000 has been processed\n",
      "CPU times: user 1min 35s, sys: 6.74 s, total: 1min 42s\n",
      "Wall time: 1min 47s\n"
     ]
    }
   ],
   "source": [
    "%%time\n",
    "print(\"Cleaning and parsing the tweets...\\n\")\n",
    "clean_tweet_texts = []\n",
    "for i in range(nums[0],nums[1]):\n",
    "    if( (i+1)%10000 == 0 ):\n",
    "        print(\"Tweets %d of %d has been processed\" % ( i+1, nums[1] ))\n",
    "    clean_tweet_texts.append(tweet_cleaner(df['text'][i]))"
   ]
  },
  {
   "cell_type": "code",
   "execution_count": 25,
   "metadata": {},
   "outputs": [
    {
     "name": "stdout",
     "output_type": "stream",
     "text": [
      "Cleaning and parsing the tweets...\n",
      "\n",
      "Tweets 410000 of 800000 has been processed\n",
      "Tweets 420000 of 800000 has been processed\n",
      "Tweets 430000 of 800000 has been processed\n",
      "Tweets 440000 of 800000 has been processed\n",
      "Tweets 450000 of 800000 has been processed\n",
      "Tweets 460000 of 800000 has been processed\n",
      "Tweets 470000 of 800000 has been processed\n",
      "Tweets 480000 of 800000 has been processed\n",
      "Tweets 490000 of 800000 has been processed\n",
      "Tweets 500000 of 800000 has been processed\n",
      "Tweets 510000 of 800000 has been processed\n",
      "Tweets 520000 of 800000 has been processed\n",
      "Tweets 530000 of 800000 has been processed\n",
      "Tweets 540000 of 800000 has been processed\n",
      "Tweets 550000 of 800000 has been processed\n",
      "Tweets 560000 of 800000 has been processed\n",
      "Tweets 570000 of 800000 has been processed\n",
      "Tweets 580000 of 800000 has been processed\n",
      "Tweets 590000 of 800000 has been processed\n",
      "Tweets 600000 of 800000 has been processed\n",
      "Tweets 610000 of 800000 has been processed\n",
      "Tweets 620000 of 800000 has been processed\n",
      "Tweets 630000 of 800000 has been processed\n",
      "Tweets 640000 of 800000 has been processed\n",
      "Tweets 650000 of 800000 has been processed\n",
      "Tweets 660000 of 800000 has been processed\n",
      "Tweets 670000 of 800000 has been processed\n",
      "Tweets 680000 of 800000 has been processed\n",
      "Tweets 690000 of 800000 has been processed\n",
      "Tweets 700000 of 800000 has been processed\n",
      "Tweets 710000 of 800000 has been processed\n",
      "Tweets 720000 of 800000 has been processed\n",
      "Tweets 730000 of 800000 has been processed\n",
      "Tweets 740000 of 800000 has been processed\n",
      "Tweets 750000 of 800000 has been processed\n",
      "Tweets 760000 of 800000 has been processed\n",
      "Tweets 770000 of 800000 has been processed\n",
      "Tweets 780000 of 800000 has been processed\n",
      "Tweets 790000 of 800000 has been processed\n",
      "Tweets 800000 of 800000 has been processed\n",
      "CPU times: user 1min 29s, sys: 5.6 s, total: 1min 34s\n",
      "Wall time: 1min 36s\n"
     ]
    }
   ],
   "source": [
    "%%time\n",
    "print(\"Cleaning and parsing the tweets...\\n\")\n",
    "for i in range(nums[1],nums[2]):\n",
    "    if( (i+1)%10000 == 0 ):\n",
    "        print(\"Tweets %d of %d has been processed\" % ( i+1, nums[2] ))\n",
    "    clean_tweet_texts.append(tweet_cleaner(df['text'][i]))"
   ]
  },
  {
   "cell_type": "code",
   "execution_count": 26,
   "metadata": {},
   "outputs": [
    {
     "name": "stdout",
     "output_type": "stream",
     "text": [
      "Cleaning and parsing the tweets...\n",
      "\n",
      "Tweets 810000 of 1200000 has been processed\n",
      "Tweets 820000 of 1200000 has been processed\n",
      "Tweets 830000 of 1200000 has been processed\n",
      "Tweets 840000 of 1200000 has been processed\n",
      "Tweets 850000 of 1200000 has been processed\n",
      "Tweets 860000 of 1200000 has been processed\n",
      "Tweets 870000 of 1200000 has been processed\n",
      "Tweets 880000 of 1200000 has been processed\n",
      "Tweets 890000 of 1200000 has been processed\n",
      "Tweets 900000 of 1200000 has been processed\n",
      "Tweets 910000 of 1200000 has been processed\n",
      "Tweets 920000 of 1200000 has been processed\n",
      "Tweets 930000 of 1200000 has been processed\n",
      "Tweets 940000 of 1200000 has been processed\n",
      "Tweets 950000 of 1200000 has been processed\n",
      "Tweets 960000 of 1200000 has been processed\n",
      "Tweets 970000 of 1200000 has been processed\n",
      "Tweets 980000 of 1200000 has been processed\n",
      "Tweets 990000 of 1200000 has been processed\n",
      "Tweets 1000000 of 1200000 has been processed\n",
      "Tweets 1010000 of 1200000 has been processed\n",
      "Tweets 1020000 of 1200000 has been processed\n",
      "Tweets 1030000 of 1200000 has been processed\n",
      "Tweets 1040000 of 1200000 has been processed\n",
      "Tweets 1050000 of 1200000 has been processed\n",
      "Tweets 1060000 of 1200000 has been processed\n",
      "Tweets 1070000 of 1200000 has been processed\n",
      "Tweets 1080000 of 1200000 has been processed\n",
      "Tweets 1090000 of 1200000 has been processed\n",
      "Tweets 1100000 of 1200000 has been processed\n",
      "Tweets 1110000 of 1200000 has been processed\n",
      "Tweets 1120000 of 1200000 has been processed\n",
      "Tweets 1130000 of 1200000 has been processed\n",
      "Tweets 1140000 of 1200000 has been processed\n",
      "Tweets 1150000 of 1200000 has been processed\n",
      "Tweets 1160000 of 1200000 has been processed\n",
      "Tweets 1170000 of 1200000 has been processed\n",
      "Tweets 1180000 of 1200000 has been processed\n",
      "Tweets 1190000 of 1200000 has been processed\n",
      "Tweets 1200000 of 1200000 has been processed\n",
      "CPU times: user 1min 27s, sys: 5.44 s, total: 1min 33s\n",
      "Wall time: 1min 34s\n"
     ]
    }
   ],
   "source": [
    "%%time\n",
    "print(\"Cleaning and parsing the tweets...\\n\")\n",
    "for i in range(nums[2],nums[3]):\n",
    "    if( (i+1)%10000 == 0 ):\n",
    "        print(\"Tweets %d of %d has been processed\" % ( i+1, nums[3] ))\n",
    "    clean_tweet_texts.append(tweet_cleaner(df['text'][i]))"
   ]
  },
  {
   "cell_type": "code",
   "execution_count": 27,
   "metadata": {},
   "outputs": [
    {
     "name": "stdout",
     "output_type": "stream",
     "text": [
      "Cleaning and parsing the tweets...\n",
      "\n",
      "Tweets 1210000 of 1600000 has been processed\n",
      "Tweets 1220000 of 1600000 has been processed\n",
      "Tweets 1230000 of 1600000 has been processed\n",
      "Tweets 1240000 of 1600000 has been processed\n",
      "Tweets 1250000 of 1600000 has been processed\n",
      "Tweets 1260000 of 1600000 has been processed\n",
      "Tweets 1270000 of 1600000 has been processed\n",
      "Tweets 1280000 of 1600000 has been processed\n",
      "Tweets 1290000 of 1600000 has been processed\n",
      "Tweets 1300000 of 1600000 has been processed\n",
      "Tweets 1310000 of 1600000 has been processed\n",
      "Tweets 1320000 of 1600000 has been processed\n",
      "Tweets 1330000 of 1600000 has been processed\n",
      "Tweets 1340000 of 1600000 has been processed\n",
      "Tweets 1350000 of 1600000 has been processed\n",
      "Tweets 1360000 of 1600000 has been processed\n",
      "Tweets 1370000 of 1600000 has been processed\n",
      "Tweets 1380000 of 1600000 has been processed\n",
      "Tweets 1390000 of 1600000 has been processed\n",
      "Tweets 1400000 of 1600000 has been processed\n",
      "Tweets 1410000 of 1600000 has been processed\n",
      "Tweets 1420000 of 1600000 has been processed\n",
      "Tweets 1430000 of 1600000 has been processed\n",
      "Tweets 1440000 of 1600000 has been processed\n",
      "Tweets 1450000 of 1600000 has been processed\n",
      "Tweets 1460000 of 1600000 has been processed\n",
      "Tweets 1470000 of 1600000 has been processed\n",
      "Tweets 1480000 of 1600000 has been processed\n",
      "Tweets 1490000 of 1600000 has been processed\n",
      "Tweets 1500000 of 1600000 has been processed\n",
      "Tweets 1510000 of 1600000 has been processed\n",
      "Tweets 1520000 of 1600000 has been processed\n",
      "Tweets 1530000 of 1600000 has been processed\n",
      "Tweets 1540000 of 1600000 has been processed\n",
      "Tweets 1550000 of 1600000 has been processed\n",
      "Tweets 1560000 of 1600000 has been processed\n",
      "Tweets 1570000 of 1600000 has been processed\n",
      "Tweets 1580000 of 1600000 has been processed\n",
      "Tweets 1590000 of 1600000 has been processed\n",
      "Tweets 1600000 of 1600000 has been processed\n",
      "CPU times: user 1min 29s, sys: 7.76 s, total: 1min 37s\n",
      "Wall time: 1min 40s\n"
     ]
    }
   ],
   "source": [
    "%%time\n",
    "print(\"Cleaning and parsing the tweets...\\n\")\n",
    "for i in range(nums[3],nums[4]):\n",
    "    if( (i+1)%10000 == 0 ):\n",
    "        print(\"Tweets %d of %d has been processed\" % ( i+1, nums[4] ))\n",
    "    clean_tweet_texts.append(tweet_cleaner(df['text'][i]))"
   ]
  },
  {
   "cell_type": "code",
   "execution_count": 28,
   "metadata": {},
   "outputs": [
    {
     "data": {
      "text/html": [
       "<div>\n",
       "<style scoped>\n",
       "    .dataframe tbody tr th:only-of-type {\n",
       "        vertical-align: middle;\n",
       "    }\n",
       "\n",
       "    .dataframe tbody tr th {\n",
       "        vertical-align: top;\n",
       "    }\n",
       "\n",
       "    .dataframe thead th {\n",
       "        text-align: right;\n",
       "    }\n",
       "</style>\n",
       "<table border=\"1\" class=\"dataframe\">\n",
       "  <thead>\n",
       "    <tr style=\"text-align: right;\">\n",
       "      <th></th>\n",
       "      <th>text</th>\n",
       "      <th>target</th>\n",
       "    </tr>\n",
       "  </thead>\n",
       "  <tbody>\n",
       "    <tr>\n",
       "      <th>0</th>\n",
       "      <td>- awww, that's a bummer.  you shoulda got da...</td>\n",
       "      <td>0</td>\n",
       "    </tr>\n",
       "    <tr>\n",
       "      <th>1</th>\n",
       "      <td>is upset that he can't update his facebook by ...</td>\n",
       "      <td>0</td>\n",
       "    </tr>\n",
       "    <tr>\n",
       "      <th>2</th>\n",
       "      <td>i dived many times for the ball. managed to s...</td>\n",
       "      <td>0</td>\n",
       "    </tr>\n",
       "    <tr>\n",
       "      <th>3</th>\n",
       "      <td>my whole body feels itchy and like its on fire</td>\n",
       "      <td>0</td>\n",
       "    </tr>\n",
       "    <tr>\n",
       "      <th>4</th>\n",
       "      <td>no, it's not behaving at all. i'm mad. why am...</td>\n",
       "      <td>0</td>\n",
       "    </tr>\n",
       "  </tbody>\n",
       "</table>\n",
       "</div>"
      ],
      "text/plain": [
       "                                                text  target\n",
       "0    - awww, that's a bummer.  you shoulda got da...       0\n",
       "1  is upset that he can't update his facebook by ...       0\n",
       "2   i dived many times for the ball. managed to s...       0\n",
       "3    my whole body feels itchy and like its on fire        0\n",
       "4   no, it's not behaving at all. i'm mad. why am...       0"
      ]
     },
     "execution_count": 28,
     "metadata": {},
     "output_type": "execute_result"
    }
   ],
   "source": [
    "# save cleaned data\n",
    "clean_df = pd.DataFrame(clean_tweet_texts, columns=['text'])\n",
    "clean_df['target'] = df.sentiment\n",
    "clean_clean_dfdf.head()"
   ]
  },
  {
   "cell_type": "code",
   "execution_count": 30,
   "metadata": {},
   "outputs": [
    {
     "data": {
      "text/html": [
       "<div>\n",
       "<style scoped>\n",
       "    .dataframe tbody tr th:only-of-type {\n",
       "        vertical-align: middle;\n",
       "    }\n",
       "\n",
       "    .dataframe tbody tr th {\n",
       "        vertical-align: top;\n",
       "    }\n",
       "\n",
       "    .dataframe thead th {\n",
       "        text-align: right;\n",
       "    }\n",
       "</style>\n",
       "<table border=\"1\" class=\"dataframe\">\n",
       "  <thead>\n",
       "    <tr style=\"text-align: right;\">\n",
       "      <th></th>\n",
       "      <th>text</th>\n",
       "      <th>target</th>\n",
       "    </tr>\n",
       "  </thead>\n",
       "  <tbody>\n",
       "    <tr>\n",
       "      <th>1599995</th>\n",
       "      <td>just woke up. having no school is the best fee...</td>\n",
       "      <td>1</td>\n",
       "    </tr>\n",
       "    <tr>\n",
       "      <th>1599996</th>\n",
       "      <td>thewdb.com - very cool to hear old walt interv...</td>\n",
       "      <td>1</td>\n",
       "    </tr>\n",
       "    <tr>\n",
       "      <th>1599997</th>\n",
       "      <td>are you ready for your mojo makeover? ask me f...</td>\n",
       "      <td>1</td>\n",
       "    </tr>\n",
       "    <tr>\n",
       "      <th>1599998</th>\n",
       "      <td>happy 38th birthday to my boo of alll time!!! ...</td>\n",
       "      <td>1</td>\n",
       "    </tr>\n",
       "    <tr>\n",
       "      <th>1599999</th>\n",
       "      <td>happy #charitytuesday</td>\n",
       "      <td>1</td>\n",
       "    </tr>\n",
       "  </tbody>\n",
       "</table>\n",
       "</div>"
      ],
      "text/plain": [
       "                                                      text  target\n",
       "1599995  just woke up. having no school is the best fee...       1\n",
       "1599996  thewdb.com - very cool to hear old walt interv...       1\n",
       "1599997  are you ready for your mojo makeover? ask me f...       1\n",
       "1599998  happy 38th birthday to my boo of alll time!!! ...       1\n",
       "1599999                          happy #charitytuesday           1"
      ]
     },
     "execution_count": 30,
     "metadata": {},
     "output_type": "execute_result"
    }
   ],
   "source": [
    "clean_df.tail()"
   ]
  },
  {
   "cell_type": "code",
   "execution_count": 29,
   "metadata": {},
   "outputs": [],
   "source": [
    "clean_df.to_csv('../data/twitter/clean_tweet_char.csv', encoding='utf-8')"
   ]
  },
  {
   "cell_type": "code",
   "execution_count": null,
   "metadata": {},
   "outputs": [],
   "source": []
  }
 ],
 "metadata": {
  "kernelspec": {
   "display_name": "Python [conda env:py36]",
   "language": "python",
   "name": "conda-env-py36-py"
  },
  "language_info": {
   "codemirror_mode": {
    "name": "ipython",
    "version": 3
   },
   "file_extension": ".py",
   "mimetype": "text/x-python",
   "name": "python",
   "nbconvert_exporter": "python",
   "pygments_lexer": "ipython3",
   "version": "3.6.4"
  }
 },
 "nbformat": 4,
 "nbformat_minor": 2
}
