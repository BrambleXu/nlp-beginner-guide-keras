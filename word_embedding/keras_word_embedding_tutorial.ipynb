{
 "cells": [
  {
   "cell_type": "markdown",
   "metadata": {},
   "source": [
    "# Preparing the text data\n",
    "\n",
    "Data is in the `20_newsgroup` floder. You can see the data detail and download it from [here](http://www.cs.cmu.edu/afs/cs.cmu.edu/project/theo-20/www/data/news20.html). \n",
    "\n",
    "Glove data we choose the `glove.6B.50d`, which means each word have 40 demensions. You can download it from [here](https://nlp.stanford.edu/projects/glove/), click `glove.6B.zip` to start download. \n",
    "\n",
    "The directory structure is like this:\n",
    "```\n",
    "word_embedding/\n",
    "    20_newsgroup/\n",
    "        alt.atheism/\n",
    "        comp.windows.x/\n",
    "        .....\n",
    "    \n",
    "    glove.6B/\n",
    "        glove.6B.50d.txt\n",
    "        \n",
    "    keras_word_embedding_tutorial.ipynb    \n",
    "```"
   ]
  },
  {
   "cell_type": "code",
   "execution_count": 98,
   "metadata": {},
   "outputs": [],
   "source": [
    "import os\n",
    "import sys\n",
    "import numpy as np\n",
    "from keras.preprocessing.text import Tokenizer\n",
    "from keras.preprocessing.sequence import pad_sequences\n",
    "from keras.utils import to_categorical\n",
    "from keras.layers import Dense, Input, GlobalMaxPooling1D, Flatten\n",
    "from keras.layers import Conv1D, MaxPooling1D, Embedding\n",
    "from keras.models import Model"
   ]
  },
  {
   "cell_type": "code",
   "execution_count": 2,
   "metadata": {},
   "outputs": [
    {
     "name": "stdout",
     "output_type": "stream",
     "text": [
      "./20_newsgroup\n",
      "./glove.6B\n"
     ]
    }
   ],
   "source": [
    "BASE_DIR = '.'\n",
    "GLOVE_DIR = os.path.join(BASE_DIR, 'glove.6B')\n",
    "TEXT_DATA_DIR = os.path.join(BASE_DIR, '20_newsgroup')\n",
    "MAX_SEQUENCE_LENGTH = 1000\n",
    "MAX_NUM_WORDS = 20000\n",
    "EMBEDDING_DIM = 100\n",
    "VALIDATION_SPLIT = 0.2\n",
    "print(TEXT_DATA_DIR)\n",
    "print(GLOVE_DIR)"
   ]
  },
  {
   "cell_type": "code",
   "execution_count": 3,
   "metadata": {},
   "outputs": [
    {
     "data": {
      "text/plain": [
       "['talk.politics.mideast',\n",
       " '.DS_Store',\n",
       " 'rec.autos',\n",
       " 'comp.sys.mac.hardware',\n",
       " 'alt.atheism',\n",
       " 'rec.sport.baseball',\n",
       " 'comp.os.ms-windows.misc',\n",
       " 'rec.sport.hockey',\n",
       " 'sci.crypt',\n",
       " 'sci.med',\n",
       " 'talk.politics.misc',\n",
       " 'rec.motorcycles',\n",
       " 'comp.windows.x',\n",
       " 'comp.graphics',\n",
       " 'comp.sys.ibm.pc.hardware',\n",
       " 'sci.electronics',\n",
       " 'talk.politics.guns',\n",
       " 'sci.space',\n",
       " 'soc.religion.christian',\n",
       " 'misc.forsale',\n",
       " 'talk.religion.misc']"
      ]
     },
     "execution_count": 3,
     "metadata": {},
     "output_type": "execute_result"
    }
   ],
   "source": [
    "os.listdir(TEXT_DATA_DIR)"
   ]
  },
  {
   "cell_type": "code",
   "execution_count": 6,
   "metadata": {},
   "outputs": [
    {
     "name": "stdout",
     "output_type": "stream",
     "text": [
      "./20_newsgroup/talk.politics.mideast\n",
      "True\n",
      "./20_newsgroup/.DS_Store\n",
      "False\n",
      "./20_newsgroup/comp.windows.x\n",
      "True\n"
     ]
    }
   ],
   "source": [
    "path1 = os.path.join(TEXT_DATA_DIR, 'talk.politics.mideast')\n",
    "print(path1)\n",
    "print(os.path.isdir(path1))\n",
    "\n",
    "path2 = os.path.join(TEXT_DATA_DIR, '.DS_Store')\n",
    "print(path2)\n",
    "print(os.path.isdir(path2))\n",
    "\n",
    "path3 = os.path.join(TEXT_DATA_DIR, 'comp.windows.x')\n",
    "print(path3)\n",
    "print(os.path.isdir(path3))"
   ]
  },
  {
   "cell_type": "code",
   "execution_count": 10,
   "metadata": {},
   "outputs": [],
   "source": [
    "texts = []  # list of text samples\n",
    "labels_index = {}  # dictionary mapping label name to numeric id\n",
    "labels = []  # list of label ids\n",
    "for name in sorted(os.listdir(TEXT_DATA_DIR)):\n",
    "    path = os.path.join(TEXT_DATA_DIR, name)\n",
    "    if os.path.isdir(path):\n",
    "        label_id = len(labels_index)\n",
    "        labels_index[name] = label_id"
   ]
  },
  {
   "cell_type": "code",
   "execution_count": 11,
   "metadata": {},
   "outputs": [
    {
     "name": "stdout",
     "output_type": "stream",
     "text": [
      "{'alt.atheism': 0, 'comp.graphics': 1, 'comp.os.ms-windows.misc': 2, 'comp.sys.ibm.pc.hardware': 3, 'comp.sys.mac.hardware': 4, 'comp.windows.x': 5, 'misc.forsale': 6, 'rec.autos': 7, 'rec.motorcycles': 8, 'rec.sport.baseball': 9, 'rec.sport.hockey': 10, 'sci.crypt': 11, 'sci.electronics': 12, 'sci.med': 13, 'sci.space': 14, 'soc.religion.christian': 15, 'talk.politics.guns': 16, 'talk.politics.mideast': 17, 'talk.politics.misc': 18, 'talk.religion.misc': 19}\n",
      "[]\n"
     ]
    }
   ],
   "source": [
    "print(labels_index)"
   ]
  },
  {
   "cell_type": "code",
   "execution_count": 16,
   "metadata": {},
   "outputs": [
    {
     "name": "stdout",
     "output_type": "stream",
     "text": [
      "./20_newsgroup/talk.politics.mideast\n",
      "['75364', '75365', '75366', '75367', '75369', '75370', '75371', '75372', '75373', '75374', '75375', '75376', '75377', '75378', '75379', '75381', '75382', '75383', '75384', '75385', '75386', '75387', '75388', '75389', '75390', '75391', '75392', '75393', '75394', '75395', '75396', '75397', '75398', '75399', '75400', '75401', '75402', '75403', '75404', '75405', '75406', '75407', '75408', '75409', '75410', '75411', '75412', '75413', '75414', '75415', '75416', '75417', '75418', '75419', '75420', '75421', '75422', '75423', '75873', '75874', '75875', '75876', '75877', '75878', '75879', '75880', '75881', '75882', '75883', '75884', '75885', '75886', '75887', '75888', '75889', '75890', '75891', '75892', '75893', '75894', '75895', '75896', '75898', '75899', '75900', '75901', '75902', '75903', '75904', '75905', '75906', '75907', '75908', '75909', '75910', '75911', '75912', '75913', '75914', '75915', '75916', '75917', '75918', '75919', '75920', '75921', '75922', '75923', '75924', '75925', '75926', '75927', '75928', '75929', '75930', '75931', '75932', '75933', '75934', '75935', '75936', '75937', '75938', '75939', '75940', '75941', '75942', '75943', '75944', '75945', '75946', '75947', '75948', '75949', '75950', '75951', '75952', '75953', '75954', '75955', '75956', '75957', '75958', '75959', '75960', '75961', '75962', '75963', '75964', '75965', '75966', '75967', '75968', '75969', '75970', '75971', '75972', '75973', '75974', '75975', '75976', '75977', '75978', '75979', '75980', '75981', '75982', '75983', '75984', '75985', '75986', '75987', '75988', '75989', '75990', '75991', '75992', '75993', '75994', '75995', '75996', '75997', '75998', '75999', '76000', '76001', '76002', '76003', '76004', '76005', '76006', '76007', '76008', '76009', '76010', '76011', '76012', '76013', '76014', '76015', '76016', '76017', '76018', '76019', '76020', '76021', '76022', '76023', '76024', '76025', '76026', '76027', '76028', '76029', '76030', '76031', '76032', '76033', '76034', '76035', '76036', '76037', '76038', '76039', '76040', '76041', '76042', '76043', '76044', '76045', '76046', '76047', '76048', '76049', '76050', '76051', '76052', '76053', '76054', '76055', '76056', '76057', '76058', '76059', '76060', '76061', '76062', '76063', '76064', '76065', '76066', '76067', '76068', '76069', '76070', '76071', '76072', '76073', '76074', '76075', '76076', '76077', '76078', '76079', '76080', '76081', '76082', '76083', '76084', '76085', '76086', '76087', '76088', '76089', '76090', '76091', '76092', '76093', '76094', '76095', '76096', '76097', '76098', '76099', '76100', '76101', '76102', '76103', '76104', '76105', '76106', '76107', '76108', '76109', '76110', '76111', '76112', '76113', '76114', '76115', '76116', '76117', '76118', '76119', '76120', '76121', '76122', '76123', '76124', '76125', '76126', '76127', '76128', '76129', '76130', '76131', '76132', '76133', '76134', '76135', '76136', '76137', '76138', '76139', '76140', '76141', '76142', '76143', '76144', '76145', '76146', '76147', '76148', '76149', '76150', '76152', '76153', '76154', '76155', '76156', '76157', '76158', '76159', '76160', '76161', '76162', '76163', '76164', '76165', '76166', '76167', '76168', '76169', '76170', '76171', '76172', '76173', '76174', '76175', '76176', '76177', '76178', '76179', '76180', '76181', '76182', '76183', '76184', '76185', '76186', '76187', '76188', '76189', '76190', '76191', '76192', '76193', '76194', '76195', '76196', '76197', '76198', '76199', '76200', '76201', '76202', '76203', '76204', '76205', '76206', '76207', '76208', '76209', '76210', '76211', '76212', '76213', '76214', '76215', '76216', '76217', '76218', '76219', '76220', '76221', '76222', '76223', '76224', '76225', '76226', '76227', '76228', '76229', '76230', '76231', '76232', '76233', '76234', '76235', '76236', '76237', '76238', '76239', '76240', '76241', '76242', '76243', '76244', '76245', '76246', '76247', '76248', '76249', '76250', '76251', '76252', '76253', '76254', '76255', '76256', '76257', '76258', '76259', '76260', '76261', '76262', '76263', '76264', '76265', '76266', '76267', '76268', '76269', '76270', '76271', '76272', '76273', '76274', '76275', '76276', '76277', '76278', '76279', '76280', '76281', '76282', '76283', '76284', '76285', '76286', '76287', '76288', '76289', '76290', '76291', '76292', '76293', '76294', '76295', '76296', '76297', '76298', '76299', '76300', '76301', '76302', '76303', '76304', '76305', '76306', '76307', '76308', '76309', '76310', '76311', '76312', '76313', '76314', '76315', '76316', '76317', '76318', '76319', '76320', '76321', '76322', '76323', '76324', '76325', '76326', '76327', '76328', '76329', '76330', '76331', '76332', '76333', '76334', '76335', '76336', '76337', '76338', '76339', '76340', '76341', '76342', '76343', '76344', '76345', '76346', '76347', '76348', '76349', '76350', '76351', '76352', '76353', '76354', '76355', '76356', '76357', '76358', '76359', '76360', '76361', '76362', '76363', '76364', '76365', '76366', '76367', '76368', '76369', '76370', '76371', '76372', '76373', '76374', '76375', '76376', '76377', '76378', '76379', '76380', '76381', '76382', '76383', '76384', '76385', '76386', '76387', '76388', '76389', '76390', '76391', '76392', '76393', '76394', '76395', '76396', '76397', '76398', '76399', '76400', '76401', '76402', '76403', '76404', '76405', '76406', '76407', '76408', '76409', '76410', '76411', '76412', '76413', '76414', '76415', '76416', '76417', '76418', '76419', '76420', '76421', '76422', '76423', '76424', '76425', '76426', '76427', '76428', '76429', '76430', '76431', '76432', '76433', '76434', '76435', '76436', '76437', '76438', '76439', '76440', '76441', '76442', '76443', '76444', '76445', '76446', '76447', '76448', '76449', '76450', '76451', '76452', '76453', '76454', '76455', '76456', '76457', '76458', '76459', '76460', '76461', '76462', '76463', '76464', '76465', '76466', '76467', '76468', '76469', '76470', '76471', '76472', '76473', '76474', '76475', '76476', '76477', '76478', '76479', '76480', '76481', '76482', '76483', '76484', '76485', '76486', '76487', '76488', '76489', '76490', '76491', '76492', '76493', '76494', '76495', '76496', '76497', '76498', '76499', '76500', '76501', '76502', '76503', '76504', '76505', '76506', '76507', '76508', '76509', '76510', '76511', '76512', '76513', '76514', '76515', '76516', '76517', '76518', '76519', '76520', '76521', '76522', '76523', '76524', '76525', '76526', '76527', '76528', '76529', '76530', '76531', '76532', '76533', '76534', '76535', '76536', '76537', '76538', '76539', '76540', '76541', '76542', '76543', '76544', '76545', '76546', '76547', '76548', '76549', '76550', '76551', '76552', '76553', '76554', '76555', '76556', '76557', '76558', '76559', '76560', '76561', '76562', '76563', '76564', '76565', '76566', '76567', '76568', '76569', '77177', '77178', '77179', '77180', '77181', '77182', '77183', '77184', '77185', '77186', '77187', '77188', '77189', '77190', '77191', '77192', '77193', '77194', '77195', '77196', '77197', '77198', '77199', '77200', '77201', '77202', '77203', '77204', '77205', '77206', '77207', '77208', '77209', '77210', '77211', '77212', '77213', '77214', '77215', '77216', '77217', '77218', '77219', '77220', '77221', '77222', '77223', '77224', '77225', '77226', '77227', '77228', '77229', '77230', '77231', '77232', '77233', '77234', '77235', '77236', '77237', '77238', '77239', '77240', '77241', '77242', '77243', '77244', '77245', '77246', '77247', '77248', '77249', '77250', '77251', '77252', '77253', '77254', '77255', '77256', '77257', '77258', '77259', '77260', '77261', '77262', '77263', '77264', '77265', '77266', '77267', '77268', '77269', '77270', '77271', '77272', '77273', '77274', '77275', '77276', '77277', '77278', '77279', '77280', '77281', '77282', '77283', '77284', '77285', '77286', '77287', '77288', '77289', '77290', '77291', '77292', '77293', '77294', '77295', '77296', '77297', '77298', '77299', '77300', '77301', '77302', '77303', '77304', '77305', '77306', '77307', '77308', '77309', '77310', '77311', '77312', '77313', '77314', '77315', '77316', '77317', '77318', '77319', '77320', '77321', '77322', '77323', '77324', '77325', '77326', '77327', '77328', '77329', '77330', '77331', '77332', '77333', '77334', '77335', '77336', '77337', '77338', '77339', '77340', '77341', '77342', '77343', '77344', '77345', '77346', '77347', '77348', '77349', '77350', '77351', '77352', '77353', '77354', '77355', '77356', '77357', '77358', '77359', '77360', '77361', '77362', '77363', '77364', '77365', '77366', '77367', '77368', '77369', '77370', '77371', '77372', '77373', '77374', '77375', '77376', '77377', '77378', '77379', '77380', '77381', '77382', '77383', '77384', '77385', '77386', '77387', '77388', '77389', '77390', '77391', '77392', '77393', '77394', '77395', '77396', '77397', '77398', '77399', '77400', '77401', '77803', '77804', '77805', '77806', '77807', '77808', '77809', '77810', '77811', '77812', '77813', '77814', '77815', '77816', '77817', '77818', '77819', '77820', '77821', '77822', '77823', '77850']\n"
     ]
    }
   ],
   "source": [
    "# texts = []  # list of text samples\n",
    "# labels_index = {}  # dictionary mapping label name to numeric id\n",
    "# labels = []  # list of label ids\n",
    "# for name in sorted(os.listdir(TEXT_DATA_DIR)):\n",
    "#     path = os.path.join(TEXT_DATA_DIR, name)\n",
    "#     if os.path.isdir(path):\n",
    "#         label_id = len(labels_index)\n",
    "#         labels_index[name] = label_id\n",
    "#         for fname in sorted(os.listdir(path)):\n",
    "\n",
    "print(path1)\n",
    "\n",
    "print(sorted(os.listdir(path1))) # fname = '75364' or '75365'...."
   ]
  },
  {
   "cell_type": "code",
   "execution_count": 19,
   "metadata": {},
   "outputs": [
    {
     "name": "stdout",
     "output_type": "stream",
     "text": [
      "<class 'str'>\n",
      "True\n",
      "<class 'str'>\n",
      "True\n",
      "<class 'str'>\n",
      "True\n",
      "<class 'str'>\n",
      "True\n"
     ]
    }
   ],
   "source": [
    "for i, fname in enumerate(sorted(os.listdir(path1))): # fname = '75364' or '75365'....\n",
    "    print(type(fname))\n",
    "    print(fname.isdigit())\n",
    "    if i > 2:\n",
    "        break  \n",
    "\n",
    "# if a string only contain number, like '75364', string.isdigit() will return true"
   ]
  },
  {
   "cell_type": "code",
   "execution_count": 28,
   "metadata": {},
   "outputs": [
    {
     "name": "stdout",
     "output_type": "stream",
     "text": [
      "Newsgroups: talk.politics.mideast\n",
      "Path: cantaloupe.srv.cs.cmu.edu!crabapple.srv.cs.cmu.edu!fs7.ece.cmu.edu!europa.eng.gtefsd.com!howland.reston.ans.net!wupost!uunet!enterpoop.mit.edu!thunder.mcrcim.mcgill.edu!hasan\n",
      "From: hasan@McRCIM.McGill.EDU\n",
      "Subject: Re: ISLAM BORDERS. ( was :Israel: misisipi to ganges)\n",
      "Message-ID: <1993Apr5.183555.20163@thunder.mcrcim.mcgill.edu>\n",
      "Originator: hasan@lightning.mcrcim.mcgill.edu\n",
      "Sender: hasan@McRCIM.McGill.EDU (M. Hasan AlHafez)\n",
      "Nntp-Posting-Host: lightning.mcrcim.mcgill.edu\n",
      "Organization: McGill Research Centre for  Intelligent Machines\n",
      "References: <C4to4G.LnG@news.cso.uiuc.edu> <1993Apr2.155220.16185@thunder.mcrcim.mcgill.edu> <2BBC9B34.13517@news.service.uci.edu> <4805@bimacs.BITNET>\n",
      "Date: Mon, 5 Apr 93 18:35:55 GMT\n",
      "Lines: 26\n",
      "\n",
      "\n",
      "In article <4805@bimacs.BITNET>, ehrlich@bimacs.BITNET (Gideon Ehrlich) writes:\n",
      "|> \n",
      "|> Hassan and some other seemed not to be a ware that Jews celebrating on\n",
      "|> these days Thje Passover holliday the holidy of going a way from the\n",
      "|> Nile.\n",
      "|> So if one let his imagination freely work it seemed beter to write\n",
      "|> that the Zionist drean is \"from the misisipi to the Nile \".\n",
      "\n",
      "the question is by going East or West from the misisipi. on either choice\n",
      "you would loose Palestine or Broklyn, N.Y.\n",
      "\n",
      "I thought you're gonna say fromn misisipi back to the misisipi !\n",
      "\n",
      "|> By the way :\n",
      "|> \n",
      "|> What are the borders the Islamic world dreams about ??\n",
      "|> \n",
      "|> Islamic readers, I am waiting to your honest answer.\n",
      "\n",
      "Let's say : \" let's establish the islamic state first\" or \"let's free our\n",
      "occupied lands first\". And then we can dream about expansion, Mr. Gideon\n",
      "\n",
      "\n",
      "hasan\n",
      "\n",
      "raw text: \n",
      "'Newsgroups: talk.politics.mideast\\nPath: cantaloupe.srv.cs.cmu.edu!crabapple.srv.cs.cmu.edu!fs7.ece.cmu.edu!europa.eng.gtefsd.com!howland.reston.ans.net!wupost!uunet!enterpoop.mit.edu!thunder.mcrcim.mcgill.edu!hasan\\nFrom: hasan@McRCIM.McGill.EDU\\nSubject: Re: ISLAM BORDERS. ( was :Israel: misisipi to ganges)\\nMessage-ID: <1993Apr5.183555.20163@thunder.mcrcim.mcgill.edu>\\nOriginator: hasan@lightning.mcrcim.mcgill.edu\\nSender: hasan@McRCIM.McGill.EDU (M. Hasan AlHafez)\\nNntp-Posting-Host: lightning.mcrcim.mcgill.edu\\nOrganization: McGill Research Centre for  Intelligent Machines\\nReferences: <C4to4G.LnG@news.cso.uiuc.edu> <1993Apr2.155220.16185@thunder.mcrcim.mcgill.edu> <2BBC9B34.13517@news.service.uci.edu> <4805@bimacs.BITNET>\\nDate: Mon, 5 Apr 93 18:35:55 GMT\\nLines: 26\\n\\n\\nIn article <4805@bimacs.BITNET>, ehrlich@bimacs.BITNET (Gideon Ehrlich) writes:\\n|> \\n|> Hassan and some other seemed not to be a ware that Jews celebrating on\\n|> these days Thje Passover holliday the holidy of going a way from the\\n|> Nile.\\n|> So if one let his imagination freely work it seemed beter to write\\n|> that the Zionist drean is \"from the misisipi to the Nile \".\\n\\nthe question is by going East or West from the misisipi. on either choice\\nyou would loose Palestine or Broklyn, N.Y.\\n\\nI thought you\\'re gonna say fromn misisipi back to the misisipi !\\n\\n|> By the way :\\n|> \\n|> What are the borders the Islamic world dreams about ??\\n|> \\n|> Islamic readers, I am waiting to your honest answer.\\n\\nLet\\'s say : \" let\\'s establish the islamic state first\" or \"let\\'s free our\\noccupied lands first\". And then we can dream about expansion, Mr. Gideon\\n\\n\\nhasan\\n'\n",
      "\n",
      " skip head: \n",
      "\n",
      "\n",
      "\n",
      "In article <4805@bimacs.BITNET>, ehrlich@bimacs.BITNET (Gideon Ehrlich) writes:\n",
      "|> \n",
      "|> Hassan and some other seemed not to be a ware that Jews celebrating on\n",
      "|> these days Thje Passover holliday the holidy of going a way from the\n",
      "|> Nile.\n",
      "|> So if one let his imagination freely work it seemed beter to write\n",
      "|> that the Zionist drean is \"from the misisipi to the Nile \".\n",
      "\n",
      "the question is by going East or West from the misisipi. on either choice\n",
      "you would loose Palestine or Broklyn, N.Y.\n",
      "\n",
      "I thought you're gonna say fromn misisipi back to the misisipi !\n",
      "\n",
      "|> By the way :\n",
      "|> \n",
      "|> What are the borders the Islamic world dreams about ??\n",
      "|> \n",
      "|> Islamic readers, I am waiting to your honest answer.\n",
      "\n",
      "Let's say : \" let's establish the islamic state first\" or \"let's free our\n",
      "occupied lands first\". And then we can dream about expansion, Mr. Gideon\n",
      "\n",
      "\n",
      "hasan\n",
      "\n"
     ]
    }
   ],
   "source": [
    "# texts = []  # list of text samples\n",
    "# labels_index = {}  # dictionary mapping label name to numeric id\n",
    "# labels = []  # list of label ids\n",
    "# for name in sorted(os.listdir(TEXT_DATA_DIR)):\n",
    "#     path = os.path.join(TEXT_DATA_DIR, name)\n",
    "#     if os.path.isdir(path):\n",
    "#         label_id = len(labels_index)\n",
    "#         labels_index[name] = label_id\n",
    "#         for fname in sorted(os.listdir(path)):\n",
    "#             if fname.isdigit():\n",
    "#                 fpath = os.path.join(path, fname) # fpath = './20_newsgroup/talk.politics.mideast/75364'\n",
    "#                 if sys.version_info < (3,):\n",
    "#                     f = open(fpath)\n",
    "#                 else:\n",
    "#                     f = open(fpath, encoding='latin-1')\n",
    "#                 t = f.read() # see the output \n",
    "#                 i = t.find('\\n\\n') # skip header\n",
    "#                 if 0 < i:\n",
    "#                     t = t[i:] # see the output \n",
    "\n",
    "f = open('./20_newsgroup/talk.politics.mideast/75364', encoding='latin-1')\n",
    "t = f.read()\n",
    "print(t)\n",
    "print('raw text: ')\n",
    "print(repr(t))\n",
    "i = t.find('\\n\\n')\n",
    "if 0 < i:\n",
    "    t = t[i:]\n",
    "print('\\n skip head: ')\n",
    "\n",
    "print(t)\n",
    "f.close()"
   ]
  },
  {
   "cell_type": "code",
   "execution_count": 30,
   "metadata": {},
   "outputs": [],
   "source": [
    "texts = []  # list of text samples\n",
    "labels_index = {}  # dictionary mapping label name to numeric id\n",
    "labels = []  # list of label ids\n",
    "for name in sorted(os.listdir(TEXT_DATA_DIR)):\n",
    "    path = os.path.join(TEXT_DATA_DIR, name)\n",
    "    if os.path.isdir(path):\n",
    "        label_id = len(labels_index)\n",
    "        labels_index[name] = label_id\n",
    "        for fname in sorted(os.listdir(path)):\n",
    "            if fname.isdigit():\n",
    "                fpath = os.path.join(path, fname)\n",
    "                if sys.version_info < (3,):\n",
    "                    f = open(fpath)\n",
    "                else:\n",
    "                    f = open(fpath, encoding='latin-1')\n",
    "                t = f.read()\n",
    "                i = t.find('\\n\\n')  # skip header\n",
    "                if 0 < i:\n",
    "                    t = t[i:]\n",
    "                texts.append(t)\n",
    "                f.close()\n",
    "                labels.append(label_id)"
   ]
  },
  {
   "cell_type": "code",
   "execution_count": 34,
   "metadata": {},
   "outputs": [
    {
     "name": "stdout",
     "output_type": "stream",
     "text": [
      "19997\n"
     ]
    },
    {
     "name": "stderr",
     "output_type": "stream",
     "text": [
      "IOPub data rate exceeded.\n",
      "The notebook server will temporarily stop sending output\n",
      "to the client in order to avoid crashing it.\n",
      "To change this limit, set the config variable\n",
      "`--NotebookApp.iopub_data_rate_limit`.\n",
      "\n",
      "Current values:\n",
      "NotebookApp.iopub_data_rate_limit=1000000.0 (bytes/sec)\n",
      "NotebookApp.rate_limit_window=3.0 (secs)\n",
      "\n"
     ]
    }
   ],
   "source": [
    "print(len(texts))\n",
    "print(texts) # too large to print "
   ]
  },
  {
   "cell_type": "code",
   "execution_count": 87,
   "metadata": {},
   "outputs": [
    {
     "data": {
      "text/plain": [
       "'\\n\\nArchive-name: atheism/resources\\nAlt-atheism-archive-name: resources\\nLast-modified: 11 December 1992\\nVersion: 1.0\\n\\n                              Atheist Resources\\n\\n                      Addresses of Atheist Organizations\\n\\n                                     USA\\n\\nFREEDOM FROM RELIGION FOUNDATION\\n\\nDarwin fish bumper stickers and assorted other atheist paraphernalia are\\navailable from the Freedom From Religion Foundation in the US.\\n\\nWrite to:  FFRF, P.O. Box 750, Madison, WI 53701.\\nTelephone: (608) 256-8900\\n\\nEVOLUTION DESIGNS\\n\\nEvolution Designs sell the \"Darwin fish\".  It\\'s a fish symbol, like the ones\\nChristians stick on their cars, but with feet and the word \"Darwin\" written\\ninside.  The deluxe moulded 3D plastic fish is $4.95 postpaid in the US.\\n\\nWrite to:  Evolution Designs, 7119 Laurel Canyon #4, North Hollywood,\\n           CA 91605.\\n\\nPeople in the San Francisco Bay area can get Darwin Fish from Lynn Gold --\\ntry mailing <figmo@netcom.com>.  For net people who go to Lynn directly, the\\nprice is $4.95 per fish.\\n\\nAMERICAN ATHEIST PRESS\\n\\nAAP publish various atheist books -- critiques of the Bible, lists of\\nBiblical contradictions, and so on.  One such book is:\\n\\n\"The Bible Handbook\" by W.P. Ball and G.W. Foote.  American Atheist Press.\\n372 pp.  ISBN 0-910309-26-4, 2nd edition, 1986.  Bible contradictions,\\nabsurdities, atrocities, immoralities... contains Ball, Foote: \"The Bible\\nContradicts Itself\", AAP.  Based on the King James version of the Bible.\\n\\nWrite to:  American Atheist Press, P.O. Box 140195, Austin, TX 78714-0195.\\n      or:  7215 Cameron Road, Austin, TX 78752-2973.\\nTelephone: (512) 458-1244\\nFax:       (512) 467-9525\\n\\nPROMETHEUS BOOKS\\n\\nSell books including Haught\\'s \"Holy Horrors\" (see below).\\n\\nWrite to:  700 East Amherst Street, Buffalo, New York 14215.\\nTelephone: (716) 837-2475.\\n\\nAn alternate address (which may be newer or older) is:\\nPrometheus Books, 59 Glenn Drive, Buffalo, NY 14228-2197.\\n\\nAFRICAN-AMERICANS FOR HUMANISM\\n\\nAn organization promoting black secular humanism and uncovering the history of\\nblack freethought.  They publish a quarterly newsletter, AAH EXAMINER.\\n\\nWrite to:  Norm R. Allen, Jr., African Americans for Humanism, P.O. Box 664,\\n           Buffalo, NY 14226.\\n\\n                                United Kingdom\\n\\nRationalist Press Association          National Secular Society\\n88 Islington High Street               702 Holloway Road\\nLondon N1 8EW                          London N19 3NL\\n071 226 7251                           071 272 1266\\n\\nBritish Humanist Association           South Place Ethical Society\\n14 Lamb\\'s Conduit Passage              Conway Hall\\nLondon WC1R 4RH                        Red Lion Square\\n071 430 0908                           London WC1R 4RL\\nfax 071 430 1271                       071 831 7723\\n\\nThe National Secular Society publish \"The Freethinker\", a monthly magazine\\nfounded in 1881.\\n\\n                                   Germany\\n\\nIBKA e.V.\\nInternationaler Bund der Konfessionslosen und Atheisten\\nPostfach 880, D-1000 Berlin 41. Germany.\\n\\nIBKA publish a journal:\\nMIZ. (Materialien und Informationen zur Zeit. Politisches\\nJournal der Konfessionslosesn und Atheisten. Hrsg. IBKA e.V.)\\nMIZ-Vertrieb, Postfach 880, D-1000 Berlin 41. Germany.\\n\\nFor atheist books, write to:\\n\\nIBDK, Internationaler B\"ucherdienst der Konfessionslosen\\nPostfach 3005, D-3000 Hannover 1. Germany.\\nTelephone: 0511/211216\\n\\n\\n                               Books -- Fiction\\n\\nTHOMAS M. DISCH\\n\\n\"The Santa Claus Compromise\"\\nShort story.  The ultimate proof that Santa exists.  All characters and \\nevents are fictitious.  Any similarity to living or dead gods -- uh, well...\\n\\nWALTER M. MILLER, JR\\n\\n\"A Canticle for Leibowitz\"\\nOne gem in this post atomic doomsday novel is the monks who spent their lives\\ncopying blueprints from \"Saint Leibowitz\", filling the sheets of paper with\\nink and leaving white lines and letters.\\n\\nEDGAR PANGBORN\\n\\n\"Davy\"\\nPost atomic doomsday novel set in clerical states.  The church, for example,\\nforbids that anyone \"produce, describe or use any substance containing...\\natoms\". \\n\\nPHILIP K. DICK\\n\\nPhilip K. Dick Dick wrote many philosophical and thought-provoking short \\nstories and novels.  His stories are bizarre at times, but very approachable.\\nHe wrote mainly SF, but he wrote about people, truth and religion rather than\\ntechnology.  Although he often believed that he had met some sort of God, he\\nremained sceptical.  Amongst his novels, the following are of some relevance:\\n\\n\"Galactic Pot-Healer\"\\nA fallible alien deity summons a group of Earth craftsmen and women to a\\nremote planet to raise a giant cathedral from beneath the oceans.  When the\\ndeity begins to demand faith from the earthers, pot-healer Joe Fernwright is\\nunable to comply.  A polished, ironic and amusing novel.\\n\\n\"A Maze of Death\"\\nNoteworthy for its description of a technology-based religion.\\n\\n\"VALIS\"\\nThe schizophrenic hero searches for the hidden mysteries of Gnostic\\nChristianity after reality is fired into his brain by a pink laser beam of\\nunknown but possibly divine origin.  He is accompanied by his dogmatic and\\ndismissively atheist friend and assorted other odd characters.\\n\\n\"The Divine Invasion\"\\nGod invades Earth by making a young woman pregnant as she returns from\\nanother star system.  Unfortunately she is terminally ill, and must be\\nassisted by a dead man whose brain is wired to 24-hour easy listening music.\\n\\nMARGARET ATWOOD\\n\\n\"The Handmaid\\'s Tale\"\\nA story based on the premise that the US Congress is mysteriously\\nassassinated, and fundamentalists quickly take charge of the nation to set it\\n\"right\" again.  The book is the diary of a woman\\'s life as she tries to live\\nunder the new Christian theocracy.  Women\\'s right to own property is revoked,\\nand their bank accounts are closed; sinful luxuries are outlawed, and the\\nradio is only used for readings from the Bible.  Crimes are punished\\nretroactively: doctors who performed legal abortions in the \"old world\" are\\nhunted down and hanged.  Atwood\\'s writing style is difficult to get used to\\nat first, but the tale grows more and more chilling as it goes on.\\n\\nVARIOUS AUTHORS\\n\\n\"The Bible\"\\nThis somewhat dull and rambling work has often been criticized.  However, it\\nis probably worth reading, if only so that you\\'ll know what all the fuss is\\nabout.  It exists in many different versions, so make sure you get the one\\ntrue version.\\n\\n                             Books -- Non-fiction\\n\\nPETER DE ROSA\\n\\n\"Vicars of Christ\", Bantam Press, 1988\\nAlthough de Rosa seems to be Christian or even Catholic this is a very\\nenlighting history of papal immoralities, adulteries, fallacies etc.\\n(German translation: \"Gottes erste Diener. Die dunkle Seite des Papsttums\",\\nDroemer-Knaur, 1989)\\n\\nMICHAEL MARTIN\\n\\n\"Atheism: A Philosophical Justification\", Temple University Press,\\n Philadelphia, USA.\\nA detailed and scholarly justification of atheism.  Contains an outstanding\\nappendix defining terminology and usage in this (necessarily) tendentious\\narea.  Argues both for \"negative atheism\" (i.e. the \"non-belief in the\\nexistence of god(s)\") and also for \"positive atheism\" (\"the belief in the\\nnon-existence of god(s)\").  Includes great refutations of the most\\nchallenging arguments for god; particular attention is paid to refuting\\ncontempory theists such as Platinga and Swinburne.\\n541 pages. ISBN 0-87722-642-3 (hardcover; paperback also available)\\n\\n\"The Case Against Christianity\", Temple University Press\\nA comprehensive critique of Christianity, in which he considers\\nthe best contemporary defences of Christianity and (ultimately)\\ndemonstrates that they are unsupportable and/or incoherent.\\n273 pages. ISBN 0-87722-767-5\\n\\nJAMES TURNER\\n\\n\"Without God, Without Creed\", The Johns Hopkins University Press, Baltimore,\\n MD, USA\\nSubtitled \"The Origins of Unbelief in America\".  Examines the way in which\\nunbelief (whether agnostic or atheistic)  became a mainstream alternative\\nworld-view.  Focusses on the period 1770-1900, and while considering France\\nand Britain the emphasis is on American, and particularly New England\\ndevelopments.  \"Neither a religious history of secularization or atheism,\\nWithout God, Without Creed is, rather, the intellectual history of the fate\\nof a single idea, the belief that God exists.\" \\n316 pages. ISBN (hardcover) 0-8018-2494-X (paper) 0-8018-3407-4\\n\\nGEORGE SELDES (Editor)\\n\\n\"The great thoughts\", Ballantine Books, New York, USA\\nA \"dictionary of quotations\" of a different kind, concentrating on statements\\nand writings which, explicitly or implicitly, present the person\\'s philosophy\\nand world-view.  Includes obscure (and often suppressed) opinions from many\\npeople.  For some popular observations, traces the way in which various\\npeople expressed and twisted the idea over the centuries.  Quite a number of\\nthe quotations are derived from Cardiff\\'s \"What Great Men Think of Religion\"\\nand Noyes\\' \"Views of Religion\".\\n490 pages. ISBN (paper) 0-345-29887-X.\\n\\nRICHARD SWINBURNE\\n\\n\"The Existence of God (Revised Edition)\", Clarendon Paperbacks, Oxford\\nThis book is the second volume in a trilogy that began with \"The Coherence of\\nTheism\" (1977) and was concluded with \"Faith and Reason\" (1981).  In this\\nwork, Swinburne attempts to construct a series of inductive arguments for the\\nexistence of God.  His arguments, which are somewhat tendentious and rely\\nupon the imputation of late 20th century western Christian values and\\naesthetics to a God which is supposedly as simple as can be conceived, were\\ndecisively rejected in Mackie\\'s \"The Miracle of Theism\".  In the revised\\nedition of \"The Existence of God\", Swinburne includes an Appendix in which he\\nmakes a somewhat incoherent attempt to rebut Mackie.\\n\\nJ. L. MACKIE\\n\\n\"The Miracle of Theism\", Oxford\\nThis (posthumous) volume contains a comprehensive review of the principal\\narguments for and against the existence of God.  It ranges from the classical\\nphilosophical positions of Descartes, Anselm, Berkeley, Hume et al, through\\nthe moral arguments of Newman, Kant and Sidgwick, to the recent restatements\\nof the classical theses by Plantinga and Swinburne.  It also addresses those\\npositions which push the concept of God beyond the realm of the rational,\\nsuch as those of Kierkegaard, Kung and Philips, as well as \"replacements for\\nGod\" such as Lelie\\'s axiarchism.  The book is a delight to read - less\\nformalistic and better written than Martin\\'s works, and refreshingly direct\\nwhen compared with the hand-waving of Swinburne.\\n\\nJAMES A. HAUGHT\\n\\n\"Holy Horrors: An Illustrated History of Religious Murder and Madness\",\\n Prometheus Books\\nLooks at religious persecution from ancient times to the present day -- and\\nnot only by Christians.\\nLibrary of Congress Catalog Card Number 89-64079. 1990.\\n\\nNORM R. ALLEN, JR.\\n\\n\"African American Humanism: an Anthology\"\\nSee the listing for African Americans for Humanism above.\\n\\nGORDON STEIN\\n\\n\"An Anthology of Atheism and Rationalism\", Prometheus Books\\nAn anthology covering a wide range of subjects, including \\'The Devil, Evil\\nand Morality\\' and \\'The History of Freethought\\'.  Comprehensive bibliography.\\n\\nEDMUND D. COHEN\\n\\n\"The Mind of The Bible-Believer\", Prometheus Books\\nA study of why people become Christian fundamentalists, and what effect it\\nhas on them.\\n\\n                                Net Resources\\n\\nThere\\'s a small mail-based archive server at mantis.co.uk which carries\\narchives of old alt.atheism.moderated articles and assorted other files.  For\\nmore information, send mail to archive-server@mantis.co.uk saying\\n\\n   help\\n   send atheism/index\\n\\nand it will mail back a reply.\\n\\n\\nmathew\\nÿ\\n'"
      ]
     },
     "execution_count": 87,
     "metadata": {},
     "output_type": "execute_result"
    }
   ],
   "source": [
    "texts[0]"
   ]
  },
  {
   "cell_type": "code",
   "execution_count": 42,
   "metadata": {},
   "outputs": [
    {
     "name": "stdout",
     "output_type": "stream",
     "text": [
      "19997\n",
      "[0, 0, 0, 0, 0, 0, 0, 0, 0, 0]\n"
     ]
    }
   ],
   "source": [
    "print(len(labels))\n",
    "print(labels[:10])"
   ]
  },
  {
   "cell_type": "code",
   "execution_count": 40,
   "metadata": {},
   "outputs": [
    {
     "name": "stdout",
     "output_type": "stream",
     "text": [
      "{0, 1, 2, 3, 4, 5, 6, 7, 8, 9, 10, 11, 12, 13, 14, 15, 16, 17, 18, 19}\n"
     ]
    }
   ],
   "source": [
    "print(set(labels))"
   ]
  },
  {
   "cell_type": "code",
   "execution_count": 41,
   "metadata": {},
   "outputs": [
    {
     "data": {
      "text/plain": [
       "{'alt.atheism': 0,\n",
       " 'comp.graphics': 1,\n",
       " 'comp.os.ms-windows.misc': 2,\n",
       " 'comp.sys.ibm.pc.hardware': 3,\n",
       " 'comp.sys.mac.hardware': 4,\n",
       " 'comp.windows.x': 5,\n",
       " 'misc.forsale': 6,\n",
       " 'rec.autos': 7,\n",
       " 'rec.motorcycles': 8,\n",
       " 'rec.sport.baseball': 9,\n",
       " 'rec.sport.hockey': 10,\n",
       " 'sci.crypt': 11,\n",
       " 'sci.electronics': 12,\n",
       " 'sci.med': 13,\n",
       " 'sci.space': 14,\n",
       " 'soc.religion.christian': 15,\n",
       " 'talk.politics.guns': 16,\n",
       " 'talk.politics.mideast': 17,\n",
       " 'talk.politics.misc': 18,\n",
       " 'talk.religion.misc': 19}"
      ]
     },
     "execution_count": 41,
     "metadata": {},
     "output_type": "execute_result"
    }
   ],
   "source": [
    "labels_index"
   ]
  },
  {
   "cell_type": "code",
   "execution_count": null,
   "metadata": {},
   "outputs": [],
   "source": [
    "# write the load data in one cell\n",
    "# No need to run this cell\n",
    "\n",
    "texts = []  # list of text samples\n",
    "labels_index = {}  # dictionary mapping label name to numeric id\n",
    "labels = []  # list of label ids\n",
    "for name in sorted(os.listdir(TEXT_DATA_DIR)):\n",
    "    path = os.path.join(TEXT_DATA_DIR, name)\n",
    "    if os.path.isdir(path):\n",
    "        label_id = len(labels_index)\n",
    "        labels_index[name] = label_id\n",
    "        for fname in sorted(os.listdir(path)):\n",
    "            if fname.isdigit():\n",
    "                fpath = os.path.join(path, fname)\n",
    "                if sys.version_info < (3,):\n",
    "                    f = open(fpath)\n",
    "                else:\n",
    "                    f = open(fpath, encoding='latin-1')\n",
    "                t = f.read()\n",
    "                i = t.find('\\n\\n')  # skip header\n",
    "                if 0 < i:\n",
    "                    t = t[i:]\n",
    "                texts.append(t)\n",
    "                f.close()\n",
    "                labels.append(label_id)\n",
    "\n",
    "print('Found %s texts.' % len(texts))"
   ]
  },
  {
   "cell_type": "markdown",
   "metadata": {},
   "source": [
    "**info**\n",
    "- `texts`: contain 19997 text\n",
    "- `labels`: the label of each text\n",
    "- `labels_index`: the category of each label"
   ]
  },
  {
   "cell_type": "markdown",
   "metadata": {},
   "source": [
    "## preprocess with keras"
   ]
  },
  {
   "cell_type": "code",
   "execution_count": 74,
   "metadata": {},
   "outputs": [
    {
     "name": "stdout",
     "output_type": "stream",
     "text": [
      "./20_newsgroup\n",
      "./glove.6B\n"
     ]
    }
   ],
   "source": [
    "BASE_DIR = '.'\n",
    "GLOVE_DIR = os.path.join(BASE_DIR, 'glove.6B')\n",
    "TEXT_DATA_DIR = os.path.join(BASE_DIR, '20_newsgroup')\n",
    "MAX_SEQUENCE_LENGTH = 1000 # truncate the sequences to a maximum length of 1000 words\n",
    "MAX_NUM_WORDS = 20000 # we only consider top 20000 most commonly occuring words in the dataset\n",
    "EMBEDDING_DIM = 100\n",
    "VALIDATION_SPLIT = 0.2\n",
    "print(TEXT_DATA_DIR)\n",
    "print(GLOVE_DIR)"
   ]
  },
  {
   "cell_type": "markdown",
   "metadata": {},
   "source": [
    "convert all text samples in the dataset into sequences of word indices. A \"word index\" would simply be an integer ID for the word. We will only consider the top 20,000 most commonly occuring words in the dataset, and we will truncate the sequences to a maximum length of 1000 words.\n"
   ]
  },
  {
   "cell_type": "code",
   "execution_count": 75,
   "metadata": {},
   "outputs": [],
   "source": [
    "from keras.preprocessing.text import Tokenizer\n",
    "from keras.preprocessing.sequence import pad_sequences"
   ]
  },
  {
   "cell_type": "code",
   "execution_count": 85,
   "metadata": {},
   "outputs": [],
   "source": [
    "tokenizer = Tokenizer(num_words=20000)  # MAX_NUM_WORDS = 20000 \n",
    "tokenizer.fit_on_texts(texts)\n"
   ]
  },
  {
   "cell_type": "code",
   "execution_count": 86,
   "metadata": {},
   "outputs": [
    {
     "data": {
      "text/plain": [
       "174074"
      ]
     },
     "execution_count": 86,
     "metadata": {},
     "output_type": "execute_result"
    }
   ],
   "source": [
    "len(tokenizer.word_index)"
   ]
  },
  {
   "cell_type": "code",
   "execution_count": 77,
   "metadata": {},
   "outputs": [],
   "source": [
    "sequences = tokenizer.texts_to_sequences(texts)"
   ]
  },
  {
   "cell_type": "code",
   "execution_count": 78,
   "metadata": {},
   "outputs": [
    {
     "name": "stdout",
     "output_type": "stream",
     "text": [
      "19997\n",
      "1528\n",
      "[1237, 273, 1213, 1439, 1071, 1213, 1237, 273, 1439, 192, 2515, 348, 2964, 779, 332, 28, 45, 1628, 1439, 2516, 3, 1628, 2144, 780, 937, 29, 441, 2770, 8854, 4601, 7969, 11979, 5, 12806, 75, 1628, 19, 229, 29, 1, 937, 29, 441, 2770, 6, 1, 118, 558, 2, 90, 106, 482, 3979, 6602, 5375, 1871, 12260, 1632, 17687, 1828, 5101, 1828, 5101, 788, 1, 8854, 4601, 96, 4, 4601, 5455, 64, 1, 751, 563, 1716, 15, 71, 844, 24, 20, 1971, 5, 1, 389, 8854, 744, 1023, 1, 7762, 1300, 2912, 4601, 8, 73, 1698, 6, 1, 118, 558, 2, 1828, 5101, 16500, 13447, 73, 1261, 10982, 170, 66, 6, 1, 869, 2235, 2544, 534, 34, 79, 8854, 4601, 29, 6603, 3388, 264, 1505, 535, 49, 12, 343, 66, 60, 155, 2, 6603, 1043, 1, 427, 8, 73, 1698, 618, 4601, 417, 1628, 632, 11716, 4602, 814, 1628, 691, 3, 1, 467, 2163, 3, 2266, 7491, 5, 48, 15, 40, 135, 378, 8, 1, 467, 6359, 30, 101, 90, 1781, 5, 115, 101, 417, 1628, 632, 17061, 1448, 4317, 45, 860, 73, 1611, 2455, 3343, 467, 7491, 13132, 5814, 1301, 1781, 1, 467, 9477, 667, 11716, 323, 15, 1, 1074, 802, 332, 3, 1, 467, 558, 2, 417, 1628, 632, 90, 106, 482, 2030, 2408, 22, 13799, 853, 2030, 2408, 1871, 3793, 12524, 439, 3793, 13448, 691, 788, 691, 502, 1552, 11221, 116, 993, 558, 2, 2974, 996, 7674, 1184, 1346, 108, 828, 1871, 9478, 12807, 32, 7675, 460, 61, 110, 16, 3362, 22, 1950, 8, 691, 1711, 5622, 233, 1346, 1428, 4623, 1260, 12, 16501, 32, 1044, 7854, 564, 3955, 16501, 5, 1, 500, 3, 564, 27, 4602, 4, 9648, 2913, 10746, 558, 2, 7128, 97, 2456, 2420, 4623, 1260, 12, 16501, 90, 106, 482, 13133, 1346, 1428, 797, 2652, 632, 2366, 445, 3955, 681, 2477, 288, 1184, 15965, 853, 2797, 7308, 2797, 15438, 6902, 15438, 10747, 1538, 15000, 2366, 1380, 337, 5994, 681, 338, 13800, 3138, 1995, 2797, 728, 12808, 3558, 15438, 11717, 2797, 439, 15438, 11717, 15438, 1, 445, 3955, 681, 4602, 1, 4, 5254, 1689, 4712, 6, 1282, 103, 152, 6421, 9020, 19947, 19120, 141, 2230, 4545, 1574, 1282, 4602, 4, 2341, 9020, 2341, 6421, 9020, 103, 152, 19947, 19120, 141, 2230, 4545, 1574, 1282, 12, 1628, 691, 558, 2, 129, 6421, 19947, 141, 3857, 19121, 28, 1282, 1871, 691, 4429, 1058, 56, 1, 3542, 17062, 3316, 723, 889, 1, 4430, 1333, 9, 3542, 959, 36, 3158, 5, 1143, 19, 55, 13134, 2, 980, 22, 628, 2224, 2267, 107, 4624, 56, 2280, 2420, 4, 12, 40, 13135, 6, 14, 301, 4296, 8205, 8, 1, 60, 1930, 71, 1133, 6484, 29, 4984, 8323, 1, 6675, 3, 1063, 20, 5815, 5, 2785, 594, 701, 5, 2557, 8855, 301, 4296, 8205, 261, 6, 478, 1, 514, 12, 333, 18371, 9, 147, 1717, 2601, 22, 94, 55, 4124, 2590, 3881, 8206, 171, 3858, 8206, 171, 3858, 3858, 355, 125, 6307, 5, 359, 19122, 723, 2309, 5, 85, 2309, 19, 7763, 31, 387, 24, 117, 51, 355, 3120, 2701, 24, 51, 355, 44, 66, 511, 5, 441, 298, 82, 547, 536, 51, 491, 1858, 9, 51, 81, 2526, 58, 576, 3, 137, 51, 5922, 13449, 5870, 85, 1, 347, 19, 3, 58, 7855, 10348, 6676, 4, 5923, 5871, 4, 294, 3, 544, 5, 714, 2, 4, 1585, 2001, 2, 2409, 4, 6308, 29, 11478, 1, 67, 1, 5871, 4087, 2, 2310, 577, 29, 1, 6676, 1144, 8, 2786, 2, 12525, 4, 8856, 5, 8587, 8205, 4, 3, 571, 17063, 12, 149, 1758, 3, 4, 547, 323, 441, 1, 9182, 6677, 12, 1, 3749, 10008, 3, 972, 154, 1172, 8, 2602, 119, 85, 1725, 30, 4, 5456, 2738, 5338, 3, 2678, 24, 1370, 3077, 2478, 51, 8, 10983, 30, 85, 15439, 5, 1628, 916, 5, 12806, 75, 3329, 3158, 1, 3077, 4271, 137, 544, 30, 531, 4, 886, 1623, 6977, 21, 280, 4498, 29, 209, 1786, 140, 1140, 280, 8, 4741, 5, 200, 16, 9649, 30, 4, 628, 313, 1106, 1725, 8, 8207, 2, 408, 2200, 715, 3406, 2121, 19948, 1, 8324, 4, 889, 323, 15, 1, 4431, 9, 1, 118, 1166, 8, 5, 9479, 1939, 179, 1535, 3, 1, 1718, 2, 261, 11, 132, 248, 1, 378, 8, 1, 17688, 3, 4, 11718, 275, 21, 280, 4339, 2, 487, 223, 1, 108, 422, 6550, 132, 2, 197, 1686, 8, 5, 71, 1904, 3058, 19, 1413, 5995, 19, 14183, 5, 1, 784, 8, 76, 151, 12, 10178, 29, 1, 467, 2679, 19, 5763, 2345, 60, 3139, 845, 4625, 6, 1, 309, 210, 19, 220, 5, 11719, 1349, 1922, 8, 1120, 2, 79, 151, 2, 31, 126, 24, 1, 8324, 9330, 68, 5, 68, 16502, 21, 11, 654, 15, 814, 3187, 1, 467, 14, 2009, 8720, 5, 19123, 156, 52, 491, 83, 15966, 240, 11, 8, 255, 811, 655, 23, 76, 48, 9, 1008, 74, 35, 36, 1, 16503, 8, 44, 11, 959, 6, 125, 251, 1680, 48, 122, 203, 13, 79, 1, 40, 254, 332, 691, 314, 4429, 870, 415, 13136, 3, 582, 632, 1649, 536, 415, 13136, 253, 2, 16, 422, 22, 114, 1787, 14, 8, 4, 117, 500, 3, 13450, 17689, 207, 1839, 2297, 995, 1165, 2268, 549, 2330, 1213, 4, 6307, 3559, 3078, 219, 632, 2527, 780, 4, 3215, 5, 7856, 3559, 3, 1213, 1301, 32, 10179, 6756, 7970, 5, 2753, 6, 14, 1341, 534, 11479, 194, 12, 3170, 1213, 7, 103, 1, 314, 973, 6, 1, 970, 3, 137, 87, 5, 86, 12, 1840, 1213, 1, 973, 6, 1, 314, 970, 3, 137, 87, 838, 272, 3, 1, 134, 12809, 1403, 12, 137, 699, 1796, 8, 1476, 2, 4432, 135, 21, 5, 1506, 4317, 45, 14581, 47, 15001, 9826, 86, 229, 1, 238, 245, 972, 3078, 219, 632, 4, 3859, 12526, 3, 972, 6, 61, 51, 6604, 1, 259, 7764, 3, 972, 5, 5171, 7309, 9, 27, 19, 5, 22, 18372, 8857, 1506, 4317, 45, 19124, 78, 802, 6309, 204, 137, 204, 7129, 1, 13451, 6116, 219, 632, 3059, 2113, 780, 1, 4398, 3, 6, 1174, 1, 120, 6, 61, 363, 8858, 22, 15002, 1774, 4, 5558, 1862, 210, 600, 15, 1, 707, 9183, 5, 196, 1502, 2914, 5, 4499, 1, 4375, 8, 15, 417, 5, 1414, 108, 2894, 10566, 1064, 4, 591, 500, 3, 22, 1213, 204, 137, 204, 7129, 8, 298, 1, 4376, 500, 3, 1, 5299, 3, 4, 553, 379, 1, 973, 9, 137, 959, 9331, 1506, 4317, 15001, 45, 59, 1063, 45, 73, 1145, 2068, 1, 272, 2503, 691, 108, 828, 780, 4, 2727, 3, 9827, 3, 4, 251, 392, 15, 1494, 5, 4143, 61, 4009, 22, 11480, 839, 1, 6978, 3060, 5, 210, 600, 838, 6605, 5, 491, 10748, 420, 29, 125, 66, 12, 58, 1600, 2399, 9184, 1, 120, 6, 61, 814, 66, 1699, 5, 8208, 1, 379, 153, 1, 3956, 346, 4, 212, 3, 1, 9827, 19, 4144, 29, 35, 272, 537, 84, 3, 441, 5, 1323, 3, 441, 17064, 1506, 4317, 1063, 45, 9021, 59, 1247, 1, 970, 3, 137, 5623, 2455, 5255, 14, 378, 8, 1, 295, 1227, 6, 4, 9, 2010, 20, 1, 3, 3543, 4868, 5, 25, 5924, 20, 577, 5, 310, 4985, 6, 14, 156, 2540, 2, 8588, 4, 772, 3, 12527, 1403, 12, 1, 970, 3, 137, 85, 1403, 61, 19, 2009, 5, 3771, 675, 1, 3, 1185, 6757, 1719, 1209, 422, 805, 5, 2, 4, 137, 61, 8, 2754, 21, 633, 21, 34, 16, 9828, 70, 4241, 6, 1, 5300, 3, 3543, 6, 1, 5623, 2455, 3, 1, 970, 3, 137, 838, 32, 6, 61, 51, 402, 4, 2009, 18372, 1186, 2, 13137, 183, 162, 13137, 1, 5300, 3, 3543, 5255, 14, 1227, 1301, 4, 3859, 1681, 3, 1, 7217, 1403, 12, 5, 245, 1, 970, 3, 137, 11, 8325, 29, 1, 7587, 6307, 2820, 3, 10180, 1068, 1782, 813, 213, 1, 656, 1403, 3, 11720, 5, 2, 1, 1175, 3, 1, 7587, 30, 5, 11, 86, 2516, 127, 2820, 61, 2613, 1, 1615, 3, 137, 1342, 1, 7971, 3, 1, 2771, 135, 21, 127, 3, 5, 5376, 21, 107, 21, 10984, 12, 137, 135, 21, 1, 378, 8, 4, 19949, 2, 205, 364, 5, 184, 744, 82, 473, 5, 1468, 67, 1651, 20, 1, 501, 8859, 3, 802, 4, 1552, 11221, 32, 12810, 500, 3, 591, 1214, 5, 12528, 691, 882, 31, 591, 4835, 29, 2575, 387, 2, 1, 839, 236, 5, 17, 76, 30, 563, 1149, 3, 1166, 4035, 344, 212, 3036, 1408, 7128, 97, 2456, 2420, 4623, 417, 16501, 32, 116, 1, 4603, 12, 4623, 1260, 12, 16501, 319, 2346, 5872, 32, 3, 1213, 5, 691, 32, 5256, 4, 1463, 1259, 3, 4805, 502, 4869, 4569, 1242, 5, 5, 4869, 500, 3, 3859, 7676, 141, 9480, 1, 505, 3, 1, 467, 5713, 691, 4, 823, 3, 121, 66, 670, 422, 9479, 5, 35, 745, 11, 52, 15, 77, 343, 1439, 452, 4, 436, 176, 323, 1237, 546, 31, 2932, 552, 324, 61, 5506, 3171, 3, 309, 1071, 1213, 9650, 1415, 5, 12806, 75, 353, 12, 68, 185, 351, 176, 2, 1237, 546, 2932, 552, 324, 409, 214, 351, 1213, 2632, 5, 11, 41, 176, 173, 4, 930, 2050]\n"
     ]
    }
   ],
   "source": [
    "print(len(sequences))\n",
    "print(len(sequences[0]))\n",
    "print(sequences[0])\n"
   ]
  },
  {
   "cell_type": "code",
   "execution_count": 79,
   "metadata": {},
   "outputs": [],
   "source": [
    "word_index = tokenizer.word_index"
   ]
  },
  {
   "cell_type": "code",
   "execution_count": 80,
   "metadata": {},
   "outputs": [
    {
     "name": "stdout",
     "output_type": "stream",
     "text": [
      "174074\n",
      "('the', 1)\n",
      "('to', 2)\n",
      "('of', 3)\n",
      "('a', 4)\n",
      "('and', 5)\n",
      "('in', 6)\n",
      "('i', 7)\n",
      "('is', 8)\n",
      "('that', 9)\n",
      "(\"'ax\", 10)\n",
      "('it', 11)\n",
      "('for', 12)\n"
     ]
    }
   ],
   "source": [
    "print(len(word_index))\n",
    "for i, item in enumerate(word_index.items()):\n",
    "    print(item)\n",
    "    if i > 10:\n",
    "        break\n",
    "\n",
    "# 0 is a reserved index that won't be assigned to any word."
   ]
  },
  {
   "cell_type": "code",
   "execution_count": 53,
   "metadata": {},
   "outputs": [],
   "source": [
    "data = pad_sequences(sequences, maxlen=MAX_SEQUENCE_LENGTH) # MAX_SEQUENCE_LENGTH = 1000"
   ]
  },
  {
   "cell_type": "code",
   "execution_count": 55,
   "metadata": {},
   "outputs": [
    {
     "name": "stdout",
     "output_type": "stream",
     "text": [
      "(19997, 1000)\n",
      "[   58   576     3   137    51  5922 13449  5870    85     1   347    19\n",
      "     3    58  7855 10348  6676     4  5923  5871     4   294     3   544\n",
      "     5   714     2     4  1585  2001     2  2409     4  6308    29 11478\n",
      "     1    67     1  5871  4087     2  2310   577    29     1  6676  1144\n",
      "     8  2786     2 12525     4  8856     5  8587  8205     4     3   571\n",
      " 17063    12   149  1758     3     4   547   323   441     1  9182  6677\n",
      "    12     1  3749 10008     3   972   154  1172     8  2602   119    85\n",
      "  1725    30     4  5456  2738  5338     3  2678    24  1370  3077  2478\n",
      "    51     8 10983    30    85 15439     5  1628   916     5 12806    75\n",
      "  3329  3158     1  3077  4271   137   544    30   531     4   886  1623\n",
      "  6977    21   280  4498    29   209  1786   140  1140   280     8  4741\n",
      "     5   200    16  9649    30     4   628   313  1106  1725     8  8207\n",
      "     2   408  2200   715  3406  2121 19948     1  8324     4   889   323\n",
      "    15     1  4431     9     1   118  1166     8     5  9479  1939   179\n",
      "  1535     3     1  1718     2   261    11   132   248     1   378     8\n",
      "     1 17688     3     4 11718   275    21   280  4339     2   487   223\n",
      "     1   108   422  6550   132     2   197  1686     8     5    71  1904\n",
      "  3058    19  1413  5995    19 14183     5     1   784     8    76   151\n",
      "    12 10178    29     1   467  2679    19  5763  2345    60  3139   845\n",
      "  4625     6     1   309   210    19   220     5 11719  1349  1922     8\n",
      "  1120     2    79   151     2    31   126    24     1  8324  9330    68\n",
      "     5    68 16502    21    11   654    15   814  3187     1   467    14\n",
      "  2009  8720     5 19123   156    52   491    83 15966   240    11     8\n",
      "   255   811   655    23    76    48     9  1008    74    35    36     1\n",
      " 16503     8    44    11   959     6   125   251  1680    48   122   203\n",
      "    13    79     1    40   254   332   691   314  4429   870   415 13136\n",
      "     3   582   632  1649   536   415 13136   253     2    16   422    22\n",
      "   114  1787    14     8     4   117   500     3 13450 17689   207  1839\n",
      "  2297   995  1165  2268   549  2330  1213     4  6307  3559  3078   219\n",
      "   632  2527   780     4  3215     5  7856  3559     3  1213  1301    32\n",
      " 10179  6756  7970     5  2753     6    14  1341   534 11479   194    12\n",
      "  3170  1213     7   103     1   314   973     6     1   970     3   137\n",
      "    87     5    86    12  1840  1213     1   973     6     1   314   970\n",
      "     3   137    87   838   272     3     1   134 12809  1403    12   137\n",
      "   699  1796     8  1476     2  4432   135    21     5  1506  4317    45\n",
      " 14581    47 15001  9826    86   229     1   238   245   972  3078   219\n",
      "   632     4  3859 12526     3   972     6    61    51  6604     1   259\n",
      "  7764     3   972     5  5171  7309     9    27    19     5    22 18372\n",
      "  8857  1506  4317    45 19124    78   802  6309   204   137   204  7129\n",
      "     1 13451  6116   219   632  3059  2113   780     1  4398     3     6\n",
      "  1174     1   120     6    61   363  8858    22 15002  1774     4  5558\n",
      "  1862   210   600    15     1   707  9183     5   196  1502  2914     5\n",
      "  4499     1  4375     8    15   417     5  1414   108  2894 10566  1064\n",
      "     4   591   500     3    22  1213   204   137   204  7129     8   298\n",
      "     1  4376   500     3     1  5299     3     4   553   379     1   973\n",
      "     9   137   959  9331  1506  4317 15001    45    59  1063    45    73\n",
      "  1145  2068     1   272  2503   691   108   828   780     4  2727     3\n",
      "  9827     3     4   251   392    15  1494     5  4143    61  4009    22\n",
      " 11480   839     1  6978  3060     5   210   600   838  6605     5   491\n",
      " 10748   420    29   125    66    12    58  1600  2399  9184     1   120\n",
      "     6    61   814    66  1699     5  8208     1   379   153     1  3956\n",
      "   346     4   212     3     1  9827    19  4144    29    35   272   537\n",
      "    84     3   441     5  1323     3   441 17064  1506  4317  1063    45\n",
      "  9021    59  1247     1   970     3   137  5623  2455  5255    14   378\n",
      "     8     1   295  1227     6     4     9  2010    20     1     3  3543\n",
      "  4868     5    25  5924    20   577     5   310  4985     6    14   156\n",
      "  2540     2  8588     4   772     3 12527  1403    12     1   970     3\n",
      "   137    85  1403    61    19  2009     5  3771   675     1     3  1185\n",
      "  6757  1719  1209   422   805     5     2     4   137    61     8  2754\n",
      "    21   633    21    34    16  9828    70  4241     6     1  5300     3\n",
      "  3543     6     1  5623  2455     3     1   970     3   137   838    32\n",
      "     6    61    51   402     4  2009 18372  1186     2 13137   183   162\n",
      " 13137     1  5300     3  3543  5255    14  1227  1301     4  3859  1681\n",
      "     3     1  7217  1403    12     5   245     1   970     3   137    11\n",
      "  8325    29     1  7587  6307  2820     3 10180  1068  1782   813   213\n",
      "     1   656  1403     3 11720     5     2     1  1175     3     1  7587\n",
      "    30     5    11    86  2516   127  2820    61  2613     1  1615     3\n",
      "   137  1342     1  7971     3     1  2771   135    21   127     3     5\n",
      "  5376    21   107    21 10984    12   137   135    21     1   378     8\n",
      "     4 19949     2   205   364     5   184   744    82   473     5  1468\n",
      "    67  1651    20     1   501  8859     3   802     4  1552 11221    32\n",
      " 12810   500     3   591  1214     5 12528   691   882    31   591  4835\n",
      "    29  2575   387     2     1   839   236     5    17    76    30   563\n",
      "  1149     3  1166  4035   344   212  3036  1408  7128    97  2456  2420\n",
      "  4623   417 16501    32   116     1  4603    12  4623  1260    12 16501\n",
      "   319  2346  5872    32     3  1213     5   691    32  5256     4  1463\n",
      "  1259     3  4805   502  4869  4569  1242     5     5  4869   500     3\n",
      "  3859  7676   141  9480     1   505     3     1   467  5713   691     4\n",
      "   823     3   121    66   670   422  9479     5    35   745    11    52\n",
      "    15    77   343  1439   452     4   436   176   323  1237   546    31\n",
      "  2932   552   324    61  5506  3171     3   309  1071  1213  9650  1415\n",
      "     5 12806    75   353    12    68   185   351   176     2  1237   546\n",
      "  2932   552   324   409   214   351  1213  2632     5    11    41   176\n",
      "   173     4   930  2050]\n"
     ]
    }
   ],
   "source": [
    "print(data.shape)\n",
    "print(data[0])"
   ]
  },
  {
   "cell_type": "code",
   "execution_count": 56,
   "metadata": {},
   "outputs": [
    {
     "name": "stdout",
     "output_type": "stream",
     "text": [
      "(19997, 20)\n"
     ]
    }
   ],
   "source": [
    "labels = to_categorical(np.asarray(labels))\n",
    "print(labels.shape)"
   ]
  },
  {
   "cell_type": "code",
   "execution_count": 59,
   "metadata": {},
   "outputs": [
    {
     "name": "stdout",
     "output_type": "stream",
     "text": [
      "[0 1 2 3 4 5 6 7 8 9]\n",
      "[ 9616 18394 12658   218  5190 14675 19822 18534  6858  1749]\n"
     ]
    }
   ],
   "source": [
    "# shuffle and split to train and validation data\n",
    "indices = np.arange(data.shape[0])\n",
    "print(indices[:10])\n",
    "np.random.shuffle(indices)\n",
    "print(indices[:10])\n",
    "data = data[indices]\n",
    "labels = labels[indices]\n",
    "\n",
    "nb_validation_samples = int(VALIDATION_SPLIT * data.shape[0])\n",
    "x_train = data[:-nb_validation_samples]\n",
    "y_train = labels[:-nb_validation_samples]\n",
    "x_test = data[-nb_validation_samples:]\n",
    "y_test = labels[-nb_validation_samples:]"
   ]
  },
  {
   "cell_type": "code",
   "execution_count": null,
   "metadata": {},
   "outputs": [],
   "source": [
    "# write in one cell \n",
    "from keras.preprocessing.text import Tokenizer\n",
    "from keras.preprocessing.sequence import pad_sequences\n",
    "\n",
    "tokenizer = Tokenizer(nb_words=MAX_NB_WORDS)\n",
    "tokenizer.fit_on_texts(texts)\n",
    "sequences = tokenizer.texts_to_sequences(texts)\n",
    "\n",
    "word_index = tokenizer.word_index\n",
    "print('Found %s unique tokens.' % len(word_index))\n",
    "\n",
    "data = pad_sequences(sequences, maxlen=MAX_SEQUENCE_LENGTH)\n",
    "\n",
    "labels = to_categorical(np.asarray(labels))\n",
    "print('Shape of data tensor:', data.shape)\n",
    "print('Shape of label tensor:', labels.shape)\n",
    "\n",
    "# split the data into a training set and a validation set\n",
    "indices = np.arange(data.shape[0])\n",
    "np.random.shuffle(indices)\n",
    "data = data[indices]\n",
    "labels = labels[indices]\n",
    "nb_validation_samples = int(VALIDATION_SPLIT * data.shape[0])\n",
    "\n",
    "x_train = data[:-nb_validation_samples]\n",
    "y_train = labels[:-nb_validation_samples]\n",
    "x_val = data[-nb_validation_samples:]\n",
    "y_val = labels[-nb_validation_samples:]"
   ]
  },
  {
   "cell_type": "markdown",
   "metadata": {},
   "source": [
    "## Preparing the Embedding layer\n",
    "\n",
    "Mapping the 20000 words to the known embedding in the glove."
   ]
  },
  {
   "cell_type": "code",
   "execution_count": 67,
   "metadata": {},
   "outputs": [
    {
     "name": "stdout",
     "output_type": "stream",
     "text": [
      "the 0.418 0.24968 -0.41242 0.1217 0.34527 -0.044457 -0.49688 -0.17862 -0.00066023 -0.6566 0.27843 -0.14767 -0.55677 0.14658 -0.0095095 0.011658 0.10204 -0.12792 -0.8443 -0.12181 -0.016801 -0.33279 -0.1552 -0.23131 -0.19181 -1.8823 -0.76746 0.099051 -0.42125 -0.19526 4.0071 -0.18594 -0.52287 -0.31681 0.00059213 0.0074449 0.17778 -0.15897 0.012041 -0.054223 -0.29871 -0.15749 -0.34758 -0.045637 -0.44251 0.18785 0.0027849 -0.18411 -0.11514 -0.78581\n",
      "\n",
      "['the', '0.418', '0.24968', '-0.41242', '0.1217', '0.34527', '-0.044457', '-0.49688', '-0.17862', '-0.00066023', '-0.6566', '0.27843', '-0.14767', '-0.55677', '0.14658', '-0.0095095', '0.011658', '0.10204', '-0.12792', '-0.8443', '-0.12181', '-0.016801', '-0.33279', '-0.1552', '-0.23131', '-0.19181', '-1.8823', '-0.76746', '0.099051', '-0.42125', '-0.19526', '4.0071', '-0.18594', '-0.52287', '-0.31681', '0.00059213', '0.0074449', '0.17778', '-0.15897', '0.012041', '-0.054223', '-0.29871', '-0.15749', '-0.34758', '-0.045637', '-0.44251', '0.18785', '0.0027849', '-0.18411', '-0.11514', '-0.78581']\n",
      ", 0.013441 0.23682 -0.16899 0.40951 0.63812 0.47709 -0.42852 -0.55641 -0.364 -0.23938 0.13001 -0.063734 -0.39575 -0.48162 0.23291 0.090201 -0.13324 0.078639 -0.41634 -0.15428 0.10068 0.48891 0.31226 -0.1252 -0.037512 -1.5179 0.12612 -0.02442 -0.042961 -0.28351 3.5416 -0.11956 -0.014533 -0.1499 0.21864 -0.33412 -0.13872 0.31806 0.70358 0.44858 -0.080262 0.63003 0.32111 -0.46765 0.22786 0.36034 -0.37818 -0.56657 0.044691 0.30392\n",
      "\n",
      "[',', '0.013441', '0.23682', '-0.16899', '0.40951', '0.63812', '0.47709', '-0.42852', '-0.55641', '-0.364', '-0.23938', '0.13001', '-0.063734', '-0.39575', '-0.48162', '0.23291', '0.090201', '-0.13324', '0.078639', '-0.41634', '-0.15428', '0.10068', '0.48891', '0.31226', '-0.1252', '-0.037512', '-1.5179', '0.12612', '-0.02442', '-0.042961', '-0.28351', '3.5416', '-0.11956', '-0.014533', '-0.1499', '0.21864', '-0.33412', '-0.13872', '0.31806', '0.70358', '0.44858', '-0.080262', '0.63003', '0.32111', '-0.46765', '0.22786', '0.36034', '-0.37818', '-0.56657', '0.044691', '0.30392']\n"
     ]
    }
   ],
   "source": [
    "with open(os.path.join(GLOVE_DIR, 'glove.6B.50d.txt')) as f:\n",
    "    i = 0\n",
    "    for line in f.readlines():\n",
    "        print(line)\n",
    "        print(line.split())\n",
    "        i += 1\n",
    "        if i > 1:\n",
    "            break"
   ]
  },
  {
   "cell_type": "code",
   "execution_count": 69,
   "metadata": {},
   "outputs": [],
   "source": [
    "# read glove to embedding\n",
    "embeddings_index = {}\n",
    "f = open(os.path.join(GLOVE_DIR, 'glove.6B.50d.txt'))\n",
    "for line in f:\n",
    "    values = line.split()\n",
    "    word = values[0]\n",
    "    coefs = np.asarray(values[1:], dtype='float32')\n",
    "    embeddings_index[word] = coefs\n",
    "f.close()"
   ]
  },
  {
   "cell_type": "code",
   "execution_count": 70,
   "metadata": {},
   "outputs": [
    {
     "name": "stdout",
     "output_type": "stream",
     "text": [
      "400000\n"
     ]
    }
   ],
   "source": [
    "print(len(embeddings_index)) # num of words "
   ]
  },
  {
   "cell_type": "code",
   "execution_count": 90,
   "metadata": {},
   "outputs": [
    {
     "name": "stdout",
     "output_type": "stream",
     "text": [
      "174074\n"
     ]
    }
   ],
   "source": [
    "EMBEDDING_DIM = 50\n",
    "print(len(word_index))"
   ]
  },
  {
   "cell_type": "code",
   "execution_count": 92,
   "metadata": {},
   "outputs": [],
   "source": [
    "# use embeddings_index to build our embedding_matrix\n",
    "embedding_matrix = np.zeros((len(word_index)+1, EMBEDDING_DIM)) # fist row represent 0, unknown\n",
    "for word, i in word_index.items():\n",
    "    embedding_vector = embeddings_index.get(word) # if not find in the dict, return None\n",
    "    if embedding_vector is not None:\n",
    "        embedding_matrix[i] = embedding_vector"
   ]
  },
  {
   "cell_type": "code",
   "execution_count": 93,
   "metadata": {},
   "outputs": [
    {
     "data": {
      "text/plain": [
       "(174075, 50)"
      ]
     },
     "execution_count": 93,
     "metadata": {},
     "output_type": "execute_result"
    }
   ],
   "source": [
    "embedding_matrix.shape"
   ]
  },
  {
   "cell_type": "code",
   "execution_count": 94,
   "metadata": {},
   "outputs": [
    {
     "data": {
      "text/plain": [
       "174074"
      ]
     },
     "execution_count": 94,
     "metadata": {},
     "output_type": "execute_result"
    }
   ],
   "source": [
    "len(word_index)"
   ]
  },
  {
   "cell_type": "code",
   "execution_count": 96,
   "metadata": {},
   "outputs": [],
   "source": [
    "from keras.layers import Embedding\n",
    "embedding_layer = Embedding(len(word_index)+1,\n",
    "                            EMBEDDING_DIM,\n",
    "                            weights=[embedding_matrix],\n",
    "                            input_length=MAX_SEQUENCE_LENGTH,\n",
    "                            trainable=False)\n"
   ]
  },
  {
   "cell_type": "markdown",
   "metadata": {},
   "source": [
    "## Training a 1D convnet"
   ]
  },
  {
   "cell_type": "code",
   "execution_count": 100,
   "metadata": {},
   "outputs": [
    {
     "name": "stdout",
     "output_type": "stream",
     "text": [
      "Train on 15998 samples, validate on 3999 samples\n",
      "Epoch 1/2\n",
      "15998/15998 [==============================] - 75s 5ms/step - loss: 2.4136 - acc: 0.2035 - val_loss: 1.8285 - val_acc: 0.3651\n",
      "Epoch 2/2\n",
      "15998/15998 [==============================] - 80s 5ms/step - loss: 1.6243 - acc: 0.4322 - val_loss: 1.3771 - val_acc: 0.5154\n"
     ]
    },
    {
     "data": {
      "text/plain": [
       "<keras.callbacks.History at 0x1837fe6c50>"
      ]
     },
     "execution_count": 100,
     "metadata": {},
     "output_type": "execute_result"
    }
   ],
   "source": [
    "sequence_input = Input(shape=(MAX_SEQUENCE_LENGTH,), dtype='int32')\n",
    "embedded_sequences = embedding_layer(sequence_input)\n",
    "x = Conv1D(128, 5, activation='relu')(embedded_sequences)\n",
    "x = MaxPooling1D(5)(x)\n",
    "x = Conv1D(128, 5, activation='relu')(x)\n",
    "x = MaxPooling1D(5)(x)\n",
    "x = Conv1D(128, 5, activation='relu')(x)\n",
    "x = MaxPooling1D(35)(x)  # global max pooling\n",
    "x = Flatten()(x)\n",
    "x = Dense(128, activation='relu')(x)\n",
    "preds = Dense(len(labels_index), activation='softmax')(x)\n",
    "\n",
    "model = Model(sequence_input, preds)\n",
    "model.compile(loss='categorical_crossentropy',\n",
    "              optimizer='rmsprop',\n",
    "              metrics=['acc'])\n",
    "\n",
    "# happy learning!\n",
    "model.fit(x_train, y_train, validation_data=(x_test, y_test),\n",
    "          epochs=2, batch_size=128)"
   ]
  }
 ],
 "metadata": {
  "kernelspec": {
   "display_name": "Python [conda env:py36]",
   "language": "python",
   "name": "conda-env-py36-py"
  },
  "language_info": {
   "codemirror_mode": {
    "name": "ipython",
    "version": 3
   },
   "file_extension": ".py",
   "mimetype": "text/x-python",
   "name": "python",
   "nbconvert_exporter": "python",
   "pygments_lexer": "ipython3",
   "version": "3.6.4"
  }
 },
 "nbformat": 4,
 "nbformat_minor": 2
}
