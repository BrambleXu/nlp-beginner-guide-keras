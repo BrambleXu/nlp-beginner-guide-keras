{
 "cells": [
  {
   "cell_type": "markdown",
   "metadata": {},
   "source": [
    "# Subword level representation\n",
    "\n",
    "\n",
    "In this notebook, we will preprocess the data to represent sentences in a subword level. The data set is `ag_news`, same with `char-level-cnn` [project](https://github.com/BrambleXu/nlp-beginner-guide-keras/tree/master/char-level-cnn). The reason that I create [nlp-beginner-guide-keras](https://github.com/BrambleXu/nlp-beginner-guide-keras) is to learn different techniques, so here we use a different approach to do the preprocess. We will use subword level word representation, instead of character level word representation.\n",
    "\n",
    "\n",
    "## What is subword level representation\n",
    "\n",
    "\n",
    "\n",
    "## Why use subword level representation\n",
    "\n",
    "\n",
    "## How to preprocess \n",
    "\n",
    "As for the preprocessing, you can find detail explanation in this notebook [subword-preprocess](https://github.com/BrambleXu/nlp-beginner-guide-keras/blob/master/char-level-rnn/notebooks/subword-preprocess.ipynb). "
   ]
  },
  {
   "cell_type": "code",
   "execution_count": 1,
   "metadata": {},
   "outputs": [],
   "source": [
    "import sys, os\n",
    "sys.path.append(os.pardir)\n",
    "from data_helpers import BPE"
   ]
  },
  {
   "cell_type": "code",
   "execution_count": 2,
   "metadata": {},
   "outputs": [
    {
     "name": "stderr",
     "output_type": "stream",
     "text": [
      "Using TensorFlow backend.\n"
     ]
    }
   ],
   "source": [
    "#=======================All Preprocessing====================\n",
    "\n",
    "# load data\n",
    "import numpy as np\n",
    "import pandas as pd\n",
    "train_data_source = '../../char-level-cnn/data/ag_news_csv/train.csv'\n",
    "test_data_source = '../../char-level-cnn/data/ag_news_csv/test.csv'\n",
    "train_df = pd.read_csv(train_data_source, header=None)\n",
    "test_df = pd.read_csv(test_data_source, header=None)\n",
    "\n",
    "# concatenate column 1 and column 2 as one text\n",
    "for df in [train_df, test_df]:\n",
    "    df[1] = df[1] + df[2]\n",
    "    df = df.drop([2], axis=1)\n",
    "    \n",
    "# convert string to lower case \n",
    "train_texts = train_df[1].values \n",
    "train_texts = [s.lower() for s in train_texts]\n",
    "test_texts = test_df[1].values \n",
    "test_texts = [s.lower() for s in test_texts]\n",
    "\n",
    "# replace all digits with 0\n",
    "import re\n",
    "train_texts = [re.sub('\\d', '0', s) for s in train_texts]\n",
    "test_texts = [re.sub('\\d', '0', s) for s in test_texts]\n",
    "\n",
    "# replace all URLs with <url> \n",
    "url_reg  = r'(https|http)?:\\/\\/(\\w|\\.|\\/|\\?|\\=|\\&|\\%)*\\b'\n",
    "train_texts = [re.sub(url_reg, '<url>', s) for s in train_texts]\n",
    "test_texts = [re.sub(url_reg, '<url>', s) for s in test_texts]\n",
    "\n",
    "# Convert string to subword, this process may take several minutes\n",
    "bpe = BPE(\"../pre-trained-model/en.wiki.bpe.op25000.vocab\")\n",
    "train_texts = [bpe.encode(s) for s in train_texts]\n",
    "test_texts = [bpe.encode(s) for s in test_texts]\n",
    "\n",
    "# Build vocab, {token: index}\n",
    "vocab = {}\n",
    "for i, token in enumerate(bpe.words):\n",
    "    vocab[token] = i + 1\n",
    "    \n",
    "# Convert subword to index, function version \n",
    "def subword2index(texts, vocab):\n",
    "    sentences = []\n",
    "    for s in texts:\n",
    "        s = s.split()\n",
    "        one_line = []\n",
    "        for word in s:\n",
    "            if word not in vocab.keys():\n",
    "                one_line.append(vocab['unk'])\n",
    "            else:\n",
    "                one_line.append(vocab[word])\n",
    "        sentences.append(one_line)\n",
    "    return sentences\n",
    "\n",
    "# Convert train and test \n",
    "train_sentences = subword2index(train_texts, vocab)\n",
    "test_sentences = subword2index(test_texts, vocab)\n",
    "\n",
    "# Padding\n",
    "from keras.preprocessing.sequence import pad_sequences\n",
    "train_data = pad_sequences(train_sentences, maxlen=1014, padding='post')\n",
    "test_data = pad_sequences(test_sentences, maxlen=1014, padding='post')\n",
    "\n",
    "# Convert to numpy array\n",
    "train_data = np.array(train_data)\n",
    "test_data = np.array(test_data)\n",
    "\n",
    "#=======================Get classes================\n",
    "train_classes = train_df[0].values\n",
    "train_class_list = [x-1 for x in train_classes]\n",
    "test_classes = test_df[0].values\n",
    "test_class_list = [x-1 for x in test_classes]\n",
    "\n",
    "from keras.utils import to_categorical\n",
    "train_classes = to_categorical(train_class_list)\n",
    "test_classes = to_categorical(test_class_list)"
   ]
  },
  {
   "cell_type": "code",
   "execution_count": 3,
   "metadata": {},
   "outputs": [
    {
     "data": {
      "text/plain": [
       "array([[ 5323,    68, 24904, ...,     0,     0,     0],\n",
       "       [ 3226,    84,    51, ...,     0,     0,     0],\n",
       "       [18658,    36,  6182, ...,     0,     0,     0],\n",
       "       ...,\n",
       "       [21745,    18,   313, ...,     0,     0,     0],\n",
       "       [15235, 24915, 24889, ...,     0,     0,     0],\n",
       "       [  591,   302,  2622, ...,     0,     0,     0]], dtype=int32)"
      ]
     },
     "execution_count": 3,
     "metadata": {},
     "output_type": "execute_result"
    }
   ],
   "source": [
    "train_data"
   ]
  },
  {
   "cell_type": "markdown",
   "metadata": {},
   "source": [
    "## embedding layer wegihts\n",
    "\n",
    "In order to use the embedding weights we first to load the subword embedding weights."
   ]
  },
  {
   "cell_type": "code",
   "execution_count": 4,
   "metadata": {},
   "outputs": [],
   "source": [
    "from gensim.models import KeyedVectors\n",
    "\n",
    "model = KeyedVectors.load_word2vec_format(\"../pre-trained-model/en.wiki.bpe.op25000.d50.w2v.bin\", binary=True)"
   ]
  },
  {
   "cell_type": "code",
   "execution_count": 9,
   "metadata": {},
   "outputs": [
    {
     "name": "stdout",
     "output_type": "stream",
     "text": [
      "25000\n",
      "(25001, 50)\n"
     ]
    }
   ],
   "source": [
    "print(len(vocab))\n",
    "print(embedding_weights.shape)"
   ]
  },
  {
   "cell_type": "code",
   "execution_count": 11,
   "metadata": {},
   "outputs": [],
   "source": [
    "from keras.layers import Embedding\n",
    "\n",
    "# parameter\n",
    "input_size = 1014\n",
    "embedding_size = 50\n",
    "conv_layers = [[256, 7, 3],\n",
    "               [256, 7, 3],\n",
    "               [256, 3, -1],\n",
    "               [256, 3, -1],\n",
    "               [256, 3, -1],\n",
    "               [256, 3, 3]]\n",
    "\n",
    "fully_connected_layers = [1024, 1024]\n",
    "num_of_classes = 4\n",
    "dropout_p = 0.5\n",
    "optimizer = 'adam'\n",
    "loss = 'categorical_crossentropy'\n",
    "\n",
    "\n",
    "embedding_dim = 50\n",
    "embedding_weights = np.zeros((len(vocab) + 1, embedding_dim)) # (25001, 50)\n",
    "\n",
    "for subword, i in vocab.items():\n",
    "    if subword in model.vocab:\n",
    "        embedding_vector = model[subword]\n",
    "        if embedding_vector is not None:\n",
    "            embedding_weights[i] = embedding_vector\n",
    "    else:\n",
    "#         print(subword) # print the subword in vocab but not in model\n",
    "        continue\n",
    "    \n",
    "embedding_layer = Embedding(len(vocab)+1,\n",
    "                            embedding_size,\n",
    "                            weights=[embedding_weights],\n",
    "                            input_length=input_size)\n"
   ]
  },
  {
   "cell_type": "markdown",
   "metadata": {},
   "source": [
    "## Model Construction"
   ]
  },
  {
   "cell_type": "code",
   "execution_count": 14,
   "metadata": {},
   "outputs": [],
   "source": [
    "from keras.layers import Input, Embedding, Activation, Flatten, Dense\n",
    "from keras.layers import Conv1D, MaxPooling1D, Dropout\n",
    "from keras.models import Model"
   ]
  },
  {
   "cell_type": "code",
   "execution_count": 15,
   "metadata": {},
   "outputs": [
    {
     "name": "stdout",
     "output_type": "stream",
     "text": [
      "_________________________________________________________________\n",
      "Layer (type)                 Output Shape              Param #   \n",
      "=================================================================\n",
      "input (InputLayer)           (None, 1014)              0         \n",
      "_________________________________________________________________\n",
      "embedding_1 (Embedding)      (None, 1014, 50)          1250050   \n",
      "_________________________________________________________________\n",
      "conv1d_1 (Conv1D)            (None, 1008, 256)         89856     \n",
      "_________________________________________________________________\n",
      "activation_1 (Activation)    (None, 1008, 256)         0         \n",
      "_________________________________________________________________\n",
      "max_pooling1d_1 (MaxPooling1 (None, 336, 256)          0         \n",
      "_________________________________________________________________\n",
      "conv1d_2 (Conv1D)            (None, 330, 256)          459008    \n",
      "_________________________________________________________________\n",
      "activation_2 (Activation)    (None, 330, 256)          0         \n",
      "_________________________________________________________________\n",
      "max_pooling1d_2 (MaxPooling1 (None, 110, 256)          0         \n",
      "_________________________________________________________________\n",
      "conv1d_3 (Conv1D)            (None, 108, 256)          196864    \n",
      "_________________________________________________________________\n",
      "activation_3 (Activation)    (None, 108, 256)          0         \n",
      "_________________________________________________________________\n",
      "conv1d_4 (Conv1D)            (None, 106, 256)          196864    \n",
      "_________________________________________________________________\n",
      "activation_4 (Activation)    (None, 106, 256)          0         \n",
      "_________________________________________________________________\n",
      "conv1d_5 (Conv1D)            (None, 104, 256)          196864    \n",
      "_________________________________________________________________\n",
      "activation_5 (Activation)    (None, 104, 256)          0         \n",
      "_________________________________________________________________\n",
      "conv1d_6 (Conv1D)            (None, 102, 256)          196864    \n",
      "_________________________________________________________________\n",
      "activation_6 (Activation)    (None, 102, 256)          0         \n",
      "_________________________________________________________________\n",
      "max_pooling1d_3 (MaxPooling1 (None, 34, 256)           0         \n",
      "_________________________________________________________________\n",
      "flatten_1 (Flatten)          (None, 8704)              0         \n",
      "_________________________________________________________________\n",
      "dense_1 (Dense)              (None, 1024)              8913920   \n",
      "_________________________________________________________________\n",
      "dropout_1 (Dropout)          (None, 1024)              0         \n",
      "_________________________________________________________________\n",
      "dense_2 (Dense)              (None, 1024)              1049600   \n",
      "_________________________________________________________________\n",
      "dropout_2 (Dropout)          (None, 1024)              0         \n",
      "_________________________________________________________________\n",
      "dense_3 (Dense)              (None, 4)                 4100      \n",
      "=================================================================\n",
      "Total params: 12,553,990\n",
      "Trainable params: 12,553,990\n",
      "Non-trainable params: 0\n",
      "_________________________________________________________________\n"
     ]
    }
   ],
   "source": [
    "# Model Construction\n",
    "# Input\n",
    "inputs = Input(shape=(input_size,), name='input', dtype='int64')  # shape=(?, 1014)\n",
    "# Embedding\n",
    "x = embedding_layer(inputs)\n",
    "# Conv\n",
    "for filter_num, filter_size, pooling_size in conv_layers:\n",
    "    x = Conv1D(filter_num, filter_size)(x)\n",
    "    x = Activation('relu')(x)\n",
    "    if pooling_size != -1:\n",
    "        x = MaxPooling1D(pool_size=pooling_size)(x)  # Final shape=(None, 34, 256)\n",
    "x = Flatten()(x)  # (None, 8704)\n",
    "# Fully connected layers\n",
    "for dense_size in fully_connected_layers:\n",
    "    x = Dense(dense_size, activation='relu')(x)  # dense_size == 1024\n",
    "    x = Dropout(dropout_p)(x)\n",
    "# Output Layer\n",
    "predictions = Dense(num_of_classes, activation='softmax')(x)\n",
    "# Build model\n",
    "model = Model(inputs=inputs, outputs=predictions)\n",
    "model.compile(optimizer=optimizer, loss=loss, metrics=['accuracy'])  # Adam, categorical_crossentropy\n",
    "model.summary()\n",
    "\n"
   ]
  },
  {
   "cell_type": "markdown",
   "metadata": {},
   "source": [
    "## Train the model"
   ]
  },
  {
   "cell_type": "code",
   "execution_count": 16,
   "metadata": {},
   "outputs": [
    {
     "name": "stdout",
     "output_type": "stream",
     "text": [
      "Train on 1000 samples, validate on 100 samples\n",
      "Epoch 1/10\n",
      " - 31s - loss: 1.3903 - acc: 0.2680 - val_loss: 1.3319 - val_acc: 0.2600\n",
      "Epoch 2/10\n",
      " - 82s - loss: 1.3221 - acc: 0.3430 - val_loss: 1.1979 - val_acc: 0.3100\n",
      "Epoch 3/10\n",
      " - 160s - loss: 1.1174 - acc: 0.4790 - val_loss: 0.9422 - val_acc: 0.6700\n",
      "Epoch 4/10\n",
      " - 38s - loss: 1.0302 - acc: 0.5080 - val_loss: 0.9930 - val_acc: 0.4700\n",
      "Epoch 5/10\n",
      " - 38s - loss: 0.9121 - acc: 0.5560 - val_loss: 0.8857 - val_acc: 0.6000\n",
      "Epoch 6/10\n",
      " - 33s - loss: 0.8093 - acc: 0.6170 - val_loss: 0.8162 - val_acc: 0.6400\n",
      "Epoch 7/10\n",
      " - 32s - loss: 0.6976 - acc: 0.6830 - val_loss: 0.8465 - val_acc: 0.6200\n",
      "Epoch 8/10\n",
      " - 31s - loss: 0.6499 - acc: 0.6920 - val_loss: 0.9776 - val_acc: 0.5600\n",
      "Epoch 9/10\n",
      " - 34s - loss: 0.6081 - acc: 0.7240 - val_loss: 0.8845 - val_acc: 0.7300\n",
      "Epoch 10/10\n",
      " - 34s - loss: 0.5432 - acc: 0.7600 - val_loss: 0.7278 - val_acc: 0.7100\n"
     ]
    },
    {
     "data": {
      "text/plain": [
       "<keras.callbacks.History at 0x1a4d306ef0>"
      ]
     },
     "execution_count": 16,
     "metadata": {},
     "output_type": "execute_result"
    }
   ],
   "source": [
    "# prepare the data \n",
    "indices = np.arange(train_data.shape[0])\n",
    "np.random.shuffle(indices)\n",
    "\n",
    "x_train = train_data[indices][:1000]\n",
    "y_train = train_classes[indices][:1000]\n",
    "\n",
    "x_test = test_data[:100]\n",
    "y_test = test_classes[:100]\n",
    "\n",
    "# Training\n",
    "model.fit(x_train, y_train,\n",
    "          validation_data=(x_test, y_test),\n",
    "          batch_size=128,\n",
    "          epochs=10,\n",
    "          verbose=2)"
   ]
  },
  {
   "cell_type": "code",
   "execution_count": null,
   "metadata": {},
   "outputs": [],
   "source": []
  }
 ],
 "metadata": {
  "kernelspec": {
   "display_name": "Python [conda env:py36]",
   "language": "python",
   "name": "conda-env-py36-py"
  },
  "language_info": {
   "codemirror_mode": {
    "name": "ipython",
    "version": 3
   },
   "file_extension": ".py",
   "mimetype": "text/x-python",
   "name": "python",
   "nbconvert_exporter": "python",
   "pygments_lexer": "ipython3",
   "version": "3.6.4"
  }
 },
 "nbformat": 4,
 "nbformat_minor": 2
}
